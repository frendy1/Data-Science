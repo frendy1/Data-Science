{
 "cells": [
  {
   "cell_type": "markdown",
   "metadata": {},
   "source": [
    "\n",
    "Variables:\n",
    "\n",
    "cntry Nominal\n",
    "idno Nominal\n",
    "year Ratio\n",
    "tvtot Ratio\n",
    "ppltrst Ordinal\n",
    "pplfair Ordinal\n",
    "pplhlp Ordinal\n",
    "happy Ordinal\n",
    "sclmeet Ordinal\n",
    "sclact Ordinal\n",
    "gndr Nominal\n",
    "agea Ratio\n",
    "partner Nominal"
   ]
  }
 ],
 "metadata": {
  "kernelspec": {
   "display_name": "Python 3",
   "language": "python",
   "name": "python3"
  },
  "language_info": {
   "codemirror_mode": {
    "name": "ipython",
    "version": 3
   },
   "file_extension": ".py",
   "mimetype": "text/x-python",
   "name": "python",
   "nbconvert_exporter": "python",
   "pygments_lexer": "ipython3",
   "version": "3.7.1"
  }
 },
 "nbformat": 4,
 "nbformat_minor": 2
}

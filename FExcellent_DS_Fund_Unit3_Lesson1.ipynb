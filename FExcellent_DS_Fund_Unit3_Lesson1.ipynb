{
 "cells": [
  {
   "cell_type": "code",
   "execution_count": 326,
   "metadata": {},
   "outputs": [],
   "source": [
    "from matplotlib import pyplot as plt\n",
    "import copy\n",
    "import statistics\n",
    "import pandas as pd\n",
    "import numpy as np\n",
    "%matplotlib inline"
   ]
  },
  {
   "cell_type": "markdown",
   "metadata": {},
   "source": [
    "## Unit 3 Lesson 1 Section 2"
   ]
  },
  {
   "cell_type": "code",
   "execution_count": 2,
   "metadata": {},
   "outputs": [
    {
     "data": {
      "text/html": [
       "<div>\n",
       "<style scoped>\n",
       "    .dataframe tbody tr th:only-of-type {\n",
       "        vertical-align: middle;\n",
       "    }\n",
       "\n",
       "    .dataframe tbody tr th {\n",
       "        vertical-align: top;\n",
       "    }\n",
       "\n",
       "    .dataframe thead th {\n",
       "        text-align: right;\n",
       "    }\n",
       "</style>\n",
       "<table border=\"1\" class=\"dataframe\">\n",
       "  <thead>\n",
       "    <tr style=\"text-align: right;\">\n",
       "      <th></th>\n",
       "      <th>age</th>\n",
       "    </tr>\n",
       "  </thead>\n",
       "  <tbody>\n",
       "    <tr>\n",
       "      <th>1</th>\n",
       "      <td>28</td>\n",
       "    </tr>\n",
       "    <tr>\n",
       "      <th>2</th>\n",
       "      <td>42</td>\n",
       "    </tr>\n",
       "    <tr>\n",
       "      <th>3</th>\n",
       "      <td>27</td>\n",
       "    </tr>\n",
       "    <tr>\n",
       "      <th>4</th>\n",
       "      <td>24</td>\n",
       "    </tr>\n",
       "    <tr>\n",
       "      <th>5</th>\n",
       "      <td>35</td>\n",
       "    </tr>\n",
       "    <tr>\n",
       "      <th>6</th>\n",
       "      <td>54</td>\n",
       "    </tr>\n",
       "    <tr>\n",
       "      <th>7</th>\n",
       "      <td>35</td>\n",
       "    </tr>\n",
       "    <tr>\n",
       "      <th>8</th>\n",
       "      <td>37</td>\n",
       "    </tr>\n",
       "  </tbody>\n",
       "</table>\n",
       "</div>"
      ],
      "text/plain": [
       "   age\n",
       "1   28\n",
       "2   42\n",
       "3   27\n",
       "4   24\n",
       "5   35\n",
       "6   54\n",
       "7   35\n",
       "8   37"
      ]
     },
     "execution_count": 2,
     "metadata": {},
     "output_type": "execute_result"
    }
   ],
   "source": [
    "# Make a blank data frame.\n",
    "df = pd.DataFrame()\n",
    "\n",
    "# Populate it with data.\n",
    "my_index = [1,2,3,4,5,6,7,8]\n",
    "df['age'] = [28, 42, 27, 24, 35, 54, 35, 37]#Not sure about age of person 5\n",
    "df.index = my_index\n",
    "df"
   ]
  },
  {
   "cell_type": "code",
   "execution_count": 3,
   "metadata": {},
   "outputs": [
    {
     "name": "stdout",
     "output_type": "stream",
     "text": [
      "age_mean1_py 35.25\n",
      "age_mean2_np 35.25\n",
      "age_mean2_pd 35.25\n"
     ]
    }
   ],
   "source": [
    "# Using built-in Python functionality.\n",
    "age_mean1_py = sum(df['age']) / len(df['age'])\n",
    "age_mean2_np = np.mean(df['age'])\n",
    "age_mean2_pd = df['age'].mean()\n",
    "\n",
    "print(\"age_mean1_py \" + str(age_mean1_py))\n",
    "print(\"age_mean2_np \" + str(age_mean2_np))\n",
    "print(\"age_mean2_pd \" + str(age_mean2_pd))"
   ]
  },
  {
   "cell_type": "code",
   "execution_count": 4,
   "metadata": {},
   "outputs": [
    {
     "name": "stdout",
     "output_type": "stream",
     "text": [
      "df\n",
      "--------\n",
      "\n",
      "                    age\n",
      "1                    28\n",
      "2                    56\n",
      "3                    27\n",
      "4                    24\n",
      "5  [[35, 36], [45, 46]]\n",
      "6                    54\n",
      "7                    35\n",
      "8                    37\n",
      "\n",
      "--------\n",
      "\n",
      "df2\n",
      "--------\n",
      "\n",
      "                    age\n",
      "1                    28\n",
      "2                    56\n",
      "3                    27\n",
      "4                    24\n",
      "5  [[35, 36], [45, 46]]\n",
      "6                    54\n",
      "7                    35\n",
      "8                    37\n"
     ]
    },
    {
     "data": {
      "text/plain": [
       "list"
      ]
     },
     "execution_count": 4,
     "metadata": {},
     "output_type": "execute_result"
    }
   ],
   "source": [
    "# Populate it with data.\n",
    "df['age'] =  [28, 42, 27, 24, [[35,36],[45,46]], 54, 35, 37]\n",
    "df2 = df #Assignment changes df also, not what I want.\n",
    "df2['age'][2,2] = 56\n",
    "print(\"df\\n--------\\n\")\n",
    "print(df)\n",
    "print(\"\\n--------\\n\")\n",
    "print(\"df2\\n--------\\n\")\n",
    "print(df2)\n",
    "type(df['age'][5])"
   ]
  },
  {
   "cell_type": "code",
   "execution_count": 5,
   "metadata": {},
   "outputs": [
    {
     "name": "stdout",
     "output_type": "stream",
     "text": [
      "df\n",
      "--------\n",
      "\n",
      "                  age\n",
      "1                  28\n",
      "2                  42\n",
      "3                  27\n",
      "4                  24\n",
      "5  [35, 36, [45, 46]]\n",
      "6                  54\n",
      "7                  35\n",
      "8                  37\n",
      "\n",
      "--------\n",
      "\n",
      "df2\n",
      "--------\n",
      "\n",
      "                  age\n",
      "1                  28\n",
      "2                  56\n",
      "3                  27\n",
      "4                  24\n",
      "5  [35, 36, [45, 46]]\n",
      "6                  54\n",
      "7                  35\n",
      "8                  37\n"
     ]
    }
   ],
   "source": [
    "# Populate it with data.\n",
    "df['age'] =  [28, 42, 27, 24, [35,36,[45,46]], 54, 35, 37]\n",
    "df2 = df.copy() #Copying does not change df.\n",
    "df2['age'][2,2] = 56\n",
    "print(\"df\\n--------\\n\")\n",
    "print(df)\n",
    "print(\"\\n--------\\n\")\n",
    "print(\"df2\\n--------\\n\")\n",
    "print(df2)\n"
   ]
  },
  {
   "cell_type": "code",
   "execution_count": 8,
   "metadata": {},
   "outputs": [
    {
     "name": "stdout",
     "output_type": "stream",
     "text": [
      "df\n",
      "--------\n",
      "\n",
      "                  age\n",
      "1                  28\n",
      "2                  42\n",
      "3                  27\n",
      "4                  24\n",
      "5  [35, 36, [45, 46]]\n",
      "6                  54\n",
      "7                  35\n",
      "8                  37\n",
      "\n",
      "--------\n",
      "\n",
      "df2\n",
      "--------\n",
      "\n",
      "                  age\n",
      "1                  28\n",
      "2                  56\n",
      "3                  27\n",
      "4                  24\n",
      "5  [35, 36, [45, 46]]\n",
      "6                  54\n",
      "7                  35\n",
      "8                  37\n"
     ]
    }
   ],
   "source": [
    "# Populate it with data.\n",
    "df['age'] =  [28, 42, 27, 24, [35,36,[45,46]], 54, 35, 37]\n",
    "df2 = copy.deepcopy(df) #Copying does not change df.\n",
    "df2['age'][2,2] = 56\n",
    "print(\"df\\n--------\\n\")\n",
    "print(df)\n",
    "print(\"\\n--------\\n\")\n",
    "print(\"df2\\n--------\\n\")\n",
    "print(df2)"
   ]
  },
  {
   "cell_type": "code",
   "execution_count": 9,
   "metadata": {},
   "outputs": [
    {
     "data": {
      "text/html": [
       "<div>\n",
       "<style scoped>\n",
       "    .dataframe tbody tr th:only-of-type {\n",
       "        vertical-align: middle;\n",
       "    }\n",
       "\n",
       "    .dataframe tbody tr th {\n",
       "        vertical-align: top;\n",
       "    }\n",
       "\n",
       "    .dataframe thead th {\n",
       "        text-align: right;\n",
       "    }\n",
       "</style>\n",
       "<table border=\"1\" class=\"dataframe\">\n",
       "  <thead>\n",
       "    <tr style=\"text-align: right;\">\n",
       "      <th></th>\n",
       "      <th>age</th>\n",
       "    </tr>\n",
       "  </thead>\n",
       "  <tbody>\n",
       "    <tr>\n",
       "      <th>1</th>\n",
       "      <td>28</td>\n",
       "    </tr>\n",
       "    <tr>\n",
       "      <th>2</th>\n",
       "      <td>42</td>\n",
       "    </tr>\n",
       "    <tr>\n",
       "      <th>3</th>\n",
       "      <td>27</td>\n",
       "    </tr>\n",
       "    <tr>\n",
       "      <th>4</th>\n",
       "      <td>24</td>\n",
       "    </tr>\n",
       "    <tr>\n",
       "      <th>5</th>\n",
       "      <td>35</td>\n",
       "    </tr>\n",
       "    <tr>\n",
       "      <th>6</th>\n",
       "      <td>54</td>\n",
       "    </tr>\n",
       "    <tr>\n",
       "      <th>7</th>\n",
       "      <td>35</td>\n",
       "    </tr>\n",
       "    <tr>\n",
       "      <th>8</th>\n",
       "      <td>37</td>\n",
       "    </tr>\n",
       "  </tbody>\n",
       "</table>\n",
       "</div>"
      ],
      "text/plain": [
       "   age\n",
       "1   28\n",
       "2   42\n",
       "3   27\n",
       "4   24\n",
       "5   35\n",
       "6   54\n",
       "7   35\n",
       "8   37"
      ]
     },
     "execution_count": 9,
     "metadata": {},
     "output_type": "execute_result"
    }
   ],
   "source": [
    "#Reset df to original\n",
    "df['age'] = [28, 42, 27, 24, 35, 54, 35, 37]\n",
    "df"
   ]
  },
  {
   "cell_type": "code",
   "execution_count": 10,
   "metadata": {},
   "outputs": [
    {
     "data": {
      "text/plain": [
       "35.0"
      ]
     },
     "execution_count": 10,
     "metadata": {},
     "output_type": "execute_result"
    }
   ],
   "source": [
    "#med_stat = statistics.median(df['age'])\n",
    "#med_stat\n",
    "\n",
    "#med_np1 = np.median(df['age'])\n",
    "#med_np1\n",
    "df['age'].median()"
   ]
  },
  {
   "cell_type": "code",
   "execution_count": 11,
   "metadata": {},
   "outputs": [
    {
     "name": "stdout",
     "output_type": "stream",
     "text": [
      "df\n",
      "--------\n",
      "\n",
      "   age\n",
      "1   28\n",
      "2   42\n",
      "3   27\n",
      "4   24\n",
      "5   35\n",
      "6   54\n",
      "7   35\n",
      "8   37\n",
      "\n",
      "--------\n",
      "\n",
      "df3\n",
      "--------\n",
      "\n",
      "   age\n",
      "1   37\n",
      "2   42\n",
      "3   27\n",
      "4   24\n",
      "5   35\n",
      "6   54\n",
      "7   35\n",
      "8   37\n"
     ]
    }
   ],
   "source": [
    "\n",
    "df3 = df.copy()\n",
    "df3['age'][1] = 37\n",
    "\n",
    "#Trust, but verify.\n",
    "print(\"df\\n--------\\n\")\n",
    "print(df)\n",
    "print(\"\\n--------\\n\")\n",
    "print(\"df3\\n--------\\n\")\n",
    "print(df3)\n",
    "\n"
   ]
  },
  {
   "cell_type": "code",
   "execution_count": 12,
   "metadata": {},
   "outputs": [
    {
     "data": {
      "text/plain": [
       "0    35\n",
       "1    37\n",
       "dtype: int64"
      ]
     },
     "execution_count": 12,
     "metadata": {},
     "output_type": "execute_result"
    }
   ],
   "source": [
    "#Lecture mentions issue with more than one mode. However, following dataframe runs ok.\n",
    "df3['age'].mode()"
   ]
  },
  {
   "cell_type": "code",
   "execution_count": 18,
   "metadata": {},
   "outputs": [
    {
     "name": "stdout",
     "output_type": "stream",
     "text": [
      "(array([24, 27, 28, 35, 37, 42, 54], dtype=int64), array([1, 1, 1, 2, 1, 1, 1], dtype=int64))\n",
      "3\n",
      "35\n"
     ]
    }
   ],
   "source": [
    "# Generate a list of unique elements along with how often they occur.\n",
    "(values, counts) = np.unique(df['age'], return_counts=True)\n",
    "\n",
    "print((values, counts))\n",
    "\n",
    "# The location in the values list of the most-frequently-occurring element.\n",
    "ind = np.argmax(counts)\n",
    "print(ind)\n",
    "\n",
    "# The most frequent element.\n",
    "values[ind]\n",
    "print(values[ind])"
   ]
  },
  {
   "cell_type": "markdown",
   "metadata": {},
   "source": [
    "## Unit 3 Lesson 1 Section 3"
   ]
  },
  {
   "cell_type": "code",
   "execution_count": 35,
   "metadata": {},
   "outputs": [
    {
     "name": "stdout",
     "output_type": "stream",
     "text": [
      "\n",
      "df-----var-----------------\n",
      "\n",
      "1    28\n",
      "2    42\n",
      "3    27\n",
      "4    24\n",
      "5    35\n",
      "6    54\n",
      "7    35\n",
      "8    37\n",
      "Name: age, dtype: int64\n",
      "92.5\n",
      "\n",
      "np-------var---------------\n",
      "\n",
      "1    28\n",
      "2    42\n",
      "3    27\n",
      "4    24\n",
      "5    35\n",
      "6    54\n",
      "7    35\n",
      "8    37\n",
      "Name: age, dtype: int64\n",
      "92.5\n"
     ]
    }
   ],
   "source": [
    "df_var = df['age'].var(ddof=1)\n",
    "print('\\ndf-----var-----------------\\n')\n",
    "print(df['age'])\n",
    "print(df_var)\n",
    "\n",
    "print('\\nnp-------var---------------\\n')\n",
    "np_var = np.var(df.age,ddof=1)\n",
    "print(df.age)\n",
    "print(np_var)"
   ]
  },
  {
   "cell_type": "code",
   "execution_count": 37,
   "metadata": {},
   "outputs": [
    {
     "name": "stdout",
     "output_type": "stream",
     "text": [
      "\n",
      "df-----std-----------------\n",
      "\n",
      "9.617692030835672\n",
      "\n",
      "np-----std-----------------\n",
      "\n",
      "9.617692030835672\n"
     ]
    }
   ],
   "source": [
    "df_std = df['age'].std(ddof=1)\n",
    "print('\\ndf-----std-----------------\\n')\n",
    "print(df_std)\n",
    "print('\\nnp-----std-----------------\\n')\n",
    "np_std = np.std(df['age'], ddof=1)\n",
    "print(np_std)"
   ]
  },
  {
   "cell_type": "code",
   "execution_count": 40,
   "metadata": {},
   "outputs": [
    {
     "name": "stdout",
     "output_type": "stream",
     "text": [
      "\n",
      "df-----sem-----------------\n",
      "\n",
      "3.4003676271838605\n",
      "\n",
      "np-----sem-----------------\n",
      "\n",
      "3.4003676271838605\n"
     ]
    }
   ],
   "source": [
    "df_sem = df['age'].sem(ddof=1)\n",
    "print('\\ndf-----sem-----------------\\n')\n",
    "print(df_sem)\n",
    "print('\\nnp-----sem-----------------\\n')\n",
    "np_std = np.std(df['age'], ddof=1)\n",
    "np_sem = (np_std) / (np.sqrt(len(df['age'])))\n",
    "print(np_sem)"
   ]
  },
  {
   "cell_type": "code",
   "execution_count": 50,
   "metadata": {},
   "outputs": [
    {
     "data": {
      "image/png": "[encoded data removed]",
      "text/plain": [
       "<Figure size 432x288 with 2 Axes>"
      ]
     },
     "metadata": {
      "needs_background": "light"
     },
     "output_type": "display_data"
    },
    {
     "name": "stdout",
     "output_type": "stream",
     "text": [
      "\n",
      "print max value for each ---------------------\n",
      "\n",
      "low_var     102.013825\n",
      "high_var    434.862126\n",
      "dtype: float64\n",
      "\n",
      " min value for each ----------------------------\n",
      "\n",
      "low_var      20.222256\n",
      "high_var   -305.702132\n",
      "dtype: float64\n"
     ]
    }
   ],
   "source": [
    "# First, create an empty dataframe to store your variables-to-be.\n",
    "pop=pd.DataFrame()\n",
    "\n",
    "# Then create two variables with mean = 60, one with a low standard\n",
    "# deviation (sd=10) and one with a high standard deviation (sd=100).\n",
    "pop['low_var']=np.random.normal(60, 10, 10000)\n",
    "pop['high_var']=np.random.normal(60, 100, 10000)\n",
    "\n",
    "# Finally, create histograms of the two variables.\n",
    "pop.hist(layout=(2, 1), sharex=True)\n",
    "plt.show()\n",
    "\n",
    "# Calculate and print the maximum and minimum values for each variable.\n",
    "print('\\nprint max value for each ---------------------\\n')\n",
    "print(pop.max())\n",
    "print('\\n min value for each ----------------------------\\n')\n",
    "print(pop.min())"
   ]
  },
  {
   "cell_type": "code",
   "execution_count": 229,
   "metadata": {},
   "outputs": [
    {
     "data": {
      "image/png": "[encoded data removed]",
      "text/plain": [
       "<Figure size 432x288 with 2 Axes>"
      ]
     },
     "metadata": {
      "needs_background": "light"
     },
     "output_type": "display_data"
    },
    {
     "name": "stdout",
     "output_type": "stream",
     "text": [
      "\n",
      " mean value for each ----------------------------\n",
      "\n",
      "low_var     58.48695\n",
      "high_var    54.99338\n",
      "dtype: float64\n",
      "\n",
      " std value for each ----------------------------\n",
      "\n",
      "low_var     11.152366\n",
      "high_var    90.352678\n",
      "dtype: float64\n"
     ]
    }
   ],
   "source": [
    "# Take a random sample of 100 observations from each variable\n",
    "# and store it in a new dataframe.\n",
    "sample=pd.DataFrame()\n",
    "sample['low_var'] = np.random.choice(pop['low_var'], 100)\n",
    "sample['high_var']=np.random.choice(pop['high_var'], 100)\n",
    "\n",
    "# Again, visualize the data. Note that here we're using a pandas method to \n",
    "# create the histogram.\n",
    "sample.hist()\n",
    "plt.show()\n",
    "\n",
    "# Check how well the sample replicates the population.\n",
    "print('\\n mean value for each ----------------------------\\n')\n",
    "print(sample.mean())\n",
    "\n",
    "print('\\n std value for each ----------------------------\\n')\n",
    "print(sample.std(ddof=1))"
   ]
  },
  {
   "cell_type": "markdown",
   "metadata": {},
   "source": [
    "## As we increase datapoints being sampled, returned mean value becomes more precise (see below)."
   ]
  },
  {
   "cell_type": "code",
   "execution_count": 325,
   "metadata": {},
   "outputs": [
    {
     "data": {
      "image/png": "[encoded data removed]",
      "text/plain": [
       "<Figure size 432x288 with 2 Axes>"
      ]
     },
     "metadata": {
      "needs_background": "light"
     },
     "output_type": "display_data"
    },
    {
     "name": "stdout",
     "output_type": "stream",
     "text": [
      "\n",
      " mean value for each ----------------------------\n",
      "\n",
      "low_var     60.061502\n",
      "high_var    57.107800\n",
      "dtype: float64\n",
      "\n",
      " std value for each ----------------------------\n",
      "\n",
      "low_var      10.034643\n",
      "high_var    100.254042\n",
      "dtype: float64\n"
     ]
    }
   ],
   "source": [
    "# Take a random sample of 100 observations from each variable\n",
    "# and store it in a new dataframe.\n",
    "sample=pd.DataFrame()\n",
    "sample['low_var'] = np.random.choice(pop['low_var'], 1000)\n",
    "sample['high_var']=np.random.choice(pop['high_var'], 1000)\n",
    "\n",
    "# Again, visualize the data. Note that here we're using a pandas method to \n",
    "# create the histogram.\n",
    "sample.hist()\n",
    "plt.show()\n",
    "\n",
    "# Check how well the sample replicates the population.\n",
    "print('\\n mean value for each ----------------------------\\n')\n",
    "print(sample.mean())\n",
    "\n",
    "print('\\n std value for each ----------------------------\\n')\n",
    "print(sample.std(ddof=1))"
   ]
  },
  {
   "cell_type": "markdown",
   "metadata": {},
   "source": [
    "## Unit 3 Lesson 1 Section 4"
   ]
  },
  {
   "cell_type": "code",
   "execution_count": 328,
   "metadata": {},
   "outputs": [],
   "source": [
    "# Set up the data\n",
    "data = pd.DataFrame()\n",
    "data['gender'] = ['male'] * 100 + ['female'] * 100\n",
    "data['height'] = np.append(np.random.normal(69, 8, 100), np.random.normal(64, 5, 100))\n",
    "data['weight'] = np.append(np.random.normal(195, 25, 100), np.random.normal(166, 15, 100))"
   ]
  },
  {
   "cell_type": "code",
   "execution_count": 332,
   "metadata": {},
   "outputs": [
    {
     "data": {
      "text/html": [
       "<div>\n",
       "<style scoped>\n",
       "    .dataframe tbody tr th:only-of-type {\n",
       "        vertical-align: middle;\n",
       "    }\n",
       "\n",
       "    .dataframe tbody tr th {\n",
       "        vertical-align: top;\n",
       "    }\n",
       "\n",
       "    .dataframe thead th {\n",
       "        text-align: right;\n",
       "    }\n",
       "</style>\n",
       "<table border=\"1\" class=\"dataframe\">\n",
       "  <thead>\n",
       "    <tr style=\"text-align: right;\">\n",
       "      <th></th>\n",
       "      <th>gender</th>\n",
       "      <th>height</th>\n",
       "      <th>weight</th>\n",
       "    </tr>\n",
       "  </thead>\n",
       "  <tbody>\n",
       "    <tr>\n",
       "      <th>0</th>\n",
       "      <td>male</td>\n",
       "      <td>82.272536</td>\n",
       "      <td>203.715660</td>\n",
       "    </tr>\n",
       "    <tr>\n",
       "      <th>1</th>\n",
       "      <td>male</td>\n",
       "      <td>74.015091</td>\n",
       "      <td>181.605283</td>\n",
       "    </tr>\n",
       "    <tr>\n",
       "      <th>2</th>\n",
       "      <td>male</td>\n",
       "      <td>70.173378</td>\n",
       "      <td>176.687356</td>\n",
       "    </tr>\n",
       "    <tr>\n",
       "      <th>3</th>\n",
       "      <td>male</td>\n",
       "      <td>71.827613</td>\n",
       "      <td>193.701811</td>\n",
       "    </tr>\n",
       "    <tr>\n",
       "      <th>4</th>\n",
       "      <td>male</td>\n",
       "      <td>65.041912</td>\n",
       "      <td>148.758576</td>\n",
       "    </tr>\n",
       "  </tbody>\n",
       "</table>\n",
       "</div>"
      ],
      "text/plain": [
       "  gender     height      weight\n",
       "0   male  82.272536  203.715660\n",
       "1   male  74.015091  181.605283\n",
       "2   male  70.173378  176.687356\n",
       "3   male  71.827613  193.701811\n",
       "4   male  65.041912  148.758576"
      ]
     },
     "execution_count": 332,
     "metadata": {},
     "output_type": "execute_result"
    }
   ],
   "source": [
    "data.head()"
   ]
  },
  {
   "cell_type": "code",
   "execution_count": 334,
   "metadata": {},
   "outputs": [
    {
     "data": {
      "text/plain": [
       "66.10980514856715"
      ]
     },
     "execution_count": 334,
     "metadata": {},
     "output_type": "execute_result"
    }
   ],
   "source": [
    "data.height.mean()"
   ]
  },
  {
   "cell_type": "code",
   "execution_count": 336,
   "metadata": {},
   "outputs": [
    {
     "data": {
      "text/plain": [
       "6.906091365929371"
      ]
     },
     "execution_count": 336,
     "metadata": {},
     "output_type": "execute_result"
    }
   ],
   "source": [
    "data.height.std()"
   ]
  },
  {
   "cell_type": "code",
   "execution_count": 337,
   "metadata": {},
   "outputs": [
    {
     "data": {
      "text/html": [
       "<div>\n",
       "<style scoped>\n",
       "    .dataframe tbody tr th:only-of-type {\n",
       "        vertical-align: middle;\n",
       "    }\n",
       "\n",
       "    .dataframe tbody tr th {\n",
       "        vertical-align: top;\n",
       "    }\n",
       "\n",
       "    .dataframe thead th {\n",
       "        text-align: right;\n",
       "    }\n",
       "</style>\n",
       "<table border=\"1\" class=\"dataframe\">\n",
       "  <thead>\n",
       "    <tr style=\"text-align: right;\">\n",
       "      <th></th>\n",
       "      <th>height</th>\n",
       "      <th>weight</th>\n",
       "    </tr>\n",
       "  </thead>\n",
       "  <tbody>\n",
       "    <tr>\n",
       "      <th>count</th>\n",
       "      <td>200.000000</td>\n",
       "      <td>200.000000</td>\n",
       "    </tr>\n",
       "    <tr>\n",
       "      <th>mean</th>\n",
       "      <td>66.109805</td>\n",
       "      <td>177.591756</td>\n",
       "    </tr>\n",
       "    <tr>\n",
       "      <th>std</th>\n",
       "      <td>6.906091</td>\n",
       "      <td>24.207985</td>\n",
       "    </tr>\n",
       "    <tr>\n",
       "      <th>min</th>\n",
       "      <td>49.244214</td>\n",
       "      <td>115.207246</td>\n",
       "    </tr>\n",
       "    <tr>\n",
       "      <th>25%</th>\n",
       "      <td>61.543933</td>\n",
       "      <td>161.093991</td>\n",
       "    </tr>\n",
       "    <tr>\n",
       "      <th>50%</th>\n",
       "      <td>65.029824</td>\n",
       "      <td>174.716992</td>\n",
       "    </tr>\n",
       "    <tr>\n",
       "      <th>75%</th>\n",
       "      <td>70.182714</td>\n",
       "      <td>192.583814</td>\n",
       "    </tr>\n",
       "    <tr>\n",
       "      <th>max</th>\n",
       "      <td>88.018674</td>\n",
       "      <td>245.315696</td>\n",
       "    </tr>\n",
       "  </tbody>\n",
       "</table>\n",
       "</div>"
      ],
      "text/plain": [
       "           height      weight\n",
       "count  200.000000  200.000000\n",
       "mean    66.109805  177.591756\n",
       "std      6.906091   24.207985\n",
       "min     49.244214  115.207246\n",
       "25%     61.543933  161.093991\n",
       "50%     65.029824  174.716992\n",
       "75%     70.182714  192.583814\n",
       "max     88.018674  245.315696"
      ]
     },
     "execution_count": 337,
     "metadata": {},
     "output_type": "execute_result"
    }
   ],
   "source": [
    "data.describe()"
   ]
  },
  {
   "cell_type": "code",
   "execution_count": 338,
   "metadata": {},
   "outputs": [
    {
     "data": {
      "text/html": [
       "<div>\n",
       "<style scoped>\n",
       "    .dataframe tbody tr th:only-of-type {\n",
       "        vertical-align: middle;\n",
       "    }\n",
       "\n",
       "    .dataframe tbody tr th {\n",
       "        vertical-align: top;\n",
       "    }\n",
       "\n",
       "    .dataframe thead tr th {\n",
       "        text-align: left;\n",
       "    }\n",
       "\n",
       "    .dataframe thead tr:last-of-type th {\n",
       "        text-align: right;\n",
       "    }\n",
       "</style>\n",
       "<table border=\"1\" class=\"dataframe\">\n",
       "  <thead>\n",
       "    <tr>\n",
       "      <th></th>\n",
       "      <th colspan=\"8\" halign=\"left\">height</th>\n",
       "      <th colspan=\"8\" halign=\"left\">weight</th>\n",
       "    </tr>\n",
       "    <tr>\n",
       "      <th></th>\n",
       "      <th>count</th>\n",
       "      <th>mean</th>\n",
       "      <th>std</th>\n",
       "      <th>min</th>\n",
       "      <th>25%</th>\n",
       "      <th>50%</th>\n",
       "      <th>75%</th>\n",
       "      <th>max</th>\n",
       "      <th>count</th>\n",
       "      <th>mean</th>\n",
       "      <th>std</th>\n",
       "      <th>min</th>\n",
       "      <th>25%</th>\n",
       "      <th>50%</th>\n",
       "      <th>75%</th>\n",
       "      <th>max</th>\n",
       "    </tr>\n",
       "    <tr>\n",
       "      <th>gender</th>\n",
       "      <th></th>\n",
       "      <th></th>\n",
       "      <th></th>\n",
       "      <th></th>\n",
       "      <th></th>\n",
       "      <th></th>\n",
       "      <th></th>\n",
       "      <th></th>\n",
       "      <th></th>\n",
       "      <th></th>\n",
       "      <th></th>\n",
       "      <th></th>\n",
       "      <th></th>\n",
       "      <th></th>\n",
       "      <th></th>\n",
       "      <th></th>\n",
       "    </tr>\n",
       "  </thead>\n",
       "  <tbody>\n",
       "    <tr>\n",
       "      <th>female</th>\n",
       "      <td>100.0</td>\n",
       "      <td>63.182154</td>\n",
       "      <td>5.127358</td>\n",
       "      <td>51.927545</td>\n",
       "      <td>59.664635</td>\n",
       "      <td>62.803681</td>\n",
       "      <td>66.462237</td>\n",
       "      <td>75.641498</td>\n",
       "      <td>100.0</td>\n",
       "      <td>165.273278</td>\n",
       "      <td>14.943350</td>\n",
       "      <td>129.198663</td>\n",
       "      <td>156.347123</td>\n",
       "      <td>165.360038</td>\n",
       "      <td>174.983644</td>\n",
       "      <td>208.694641</td>\n",
       "    </tr>\n",
       "    <tr>\n",
       "      <th>male</th>\n",
       "      <td>100.0</td>\n",
       "      <td>69.037456</td>\n",
       "      <td>7.229434</td>\n",
       "      <td>49.244214</td>\n",
       "      <td>63.740396</td>\n",
       "      <td>67.804285</td>\n",
       "      <td>74.088963</td>\n",
       "      <td>88.018674</td>\n",
       "      <td>100.0</td>\n",
       "      <td>189.910234</td>\n",
       "      <td>25.458074</td>\n",
       "      <td>115.207246</td>\n",
       "      <td>174.257737</td>\n",
       "      <td>190.085643</td>\n",
       "      <td>208.223408</td>\n",
       "      <td>245.315696</td>\n",
       "    </tr>\n",
       "  </tbody>\n",
       "</table>\n",
       "</div>"
      ],
      "text/plain": [
       "       height                                                        \\\n",
       "        count       mean       std        min        25%        50%   \n",
       "gender                                                                \n",
       "female  100.0  63.182154  5.127358  51.927545  59.664635  62.803681   \n",
       "male    100.0  69.037456  7.229434  49.244214  63.740396  67.804285   \n",
       "\n",
       "                             weight                                     \\\n",
       "              75%        max  count        mean        std         min   \n",
       "gender                                                                   \n",
       "female  66.462237  75.641498  100.0  165.273278  14.943350  129.198663   \n",
       "male    74.088963  88.018674  100.0  189.910234  25.458074  115.207246   \n",
       "\n",
       "                                                        \n",
       "               25%         50%         75%         max  \n",
       "gender                                                  \n",
       "female  156.347123  165.360038  174.983644  208.694641  \n",
       "male    174.257737  190.085643  208.223408  245.315696  "
      ]
     },
     "execution_count": 338,
     "metadata": {},
     "output_type": "execute_result"
    }
   ],
   "source": [
    "data.groupby('gender').describe()"
   ]
  },
  {
   "cell_type": "code",
   "execution_count": 339,
   "metadata": {},
   "outputs": [
    {
     "data": {
      "text/plain": [
       "male      100\n",
       "female    100\n",
       "Name: gender, dtype: int64"
      ]
     },
     "execution_count": 339,
     "metadata": {},
     "output_type": "execute_result"
    }
   ],
   "source": [
    "data.gender.value_counts()"
   ]
  },
  {
   "cell_type": "code",
   "execution_count": 340,
   "metadata": {},
   "outputs": [
    {
     "data": {
      "text/plain": [
       "212.511269    1\n",
       "169.910313    1\n",
       "179.426196    1\n",
       "137.380305    1\n",
       "179.525837    1\n",
       "Name: weight, dtype: int64"
      ]
     },
     "execution_count": 340,
     "metadata": {},
     "output_type": "execute_result"
    }
   ],
   "source": [
    "data.weight.value_counts().head()"
   ]
  },
  {
   "cell_type": "code",
   "execution_count": 344,
   "metadata": {},
   "outputs": [
    {
     "data": {
      "text/plain": [
       "200"
      ]
     },
     "execution_count": 344,
     "metadata": {},
     "output_type": "execute_result"
    }
   ],
   "source": [
    "data['gender'].count()"
   ]
  },
  {
   "cell_type": "code",
   "execution_count": 390,
   "metadata": {},
   "outputs": [
    {
     "name": "stdout",
     "output_type": "stream",
     "text": [
      "\n",
      "--male----df data-----------------\n",
      "\n",
      "   gender     height      weight\n",
      "0    male  82.272536  203.715660\n",
      "1    male  74.015091  181.605283\n",
      "2    male  70.173378  176.687356\n",
      "3    male  71.827613  193.701811\n",
      "4    male  65.041912  148.758576\n",
      "5    male  68.214978  176.209302\n",
      "6    male  72.194799  160.702666\n",
      "7    male  78.487298  183.990300\n",
      "8    male  74.782546  172.990269\n",
      "9    male  68.005386  213.711781\n",
      "10   male  78.073248  186.604476\n",
      "11   male  64.428989  218.527031\n",
      "12   male  63.254655  157.092729\n",
      "13   male  76.340658  185.712579\n",
      "14   male  72.034136  201.844624\n",
      "15   male  73.495994  173.429682\n",
      "16   male  75.525003  245.315696\n",
      "17   male  80.403282  198.371064\n",
      "18   male  65.899539  207.672188\n",
      "19   male  75.005449  199.937412\n",
      "20   male  66.310397  161.085975\n",
      "21   male  58.077189  227.755585\n",
      "22   male  67.419592  221.709657\n",
      "23   male  87.095169  218.431557\n",
      "24   male  72.722925  244.954205\n",
      "25   male  61.595765  193.104811\n",
      "26   male  72.599385  190.196794\n",
      "27   male  65.632487  211.118449\n",
      "28   male  66.916706  172.582845\n",
      "29   male  68.812397  178.940148\n",
      "..    ...        ...         ...\n",
      "70   male  75.495753  175.912780\n",
      "71   male  65.866856  199.645832\n",
      "72   male  61.650638  221.978509\n",
      "73   male  65.323413  223.754809\n",
      "74   male  69.966696  224.035499\n",
      "75   male  62.937028  212.511269\n",
      "76   male  72.318308  226.294617\n",
      "77   male  65.002494  182.885455\n",
      "78   male  70.210724  165.589295\n",
      "79   male  63.339238  224.667931\n",
      "80   male  59.654949  221.003613\n",
      "81   male  62.810526  193.576482\n",
      "82   male  55.722840  166.754483\n",
      "83   male  64.351681  183.682379\n",
      "84   male  63.631136  203.291566\n",
      "85   male  63.776817  191.531131\n",
      "86   male  67.364581  196.801925\n",
      "87   male  74.486484  190.922761\n",
      "88   male  71.005123  184.319856\n",
      "89   male  82.735426  221.444156\n",
      "90   male  71.763059  140.708619\n",
      "91   male  75.261936  193.572734\n",
      "92   male  58.175566  185.578300\n",
      "93   male  57.680813  173.821953\n",
      "94   male  70.455592  213.483712\n",
      "95   male  59.825921  140.087214\n",
      "96   male  70.039295  205.563285\n",
      "97   male  63.195705  204.580264\n",
      "98   male  88.018674  189.703505\n",
      "99   male  62.677026  194.555093\n",
      "\n",
      "[100 rows x 3 columns]\n",
      "\n",
      "--male----df count-----------------\n",
      "\n",
      "gender    100\n",
      "height    100\n",
      "weight    100\n",
      "dtype: int64\n"
     ]
    }
   ],
   "source": [
    "df_male = data[((data['gender'] == 'male') == True)]\n",
    "df_male_count = data[((data['gender'] == 'male') == True)].count()\n",
    "\n",
    "print('\\n--male----df data-----------------\\n')\n",
    "print(df_male)\n",
    "print('\\n--male----df count-----------------\\n')\n",
    "print(df_male_count)"
   ]
  },
  {
   "cell_type": "markdown",
   "metadata": {},
   "source": [
    "## Unit 3 Lesson 1 Section 5"
   ]
  },
  {
   "cell_type": "markdown",
   "metadata": {},
   "source": [
    "Greg was 14, Marcia was 12, Peter was 11, Jan was 10, Bobby was 8, and Cindy was 6 when they started playing the Brady kids on The Brady Bunch. Cousin Oliver was 8 years old when he joined the show. "
   ]
  },
  {
   "cell_type": "markdown",
   "metadata": {},
   "source": [
    "What are the mean, median, and mode of the kids' ages when they first appeared on the show? What are the variance, standard deviation, and standard error? Answer: See below."
   ]
  },
  {
   "cell_type": "code",
   "execution_count": 690,
   "metadata": {},
   "outputs": [
    {
     "name": "stdout",
     "output_type": "stream",
     "text": [
      "\n",
      "Age Mean: 9.857142857142858\tAge Median: 10.0\tAge Mode: 8\n",
      "\n",
      "Age Var: 7.476190476190475\tAge Std: 2.734262327610589\tAge SEM: 1.0334540197243192\n",
      "\n",
      "Ages \t\t Frequency\n",
      "\n",
      "[ 6  8 10 11 12 14] [1 2 1 1 1 1]\n"
     ]
    }
   ],
   "source": [
    "df = pd.DataFrame()\n",
    "df_index = [1,2,3,4,5,6,7]\n",
    "df['name'] = ['Greg', 'Marcia','Peter','Jan','Bobby','Cindy','Oliver']\n",
    "df['age'] = [14,12,11,10,8,6,8]\n",
    "df.index = df_index\n",
    "age_mean = df.mean()[0]\n",
    "age_median = df.median()[0]\n",
    "(values, counts) = np.unique(df['age'], return_counts=True)\n",
    "age_mode = df['age'].mode()[0]\n",
    "age_var = df['age'].var(ddof=1)\n",
    "age_std = df['age'].std(ddof=1)\n",
    "age_sem = df['age'].sem(ddof=1)\n",
    "\n",
    "print('\\nAge Mean: ' + str(age_mean) + '\\tAge Median: ' + str(age_median) + '\\tAge Mode: ' + str(age_mode))\n",
    "print('\\nAge Var: ' + str(age_var) + '\\tAge Std: ' + str(age_std) + '\\tAge SEM: ' + str(age_sem) + '\\n')\n",
    "print('Ages \\t\\t Frequency\\n')\n",
    "print(values, counts)"
   ]
  },
  {
   "cell_type": "markdown",
   "metadata": {},
   "source": [
    "Using these estimates, if you had to choose only one estimate of central tendency and one estimate of variance to describe the data, which would you pick and why? Answer: I would choose mean and std because they are fair measures of central tendency and spread."
   ]
  },
  {
   "cell_type": "markdown",
   "metadata": {},
   "source": [
    "Next, Cindy has a birthday. Update your estimates- what changed, and what didn't? \n",
    "Answer: For age, Increase: Mean, Decrease: Var, Std, and SEM, No change: Median and Mode. Overall, I would still choose mean and std because only slight changes were observed."
   ]
  },
  {
   "cell_type": "code",
   "execution_count": 691,
   "metadata": {},
   "outputs": [
    {
     "name": "stdout",
     "output_type": "stream",
     "text": [
      "\n",
      "Previous ---------------------------------------------------------\n",
      "\n",
      "Age Mean: 9.857142857142858\tAge Median: 10.0\tAge Mode: 8\n",
      "\n",
      "Age Var: 7.476190476190475\tAge Std: 2.734262327610589\tAge SEM: 1.0334540197243192\n",
      "\n",
      "Ages \t\t Frequency\n",
      "\n",
      "[ 6  8 10 11 12 14] [1 2 1 1 1 1]\n",
      "\n",
      "Now---------------------------------------------------------------\n",
      "\n",
      "Age Mean: 10.0\tAge Median: 10.0\tAge Mode: 8\n",
      "\n",
      "Age Var: 6.333333333333333\tAge Std: 2.516611478423583\tAge SEM: 0.9511897312113418\n",
      "\n",
      "Ages \t\t Frequency\n",
      "\n",
      "[ 7  8 10 11 12 14] [1 2 1 1 1 1]\n"
     ]
    }
   ],
   "source": [
    "df1 = pd.DataFrame()\n",
    "df1_index = [1,2,3,4,5,6,7]\n",
    "df1['name'] = ['Greg', 'Marcia','Peter','Jan','Bobby','Cindy','Oliver']\n",
    "df1['age'] = [14,12,11,10,8,7,8]\n",
    "df1.index = df1_index\n",
    "age1_mean = df1.mean()[0]\n",
    "age1_median = df1.median()[0]\n",
    "(values1, counts1) = np.unique(df1['age'], return_counts=True)\n",
    "age1_mode = df1['age'].mode()[0]\n",
    "age1_var = df1['age'].var(ddof=1)\n",
    "age1_std = df1['age'].std(ddof=1)\n",
    "age1_sem = df1['age'].sem(ddof=1)\n",
    "\n",
    "print(\"\\nPrevious ---------------------------------------------------------\")\n",
    "print('\\nAge Mean: ' + str(age_mean) + '\\tAge Median: ' + str(age_median) + '\\tAge Mode: ' + str(age_mode))\n",
    "print('\\nAge Var: ' + str(age_var) + '\\tAge Std: ' + str(age_std) + '\\tAge SEM: ' + str(age_sem) + '\\n')\n",
    "print('Ages \\t\\t Frequency\\n')\n",
    "print(values, counts)\n",
    "print(\"\\nNow---------------------------------------------------------------\")\n",
    "print('\\nAge Mean: ' + str(age1_mean) + '\\tAge Median: ' + str(age1_median) + '\\tAge Mode: ' + str(age1_mode))\n",
    "print('\\nAge Var: ' + str(age1_var) + '\\tAge Std: ' + str(age1_std) + '\\tAge SEM: ' + str(age1_sem) + '\\n')\n",
    "print('Ages \\t\\t Frequency\\n')\n",
    "print(values1, counts1)\n"
   ]
  },
  {
   "cell_type": "markdown",
   "metadata": {},
   "source": [
    "Nobody likes Cousin Oliver. Maybe the network should have used an even younger actor. Replace Cousin Oliver with 1-year-old Jessica, then recalculate again. Does this change your choice of central tendency or variance estimation methods? For age,  Increase: Var, Std, and SEM, Decrease: Mean, No change: Median. There is no mode. Answer: I would choose median and SEM, this time."
   ]
  },
  {
   "cell_type": "code",
   "execution_count": 692,
   "metadata": {},
   "outputs": [
    {
     "name": "stdout",
     "output_type": "stream",
     "text": [
      "\n",
      "Previous ---------------------------------------------------------\n",
      "\n",
      "Age Mean: 10.0\tAge Median: 10.0\tAge Mode: 8\n",
      "\n",
      "Age Var: 6.333333333333333\tAge Std: 2.516611478423583\tAge SEM: 0.9511897312113418\n",
      "\n",
      "Ages \t\t Frequency\n",
      "\n",
      "[ 7  8 10 11 12 14] [1 2 1 1 1 1]\n",
      "\n",
      "Now---------------------------------------------------------------\n",
      "\n",
      "Age Mean: 9.0\tAge Median: 10.0\tAge Mode: 1\n",
      "\n",
      "Age Var: 18.0\tAge Std: 4.242640687119285\tAge SEM: 1.6035674514745462\n",
      "\n",
      "Ages \t\t Frequency\n",
      "\n",
      "[ 1  7  8 10 11 12 14] [1 1 1 1 1 1 1]\n"
     ]
    }
   ],
   "source": [
    "df2 = pd.DataFrame()\n",
    "df2_index = [1,2,3,4,5,6,7]\n",
    "df2['name'] = ['Greg', 'Marcia','Peter','Jan','Bobby','Cindy','Jessica']\n",
    "df2['age'] = [14,12,11,10,8,7,1]\n",
    "df2.index = df2_index\n",
    "age2_mean = df2.mean()[0]\n",
    "age2_median = df2.median()[0]\n",
    "(values2, counts2) = np.unique(df2['age'], return_counts=True)\n",
    "age2_mode = df2['age'].mode()[0]\n",
    "age2_var = df2['age'].var(ddof=1)\n",
    "age2_std = df2['age'].std(ddof=1)\n",
    "age2_sem = df2['age'].sem(ddof=1)\n",
    "\n",
    "print(\"\\nPrevious ---------------------------------------------------------\")\n",
    "print('\\nAge Mean: ' + str(age1_mean) + '\\tAge Median: ' + str(age1_median) + '\\tAge Mode: ' + str(age1_mode))\n",
    "print('\\nAge Var: ' + str(age1_var) + '\\tAge Std: ' + str(age1_std) + '\\tAge SEM: ' + str(age1_sem) + '\\n')\n",
    "print('Ages \\t\\t Frequency\\n')\n",
    "print(values1, counts1)\n",
    "print(\"\\nNow---------------------------------------------------------------\")\n",
    "print('\\nAge Mean: ' + str(age2_mean) + '\\tAge Median: ' + str(age2_median) + '\\tAge Mode: ' + str(age2_mode))\n",
    "print('\\nAge Var: ' + str(age2_var) + '\\tAge Std: ' + str(age2_std) + '\\tAge SEM: ' + str(age2_sem) + '\\n')\n",
    "print('Ages \\t\\t Frequency\\n')\n",
    "print(values2, counts2)"
   ]
  },
  {
   "cell_type": "markdown",
   "metadata": {},
   "source": [
    "On the 50th anniversary of The Brady Bunch, four different magazines asked their readers whether they were fans of the show. The answers were: TV Guide 20% fans Entertainment Weekly 23% fans Pop Culture Today 17% fans SciPhi Phanatic 5% fans\n",
    "\n",
    "Based on these numbers, what percentage of adult Americans would you estimate were Brady Bunch fans on the 50th anniversary of the show? Answer: It depends. If the four magazines probably do not have the same total of readers. Thus, the answer would be (assuming the same sample distribution): \n",
    "\n",
    "Grand total expected count of fans = (0.2 * TV Guide readers count) +  (0.23 * Entertainment Weekly readers count) + (0.17 * Pop Culture Today readers count) + (0.05 * SciPhi Phanatic readers count)\n",
    "\n",
    "Grand total count of readers = TV Guide readers count +  Entertainment Weekly readers count + Pop Culture Today readers count + SciPhi Phanatic readers count\n",
    "\n",
    "Percentage of adult American fans = 100 * (Grand total expected count of fans / Grand total count of readers)\n"
   ]
  }
 ],
 "metadata": {
  "kernelspec": {
   "display_name": "Python 3",
   "language": "python",
   "name": "python3"
  },
  "language_info": {
   "codemirror_mode": {
    "name": "ipython",
    "version": 3
   },
   "file_extension": ".py",
   "mimetype": "text/x-python",
   "name": "python",
   "nbconvert_exporter": "python",
   "pygments_lexer": "ipython3",
   "version": "3.7.1"
  }
 },
 "nbformat": 4,
 "nbformat_minor": 2
}

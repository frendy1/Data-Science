{
 "cells": [
  {
   "cell_type": "code",
   "execution_count": 655,
   "metadata": {},
   "outputs": [],
   "source": [
    "import pandas as pd\n",
    "import numpy as np\n",
    "import matplotlib.pyplot as plt\n",
    "import matplotlib\n",
    "import seaborn as sns\n",
    "import math\n",
    "from matplotlib.mlab import PCA as mlabPCA\n",
    "from sklearn.preprocessing import StandardScaler\n",
    "from sklearn import preprocessing\n",
    "from sklearn.decomposition import PCA \n",
    "import os\n",
    "import calendar\n",
    "import time\n",
    "import glob\n",
    "import gc\n",
    "import scipy.stats as stats\n",
    "\n",
    "from sklearn import linear_model\n",
    "%matplotlib inline\n",
    "pd.options.display.float_format = '{:.3f}'.format\n",
    "\n",
    "# Suppress annoying harmless error.\n",
    "import warnings\n",
    "warnings.filterwarnings(action=\"ignore\", module=\"scipy\", message=\"^internal gelsd\")"
   ]
  },
  {
   "cell_type": "code",
   "execution_count": 656,
   "metadata": {},
   "outputs": [],
   "source": [
    "my_cols = [\n",
    "            'City',\n",
    "            'Pop',\n",
    "            'Violent_cr',\n",
    "            'Mrdr_manslter',\n",
    "            'Rape1',\n",
    "            'Rape2',\n",
    "            'Robbery',\n",
    "            'Agg_asslt',\n",
    "            'Prop_cr',\n",
    "            'Burg',\n",
    "            'Larc_thft',\n",
    "            'Mtr_vhcl_thft',\n",
    "            'Arson3'\n",
    "            ]\n"
   ]
  },
  {
   "cell_type": "code",
   "execution_count": 657,
   "metadata": {},
   "outputs": [
    {
     "data": {
      "text/plain": [
       "'English_United States.1252'"
      ]
     },
     "execution_count": 657,
     "metadata": {},
     "output_type": "execute_result"
    }
   ],
   "source": [
    "import locale\n",
    "from locale import atof\n",
    "locale.setlocale(locale.LC_NUMERIC, '')"
   ]
  },
  {
   "cell_type": "code",
   "execution_count": 2241,
   "metadata": {},
   "outputs": [
    {
     "data": {
      "text/html": [
       "<div>\n",
       "<style scoped>\n",
       "    .dataframe tbody tr th:only-of-type {\n",
       "        vertical-align: middle;\n",
       "    }\n",
       "\n",
       "    .dataframe tbody tr th {\n",
       "        vertical-align: top;\n",
       "    }\n",
       "\n",
       "    .dataframe thead th {\n",
       "        text-align: right;\n",
       "    }\n",
       "</style>\n",
       "<table border=\"1\" class=\"dataframe\">\n",
       "  <thead>\n",
       "    <tr style=\"text-align: right;\">\n",
       "      <th></th>\n",
       "      <th>City</th>\n",
       "      <th>Pop</th>\n",
       "      <th>Violent_cr</th>\n",
       "      <th>Mrdr_manslter</th>\n",
       "      <th>Rape1</th>\n",
       "      <th>Rape2</th>\n",
       "      <th>Robbery</th>\n",
       "      <th>Agg_asslt</th>\n",
       "      <th>Prop_cr</th>\n",
       "      <th>Burg</th>\n",
       "      <th>Larc_thft</th>\n",
       "      <th>Mtr_vhcl_thft</th>\n",
       "      <th>Arson3</th>\n",
       "    </tr>\n",
       "  </thead>\n",
       "  <tbody>\n",
       "    <tr>\n",
       "      <th>0</th>\n",
       "      <td>Adams Village</td>\n",
       "      <td>1861</td>\n",
       "      <td>0</td>\n",
       "      <td>0</td>\n",
       "      <td>nan</td>\n",
       "      <td>0</td>\n",
       "      <td>0</td>\n",
       "      <td>0</td>\n",
       "      <td>12</td>\n",
       "      <td>2</td>\n",
       "      <td>10</td>\n",
       "      <td>0</td>\n",
       "      <td>0.000</td>\n",
       "    </tr>\n",
       "    <tr>\n",
       "      <th>1</th>\n",
       "      <td>Addison Town and Village</td>\n",
       "      <td>2577</td>\n",
       "      <td>3</td>\n",
       "      <td>0</td>\n",
       "      <td>nan</td>\n",
       "      <td>0</td>\n",
       "      <td>0</td>\n",
       "      <td>3</td>\n",
       "      <td>24</td>\n",
       "      <td>3</td>\n",
       "      <td>20</td>\n",
       "      <td>1</td>\n",
       "      <td>0.000</td>\n",
       "    </tr>\n",
       "    <tr>\n",
       "      <th>2</th>\n",
       "      <td>Akron Village</td>\n",
       "      <td>2846</td>\n",
       "      <td>3</td>\n",
       "      <td>0</td>\n",
       "      <td>nan</td>\n",
       "      <td>0</td>\n",
       "      <td>0</td>\n",
       "      <td>3</td>\n",
       "      <td>16</td>\n",
       "      <td>1</td>\n",
       "      <td>15</td>\n",
       "      <td>0</td>\n",
       "      <td>0.000</td>\n",
       "    </tr>\n",
       "    <tr>\n",
       "      <th>3</th>\n",
       "      <td>Albany</td>\n",
       "      <td>97956</td>\n",
       "      <td>791</td>\n",
       "      <td>8</td>\n",
       "      <td>nan</td>\n",
       "      <td>30</td>\n",
       "      <td>227</td>\n",
       "      <td>526</td>\n",
       "      <td>4090</td>\n",
       "      <td>705</td>\n",
       "      <td>3243</td>\n",
       "      <td>142</td>\n",
       "      <td>nan</td>\n",
       "    </tr>\n",
       "    <tr>\n",
       "      <th>4</th>\n",
       "      <td>Albion Village</td>\n",
       "      <td>6388</td>\n",
       "      <td>23</td>\n",
       "      <td>0</td>\n",
       "      <td>nan</td>\n",
       "      <td>3</td>\n",
       "      <td>4</td>\n",
       "      <td>16</td>\n",
       "      <td>223</td>\n",
       "      <td>53</td>\n",
       "      <td>165</td>\n",
       "      <td>5</td>\n",
       "      <td>nan</td>\n",
       "    </tr>\n",
       "  </tbody>\n",
       "</table>\n",
       "</div>"
      ],
      "text/plain": [
       "                       City    Pop  Violent_cr  Mrdr_manslter  Rape1  Rape2  \\\n",
       "0             Adams Village   1861           0              0    nan      0   \n",
       "1  Addison Town and Village   2577           3              0    nan      0   \n",
       "2             Akron Village   2846           3              0    nan      0   \n",
       "3                    Albany  97956         791              8    nan     30   \n",
       "4            Albion Village   6388          23              0    nan      3   \n",
       "\n",
       "   Robbery  Agg_asslt  Prop_cr  Burg  Larc_thft  Mtr_vhcl_thft  Arson3  \n",
       "0        0          0       12     2         10              0   0.000  \n",
       "1        0          3       24     3         20              1   0.000  \n",
       "2        0          3       16     1         15              0   0.000  \n",
       "3      227        526     4090   705       3243            142     nan  \n",
       "4        4         16      223    53        165              5     nan  "
      ]
     },
     "execution_count": 2241,
     "metadata": {},
     "output_type": "execute_result"
    }
   ],
   "source": [
    "df = pd.read_csv(\"crime_data_ny_2013.txt\",encoding=\"utf-8\", thousands=',')\n",
    "df.head()"
   ]
  },
  {
   "cell_type": "code",
   "execution_count": 2242,
   "metadata": {},
   "outputs": [
    {
     "name": "stdout",
     "output_type": "stream",
     "text": [
      "<class 'pandas.core.frame.DataFrame'>\n",
      "RangeIndex: 348 entries, 0 to 347\n",
      "Data columns (total 13 columns):\n",
      "City             348 non-null object\n",
      "Pop              348 non-null int64\n",
      "Violent_cr       348 non-null int64\n",
      "Mrdr_manslter    348 non-null int64\n",
      "Rape1            0 non-null float64\n",
      "Rape2            348 non-null int64\n",
      "Robbery          348 non-null int64\n",
      "Agg_asslt        348 non-null int64\n",
      "Prop_cr          348 non-null int64\n",
      "Burg             348 non-null int64\n",
      "Larc_thft        348 non-null int64\n",
      "Mtr_vhcl_thft    348 non-null int64\n",
      "Arson3           187 non-null float64\n",
      "dtypes: float64(2), int64(10), object(1)\n",
      "memory usage: 35.4+ KB\n"
     ]
    }
   ],
   "source": [
    "df.info()"
   ]
  },
  {
   "cell_type": "code",
   "execution_count": 2243,
   "metadata": {},
   "outputs": [],
   "source": [
    "df.replace('', np.nan, inplace=True)"
   ]
  },
  {
   "cell_type": "code",
   "execution_count": 2244,
   "metadata": {},
   "outputs": [
    {
     "data": {
      "text/plain": [
       "City               0\n",
       "Pop                0\n",
       "Violent_cr         0\n",
       "Mrdr_manslter      0\n",
       "Rape1            348\n",
       "Rape2              0\n",
       "Robbery            0\n",
       "Agg_asslt          0\n",
       "Prop_cr            0\n",
       "Burg               0\n",
       "Larc_thft          0\n",
       "Mtr_vhcl_thft      0\n",
       "Arson3           161\n",
       "dtype: int64"
      ]
     },
     "execution_count": 2244,
     "metadata": {},
     "output_type": "execute_result"
    }
   ],
   "source": [
    "df.isnull().sum()"
   ]
  },
  {
   "cell_type": "code",
   "execution_count": 2245,
   "metadata": {},
   "outputs": [
    {
     "data": {
      "text/plain": [
       "City             0\n",
       "Pop              0\n",
       "Violent_cr       0\n",
       "Mrdr_manslter    0\n",
       "Rape1            0\n",
       "Rape2            0\n",
       "Robbery          0\n",
       "Agg_asslt        0\n",
       "Prop_cr          0\n",
       "Burg             0\n",
       "Larc_thft        0\n",
       "Mtr_vhcl_thft    0\n",
       "Arson3           0\n",
       "dtype: int64"
      ]
     },
     "execution_count": 2245,
     "metadata": {},
     "output_type": "execute_result"
    }
   ],
   "source": [
    "df.fillna(0,inplace=True)\n",
    "df.isnull().sum()"
   ]
  },
  {
   "cell_type": "code",
   "execution_count": 2246,
   "metadata": {},
   "outputs": [],
   "source": [
    "df = df.astype({            \n",
    "                'City':'object',\n",
    "                'Pop':'int64',\n",
    "                'Violent_cr':'int64',\n",
    "                'Mrdr_manslter':'int64',\n",
    "                'Rape1':'int64',\n",
    "                'Rape2':'int64',\n",
    "                'Robbery':'int64',\n",
    "                'Agg_asslt':'int64',\n",
    "                'Prop_cr':'int64',\n",
    "                'Burg':'int64',\n",
    "                'Larc_thft':'int64',\n",
    "                'Mtr_vhcl_thft':'int64',\n",
    "                'Arson3':'int64'\n",
    "                })"
   ]
  },
  {
   "cell_type": "code",
   "execution_count": 2247,
   "metadata": {},
   "outputs": [
    {
     "name": "stdout",
     "output_type": "stream",
     "text": [
      "<class 'pandas.core.frame.DataFrame'>\n",
      "RangeIndex: 348 entries, 0 to 347\n",
      "Data columns (total 13 columns):\n",
      "City             348 non-null object\n",
      "Pop              348 non-null int64\n",
      "Violent_cr       348 non-null int64\n",
      "Mrdr_manslter    348 non-null int64\n",
      "Rape1            348 non-null int64\n",
      "Rape2            348 non-null int64\n",
      "Robbery          348 non-null int64\n",
      "Agg_asslt        348 non-null int64\n",
      "Prop_cr          348 non-null int64\n",
      "Burg             348 non-null int64\n",
      "Larc_thft        348 non-null int64\n",
      "Mtr_vhcl_thft    348 non-null int64\n",
      "Arson3           348 non-null int64\n",
      "dtypes: int64(12), object(1)\n",
      "memory usage: 35.4+ KB\n"
     ]
    }
   ],
   "source": [
    "df.info()"
   ]
  },
  {
   "cell_type": "code",
   "execution_count": 2248,
   "metadata": {},
   "outputs": [
    {
     "name": "stdout",
     "output_type": "stream",
     "text": [
      "                  count    mean      std   min   25%   50%    75%       max\n",
      "Robbery_Occured                                                            \n",
      "0               139.000   0.000    0.000 0.000 0.000 0.000  0.000     0.000\n",
      "1               209.000 121.388 1329.475 1.000 1.000 4.000 12.000 19170.000\n",
      "                 count   mean    std   min   25%   50%   75%     max\n",
      "Murder_Occured                                                      \n",
      "0              299.000  0.000  0.000 0.000 0.000 0.000 0.000   0.000\n",
      "1               49.000 11.122 48.098 1.000 1.000 1.000 3.000 335.000\n"
     ]
    }
   ],
   "source": [
    "features = pd.get_dummies(df['City'])\n",
    "features['Robbery_Occured'] = np.where(df['Robbery']>0, 1, 0)\n",
    "features['Murder_Occured'] = np.where(df['Mrdr_manslter']>0, 1, 0)\n",
    "\n",
    "\n",
    "print(df['Robbery'].groupby(features['Robbery_Occured']).describe())\n",
    "print(df['Mrdr_manslter'].groupby(features['Murder_Occured']).describe())\n"
   ]
  },
  {
   "cell_type": "code",
   "execution_count": 2249,
   "metadata": {},
   "outputs": [
    {
     "data": {
      "text/html": [
       "<div>\n",
       "<style scoped>\n",
       "    .dataframe tbody tr th:only-of-type {\n",
       "        vertical-align: middle;\n",
       "    }\n",
       "\n",
       "    .dataframe tbody tr th {\n",
       "        vertical-align: top;\n",
       "    }\n",
       "\n",
       "    .dataframe thead th {\n",
       "        text-align: right;\n",
       "    }\n",
       "</style>\n",
       "<table border=\"1\" class=\"dataframe\">\n",
       "  <thead>\n",
       "    <tr style=\"text-align: right;\">\n",
       "      <th></th>\n",
       "      <th>Adams Village</th>\n",
       "      <th>Addison Town and Village</th>\n",
       "      <th>Akron Village</th>\n",
       "      <th>Albany</th>\n",
       "      <th>Albion Village</th>\n",
       "      <th>Alfred Village</th>\n",
       "      <th>Allegany Village</th>\n",
       "      <th>Amherst Town</th>\n",
       "      <th>Amityville Village</th>\n",
       "      <th>Amsterdam</th>\n",
       "      <th>...</th>\n",
       "      <th>Whitehall Village</th>\n",
       "      <th>Whitesboro Village</th>\n",
       "      <th>Whitestown Town</th>\n",
       "      <th>Woodbury Town</th>\n",
       "      <th>Woodridge Village</th>\n",
       "      <th>Woodstock Town</th>\n",
       "      <th>Yonkers</th>\n",
       "      <th>Yorktown Town</th>\n",
       "      <th>Robbery_Occured</th>\n",
       "      <th>Murder_Occured</th>\n",
       "    </tr>\n",
       "  </thead>\n",
       "  <tbody>\n",
       "    <tr>\n",
       "      <th>0</th>\n",
       "      <td>1</td>\n",
       "      <td>0</td>\n",
       "      <td>0</td>\n",
       "      <td>0</td>\n",
       "      <td>0</td>\n",
       "      <td>0</td>\n",
       "      <td>0</td>\n",
       "      <td>0</td>\n",
       "      <td>0</td>\n",
       "      <td>0</td>\n",
       "      <td>...</td>\n",
       "      <td>0</td>\n",
       "      <td>0</td>\n",
       "      <td>0</td>\n",
       "      <td>0</td>\n",
       "      <td>0</td>\n",
       "      <td>0</td>\n",
       "      <td>0</td>\n",
       "      <td>0</td>\n",
       "      <td>0</td>\n",
       "      <td>0</td>\n",
       "    </tr>\n",
       "    <tr>\n",
       "      <th>1</th>\n",
       "      <td>0</td>\n",
       "      <td>1</td>\n",
       "      <td>0</td>\n",
       "      <td>0</td>\n",
       "      <td>0</td>\n",
       "      <td>0</td>\n",
       "      <td>0</td>\n",
       "      <td>0</td>\n",
       "      <td>0</td>\n",
       "      <td>0</td>\n",
       "      <td>...</td>\n",
       "      <td>0</td>\n",
       "      <td>0</td>\n",
       "      <td>0</td>\n",
       "      <td>0</td>\n",
       "      <td>0</td>\n",
       "      <td>0</td>\n",
       "      <td>0</td>\n",
       "      <td>0</td>\n",
       "      <td>0</td>\n",
       "      <td>0</td>\n",
       "    </tr>\n",
       "    <tr>\n",
       "      <th>2</th>\n",
       "      <td>0</td>\n",
       "      <td>0</td>\n",
       "      <td>1</td>\n",
       "      <td>0</td>\n",
       "      <td>0</td>\n",
       "      <td>0</td>\n",
       "      <td>0</td>\n",
       "      <td>0</td>\n",
       "      <td>0</td>\n",
       "      <td>0</td>\n",
       "      <td>...</td>\n",
       "      <td>0</td>\n",
       "      <td>0</td>\n",
       "      <td>0</td>\n",
       "      <td>0</td>\n",
       "      <td>0</td>\n",
       "      <td>0</td>\n",
       "      <td>0</td>\n",
       "      <td>0</td>\n",
       "      <td>0</td>\n",
       "      <td>0</td>\n",
       "    </tr>\n",
       "    <tr>\n",
       "      <th>3</th>\n",
       "      <td>0</td>\n",
       "      <td>0</td>\n",
       "      <td>0</td>\n",
       "      <td>1</td>\n",
       "      <td>0</td>\n",
       "      <td>0</td>\n",
       "      <td>0</td>\n",
       "      <td>0</td>\n",
       "      <td>0</td>\n",
       "      <td>0</td>\n",
       "      <td>...</td>\n",
       "      <td>0</td>\n",
       "      <td>0</td>\n",
       "      <td>0</td>\n",
       "      <td>0</td>\n",
       "      <td>0</td>\n",
       "      <td>0</td>\n",
       "      <td>0</td>\n",
       "      <td>0</td>\n",
       "      <td>1</td>\n",
       "      <td>1</td>\n",
       "    </tr>\n",
       "    <tr>\n",
       "      <th>4</th>\n",
       "      <td>0</td>\n",
       "      <td>0</td>\n",
       "      <td>0</td>\n",
       "      <td>0</td>\n",
       "      <td>1</td>\n",
       "      <td>0</td>\n",
       "      <td>0</td>\n",
       "      <td>0</td>\n",
       "      <td>0</td>\n",
       "      <td>0</td>\n",
       "      <td>...</td>\n",
       "      <td>0</td>\n",
       "      <td>0</td>\n",
       "      <td>0</td>\n",
       "      <td>0</td>\n",
       "      <td>0</td>\n",
       "      <td>0</td>\n",
       "      <td>0</td>\n",
       "      <td>0</td>\n",
       "      <td>1</td>\n",
       "      <td>0</td>\n",
       "    </tr>\n",
       "  </tbody>\n",
       "</table>\n",
       "<p>5 rows × 350 columns</p>\n",
       "</div>"
      ],
      "text/plain": [
       "   Adams Village  Addison Town and Village  Akron Village  Albany  \\\n",
       "0              1                         0              0       0   \n",
       "1              0                         1              0       0   \n",
       "2              0                         0              1       0   \n",
       "3              0                         0              0       1   \n",
       "4              0                         0              0       0   \n",
       "\n",
       "   Albion Village  Alfred Village  Allegany Village  Amherst Town  \\\n",
       "0               0               0                 0             0   \n",
       "1               0               0                 0             0   \n",
       "2               0               0                 0             0   \n",
       "3               0               0                 0             0   \n",
       "4               1               0                 0             0   \n",
       "\n",
       "   Amityville Village  Amsterdam       ...        Whitehall Village  \\\n",
       "0                   0          0       ...                        0   \n",
       "1                   0          0       ...                        0   \n",
       "2                   0          0       ...                        0   \n",
       "3                   0          0       ...                        0   \n",
       "4                   0          0       ...                        0   \n",
       "\n",
       "   Whitesboro Village  Whitestown Town  Woodbury Town  Woodridge Village  \\\n",
       "0                   0                0              0                  0   \n",
       "1                   0                0              0                  0   \n",
       "2                   0                0              0                  0   \n",
       "3                   0                0              0                  0   \n",
       "4                   0                0              0                  0   \n",
       "\n",
       "   Woodstock Town  Yonkers  Yorktown Town  Robbery_Occured  Murder_Occured  \n",
       "0               0        0              0                0               0  \n",
       "1               0        0              0                0               0  \n",
       "2               0        0              0                0               0  \n",
       "3               0        0              0                1               1  \n",
       "4               0        0              0                1               0  \n",
       "\n",
       "[5 rows x 350 columns]"
      ]
     },
     "execution_count": 2249,
     "metadata": {},
     "output_type": "execute_result"
    }
   ],
   "source": [
    "\n",
    "features.head()"
   ]
  },
  {
   "cell_type": "code",
   "execution_count": 2254,
   "metadata": {},
   "outputs": [
    {
     "data": {
      "text/plain": [
       "348"
      ]
     },
     "execution_count": 2254,
     "metadata": {},
     "output_type": "execute_result"
    }
   ],
   "source": [
    "df2 = df.loc[((df[\"City\"] != \"\")), \n",
    "                                    [\"City\",\n",
    "                                    \"Pop\",\n",
    "                                     \"Mrdr_manslter\",\n",
    "                                    \"Robbery\",\n",
    "                                    \"Prop_cr\"]]\n",
    "df2[\"Pop_squared\"] = np.square(df[\"Pop\"])\n",
    "df_jittered = df2.loc[:, \"Pop\":\"Prop_cr\"]\n",
    "df_jittered2 = df_jittered\n",
    "df_jittered2.shape[0]"
   ]
  },
  {
   "cell_type": "code",
   "execution_count": 2251,
   "metadata": {},
   "outputs": [
    {
     "data": {
      "text/plain": [
       "count     60.000\n",
       "mean     379.667\n",
       "std      730.600\n",
       "min        0.000\n",
       "25%       38.500\n",
       "50%      100.000\n",
       "75%      314.500\n",
       "max     4090.000\n",
       "Name: Prop_cr, dtype: float64"
      ]
     },
     "execution_count": 2251,
     "metadata": {},
     "output_type": "execute_result"
    }
   ],
   "source": [
    "\n",
    "df_jittered2[\"Prop_cr\"].dropna().sample(60).describe()"
   ]
  },
  {
   "cell_type": "code",
   "execution_count": 2252,
   "metadata": {},
   "outputs": [
    {
     "name": "stdout",
     "output_type": "stream",
     "text": [
      "0\n"
     ]
    },
    {
     "data": {
      "text/plain": [
       "count    348.000\n",
       "mean     306.865\n",
       "std      465.298\n",
       "min        0.000\n",
       "25%       40.500\n",
       "50%      112.500\n",
       "75%      341.000\n",
       "max     2000.000\n",
       "Name: Prop_cr, dtype: float64"
      ]
     },
     "execution_count": 2252,
     "metadata": {},
     "output_type": "execute_result"
    }
   ],
   "source": [
    "df_jittered2[(df_jittered2[\"Prop_cr\"] > 2000)] = 2000\n",
    "print(df_jittered2[\"Prop_cr\"].isnull().sum())\n",
    "df_jittered2[\"Prop_cr\"].describe()"
   ]
  },
  {
   "cell_type": "code",
   "execution_count": 2195,
   "metadata": {},
   "outputs": [
    {
     "name": "stderr",
     "output_type": "stream",
     "text": [
      "C:\\ProgramData\\Anaconda3\\lib\\site-packages\\matplotlib\\figure.py:2366: UserWarning: This figure includes Axes that are not compatible with tight_layout, so results might be incorrect.\n",
      "  warnings.warn(\"This figure includes Axes that are not compatible \"\n"
     ]
    },
    {
     "data": {
      "image/png": "[encoded data removed]",
      "text/plain": [
       "<Figure size 432x288 with 1 Axes>"
      ]
     },
     "metadata": {},
     "output_type": "display_data"
    }
   ],
   "source": [
    "\n",
    "sns.set(style=\"whitegrid\")\n",
    "fig,ax = plt.subplots()\n",
    "\n",
    "ax = sns.boxplot(y=df_jittered2[\"Prop_cr\"],data=df_jittered2)\n",
    "plt.show()"
   ]
  },
  {
   "cell_type": "code",
   "execution_count": 2196,
   "metadata": {},
   "outputs": [
    {
     "data": {
      "text/plain": [
       "count     90.000\n",
       "mean      93.544\n",
       "std      413.607\n",
       "min        0.000\n",
       "25%        0.000\n",
       "50%        1.000\n",
       "75%        5.000\n",
       "max     2000.000\n",
       "Name: Robbery, dtype: float64"
      ]
     },
     "execution_count": 2196,
     "metadata": {},
     "output_type": "execute_result"
    }
   ],
   "source": [
    "\n",
    "df_jittered2[\"Robbery\"].dropna().sample(90).describe()"
   ]
  },
  {
   "cell_type": "code",
   "execution_count": 2197,
   "metadata": {},
   "outputs": [
    {
     "name": "stdout",
     "output_type": "stream",
     "text": [
      "0\n"
     ]
    },
    {
     "data": {
      "text/plain": [
       "count   348.000\n",
       "mean      6.457\n",
       "std      12.848\n",
       "min       0.000\n",
       "25%       0.000\n",
       "50%       1.000\n",
       "75%       5.000\n",
       "max      50.000\n",
       "Name: Robbery, dtype: float64"
      ]
     },
     "execution_count": 2197,
     "metadata": {},
     "output_type": "execute_result"
    }
   ],
   "source": [
    "df_jittered2[(df_jittered2[\"Robbery\"] > 50)] =50\n",
    "print(df_jittered2[\"Robbery\"].isnull().sum())\n",
    "df_jittered2[\"Robbery\"].describe()"
   ]
  },
  {
   "cell_type": "code",
   "execution_count": 2198,
   "metadata": {},
   "outputs": [
    {
     "name": "stderr",
     "output_type": "stream",
     "text": [
      "C:\\ProgramData\\Anaconda3\\lib\\site-packages\\matplotlib\\figure.py:2366: UserWarning: This figure includes Axes that are not compatible with tight_layout, so results might be incorrect.\n",
      "  warnings.warn(\"This figure includes Axes that are not compatible \"\n"
     ]
    },
    {
     "data": {
      "image/png": "[encoded data removed]",
      "text/plain": [
       "<Figure size 432x288 with 1 Axes>"
      ]
     },
     "metadata": {},
     "output_type": "display_data"
    }
   ],
   "source": [
    "sns.set(style=\"whitegrid\")\n",
    "fig,ax = plt.subplots()\n",
    "\n",
    "ax = sns.boxplot(y=df_jittered2[\"Robbery\"],data=df_jittered2)\n",
    "plt.show()"
   ]
  },
  {
   "cell_type": "code",
   "execution_count": 2255,
   "metadata": {},
   "outputs": [
    {
     "data": {
      "text/plain": [
       "count   90.000\n",
       "mean     0.656\n",
       "std      5.015\n",
       "min      0.000\n",
       "25%      0.000\n",
       "50%      0.000\n",
       "75%      0.000\n",
       "max     47.000\n",
       "Name: Mrdr_manslter, dtype: float64"
      ]
     },
     "execution_count": 2255,
     "metadata": {},
     "output_type": "execute_result"
    }
   ],
   "source": [
    "\n",
    "df_jittered2[\"Mrdr_manslter\"].dropna().sample(90).describe()"
   ]
  },
  {
   "cell_type": "code",
   "execution_count": 2256,
   "metadata": {},
   "outputs": [
    {
     "name": "stdout",
     "output_type": "stream",
     "text": [
      "0\n"
     ]
    },
    {
     "data": {
      "text/plain": [
       "count   348.000\n",
       "mean      0.299\n",
       "std       0.968\n",
       "min       0.000\n",
       "25%       0.000\n",
       "50%       0.000\n",
       "75%       0.000\n",
       "max       5.000\n",
       "Name: Mrdr_manslter, dtype: float64"
      ]
     },
     "execution_count": 2256,
     "metadata": {},
     "output_type": "execute_result"
    }
   ],
   "source": [
    "df_jittered2[(df_jittered2[\"Mrdr_manslter\"] > 5)] = 5\n",
    "print(df_jittered2[\"Mrdr_manslter\"].isnull().sum())\n",
    "df_jittered2[\"Mrdr_manslter\"].describe()"
   ]
  },
  {
   "cell_type": "code",
   "execution_count": 2257,
   "metadata": {},
   "outputs": [
    {
     "name": "stderr",
     "output_type": "stream",
     "text": [
      "C:\\ProgramData\\Anaconda3\\lib\\site-packages\\matplotlib\\figure.py:2366: UserWarning: This figure includes Axes that are not compatible with tight_layout, so results might be incorrect.\n",
      "  warnings.warn(\"This figure includes Axes that are not compatible \"\n"
     ]
    },
    {
     "data": {
      "image/png": "[encoded data removed]",
      "text/plain": [
       "<Figure size 432x288 with 1 Axes>"
      ]
     },
     "metadata": {},
     "output_type": "display_data"
    }
   ],
   "source": [
    "sns.set(style=\"whitegrid\")\n",
    "fig,ax = plt.subplots()\n",
    "\n",
    "ax = sns.boxplot(y=df_jittered2[\"Mrdr_manslter\"],data=df_jittered2)\n",
    "plt.show()"
   ]
  },
  {
   "cell_type": "code",
   "execution_count": 2202,
   "metadata": {},
   "outputs": [
    {
     "data": {
      "text/plain": [
       "count      90.000\n",
       "mean     8838.544\n",
       "std     12819.907\n",
       "min         5.000\n",
       "25%      1956.750\n",
       "50%      4554.000\n",
       "75%      9507.750\n",
       "max     87204.000\n",
       "Name: Pop, dtype: float64"
      ]
     },
     "execution_count": 2202,
     "metadata": {},
     "output_type": "execute_result"
    }
   ],
   "source": [
    "\n",
    "df_jittered2[\"Pop\"].dropna().sample(90).describe()"
   ]
  },
  {
   "cell_type": "code",
   "execution_count": 2203,
   "metadata": {},
   "outputs": [
    {
     "name": "stdout",
     "output_type": "stream",
     "text": [
      "0\n"
     ]
    },
    {
     "data": {
      "text/plain": [
       "count     348.000\n",
       "mean    10643.204\n",
       "std     12761.304\n",
       "min         5.000\n",
       "25%      2404.250\n",
       "50%      5950.500\n",
       "75%     14163.750\n",
       "max     87204.000\n",
       "Name: Pop, dtype: float64"
      ]
     },
     "execution_count": 2203,
     "metadata": {},
     "output_type": "execute_result"
    }
   ],
   "source": [
    "df_jittered2[(df_jittered2[\"Pop\"] > 100000)] = 100000\n",
    "print(df_jittered2[\"Pop\"].isnull().sum())\n",
    "df_jittered2[\"Pop\"].describe()"
   ]
  },
  {
   "cell_type": "code",
   "execution_count": 2204,
   "metadata": {},
   "outputs": [
    {
     "name": "stderr",
     "output_type": "stream",
     "text": [
      "C:\\ProgramData\\Anaconda3\\lib\\site-packages\\matplotlib\\figure.py:2366: UserWarning: This figure includes Axes that are not compatible with tight_layout, so results might be incorrect.\n",
      "  warnings.warn(\"This figure includes Axes that are not compatible \"\n"
     ]
    },
    {
     "data": {
      "image/png": "[encoded data removed]",
      "text/plain": [
       "<Figure size 432x288 with 1 Axes>"
      ]
     },
     "metadata": {},
     "output_type": "display_data"
    }
   ],
   "source": [
    "sns.set(style=\"whitegrid\")\n",
    "fig,ax = plt.subplots()\n",
    "\n",
    "ax = sns.boxplot(y=df_jittered2[\"Pop\"],data=df_jittered2)\n",
    "plt.show()"
   ]
  },
  {
   "cell_type": "code",
   "execution_count": 2222,
   "metadata": {},
   "outputs": [
    {
     "data": {
      "text/plain": [
       "count   348.000\n",
       "mean      0.141\n",
       "std       0.348\n",
       "min       0.000\n",
       "25%       0.000\n",
       "50%       0.000\n",
       "75%       0.000\n",
       "max       1.000\n",
       "Name: Murder_Occured, dtype: float64"
      ]
     },
     "execution_count": 2222,
     "metadata": {},
     "output_type": "execute_result"
    }
   ],
   "source": [
    "features['Murder_Occured'].describe()"
   ]
  },
  {
   "cell_type": "code",
   "execution_count": null,
   "metadata": {},
   "outputs": [],
   "source": []
  },
  {
   "cell_type": "code",
   "execution_count": null,
   "metadata": {},
   "outputs": [],
   "source": []
  },
  {
   "cell_type": "code",
   "execution_count": 2205,
   "metadata": {},
   "outputs": [
    {
     "name": "stdout",
     "output_type": "stream",
     "text": [
      "                 Pop  Mrdr_manslter  Robbery  Prop_cr\n",
      "Pop            1.000         -0.077    0.634    0.818\n",
      "Mrdr_manslter -0.077          1.000    0.189   -0.059\n",
      "Robbery        0.634          0.189    1.000    0.762\n",
      "Prop_cr        0.818         -0.059    0.762    1.000\n"
     ]
    }
   ],
   "source": [
    "# Make the correlation matrix.\n",
    "corrmat = df_jittered2.corr()\n",
    "print(corrmat)"
   ]
  },
  {
   "cell_type": "code",
   "execution_count": 2206,
   "metadata": {},
   "outputs": [
    {
     "name": "stderr",
     "output_type": "stream",
     "text": [
      "C:\\ProgramData\\Anaconda3\\lib\\site-packages\\matplotlib\\figure.py:2366: UserWarning: This figure includes Axes that are not compatible with tight_layout, so results might be incorrect.\n",
      "  warnings.warn(\"This figure includes Axes that are not compatible \"\n"
     ]
    },
    {
     "data": {
      "image/png": "[encoded data removed]",
      "text/plain": [
       "<Figure size 432x288 with 1 Axes>"
      ]
     },
     "metadata": {},
     "output_type": "display_data"
    }
   ],
   "source": [
    "\n",
    "g = sns.distplot(df_jittered2[\"Prop_cr\"],bins=60)"
   ]
  },
  {
   "cell_type": "code",
   "execution_count": 2207,
   "metadata": {},
   "outputs": [
    {
     "name": "stderr",
     "output_type": "stream",
     "text": [
      "C:\\ProgramData\\Anaconda3\\lib\\site-packages\\matplotlib\\figure.py:2366: UserWarning: This figure includes Axes that are not compatible with tight_layout, so results might be incorrect.\n",
      "  warnings.warn(\"This figure includes Axes that are not compatible \"\n"
     ]
    },
    {
     "data": {
      "image/png": "[encoded data removed]",
      "text/plain": [
       "<Figure size 432x288 with 1 Axes>"
      ]
     },
     "metadata": {},
     "output_type": "display_data"
    }
   ],
   "source": [
    "g = sns.distplot(df_jittered2[\"Robbery\"],bins=50)"
   ]
  },
  {
   "cell_type": "code",
   "execution_count": 2258,
   "metadata": {},
   "outputs": [
    {
     "name": "stderr",
     "output_type": "stream",
     "text": [
      "C:\\ProgramData\\Anaconda3\\lib\\site-packages\\scipy\\stats\\stats.py:1713: FutureWarning: Using a non-tuple sequence for multidimensional indexing is deprecated; use `arr[tuple(seq)]` instead of `arr[seq]`. In the future this will be interpreted as an array index, `arr[np.array(seq)]`, which will result either in an error or a different result.\n",
      "  return np.add.reduce(sorted[indexer] * weights, axis=axis) / sumval\n",
      "C:\\ProgramData\\Anaconda3\\lib\\site-packages\\matplotlib\\figure.py:2366: UserWarning: This figure includes Axes that are not compatible with tight_layout, so results might be incorrect.\n",
      "  warnings.warn(\"This figure includes Axes that are not compatible \"\n"
     ]
    },
    {
     "data": {
      "image/png": "[encoded data removed]",
      "text/plain": [
       "<Figure size 432x288 with 1 Axes>"
      ]
     },
     "metadata": {},
     "output_type": "display_data"
    }
   ],
   "source": [
    "g = sns.distplot(df_jittered2[\"Mrdr_manslter\"],bins=50)"
   ]
  },
  {
   "cell_type": "code",
   "execution_count": 2209,
   "metadata": {},
   "outputs": [
    {
     "name": "stderr",
     "output_type": "stream",
     "text": [
      "C:\\ProgramData\\Anaconda3\\lib\\site-packages\\matplotlib\\figure.py:2366: UserWarning: This figure includes Axes that are not compatible with tight_layout, so results might be incorrect.\n",
      "  warnings.warn(\"This figure includes Axes that are not compatible \"\n"
     ]
    },
    {
     "data": {
      "image/png": "[encoded data removed]",
      "text/plain": [
       "<Figure size 432x288 with 1 Axes>"
      ]
     },
     "metadata": {},
     "output_type": "display_data"
    }
   ],
   "source": [
    "g = sns.distplot(df_jittered2[\"Pop\"],bins=50)"
   ]
  },
  {
   "cell_type": "code",
   "execution_count": 2226,
   "metadata": {},
   "outputs": [
    {
     "name": "stderr",
     "output_type": "stream",
     "text": [
      "C:\\ProgramData\\Anaconda3\\lib\\site-packages\\matplotlib\\figure.py:2366: UserWarning: This figure includes Axes that are not compatible with tight_layout, so results might be incorrect.\n",
      "  warnings.warn(\"This figure includes Axes that are not compatible \"\n"
     ]
    },
    {
     "data": {
      "image/png": "[encoded data removed]",
      "text/plain": [
       "<Figure size 432x288 with 1 Axes>"
      ]
     },
     "metadata": {},
     "output_type": "display_data"
    }
   ],
   "source": [
    "g = sns.distplot(features['Murder_Occured'],bins=60)"
   ]
  },
  {
   "cell_type": "code",
   "execution_count": 2232,
   "metadata": {},
   "outputs": [
    {
     "data": {
      "text/plain": [
       "<matplotlib.axes._subplots.AxesSubplot at 0x15816a92518>"
      ]
     },
     "execution_count": 2232,
     "metadata": {},
     "output_type": "execute_result"
    },
    {
     "name": "stderr",
     "output_type": "stream",
     "text": [
      "C:\\ProgramData\\Anaconda3\\lib\\site-packages\\matplotlib\\figure.py:2366: UserWarning: This figure includes Axes that are not compatible with tight_layout, so results might be incorrect.\n",
      "  warnings.warn(\"This figure includes Axes that are not compatible \"\n"
     ]
    },
    {
     "data": {
      "image/png": "[encoded data removed]",
      "text/plain": [
       "<Figure size 432x288 with 1 Axes>"
      ]
     },
     "metadata": {},
     "output_type": "display_data"
    }
   ],
   "source": [
    "sns.distplot(features['Robbery_Occured'],bins=60)"
   ]
  },
  {
   "cell_type": "code",
   "execution_count": 2259,
   "metadata": {},
   "outputs": [
    {
     "name": "stderr",
     "output_type": "stream",
     "text": [
      "C:\\ProgramData\\Anaconda3\\lib\\site-packages\\matplotlib\\figure.py:2366: UserWarning: This figure includes Axes that are not compatible with tight_layout, so results might be incorrect.\n",
      "  warnings.warn(\"This figure includes Axes that are not compatible \"\n"
     ]
    },
    {
     "data": {
      "image/png": "[encoded data removed]",
      "text/plain": [
       "<Figure size 720x720 with 20 Axes>"
      ]
     },
     "metadata": {},
     "output_type": "display_data"
    }
   ],
   "source": [
    "# Declare that you want to make a scatterplot matrix.\n",
    "g = sns.PairGrid(df_jittered2, diag_sharey=False)\n",
    "# Scatterplot.\n",
    "g.map_upper(plt.scatter, alpha=.5)\n",
    "# Fit line summarizing the linear relationship of the two variables.\n",
    "g.map_lower(sns.regplot, scatter_kws=dict(alpha=0))\n",
    "# Give information about the univariate distributions of the variables.\n",
    "g.map_diag(sns.kdeplot, lw=3)\n",
    "plt.show()"
   ]
  }
 ],
 "metadata": {
  "kernelspec": {
   "display_name": "Python 3",
   "language": "python",
   "name": "python3"
  },
  "language_info": {
   "codemirror_mode": {
    "name": "ipython",
    "version": 3
   },
   "file_extension": ".py",
   "mimetype": "text/x-python",
   "name": "python",
   "nbconvert_exporter": "python",
   "pygments_lexer": "ipython3",
   "version": "3.7.1"
  }
 },
 "nbformat": 4,
 "nbformat_minor": 2
}

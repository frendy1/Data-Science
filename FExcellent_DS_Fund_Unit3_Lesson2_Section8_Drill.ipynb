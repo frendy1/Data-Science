{
 "cells": [
  {
   "cell_type": "markdown",
   "metadata": {},
   "source": [
    "FExcellent_DS_Fund_Unit3_Lesson2_Section8_Drill"
   ]
  },
  {
   "cell_type": "markdown",
   "metadata": {},
   "source": [
    "You are on a game show and given the choice of whatever is behind three doors. Behind one door is a fantastic prize (some examples use a car, others use cash) while behind the other two doors is a dud (some examples say a goat, others say it's just empty). You pick a door. Then the host opens one of the other two doors to reveal a dud. But here's the wrinkle: the host now gives you the opportunity to switch your door. What should you do?\n",
    "\n",
    "Answer:\n",
    "Do not switch doors.\n",
    "\n",
    "Analysis:\n",
    "The host picked a dud.\n",
    "\n",
    "Therefore, \n",
    "\n",
    "Scenario 1.\n",
    "Assuming I picked a dud door initially, then the chance that the final door is the prize door:\n",
    "\n",
    "P(A | B or C) = P(B or C | A) * P(A) / [P(A)*P(B or C|A) + P(A~)*P(B or C|A~)]\n",
    "\n",
    "P(A) = 1/3\n",
    "P(B or C | A) = 2/2\n",
    "P(A~) = 2/3\n",
    "P(B or C|A~) = 1/2\n",
    "\n",
    "P(A | B or C) = ((2/2) * (1/3))/(((1/3) * (2/2)) + ((2/3) * (1/2)))\n",
    "\n",
    "Scenario 2.\n",
    "Assuming I picked a prize door initially, then the chance that the final door is a dud door:\n",
    "\n",
    "P(B | C or A) = P(C or A | B) * P(B) / [P(B)*P(C or A|B) + P(B~)*P(C or A|B~)]\n",
    "\n",
    "P(B) = 1/3\n",
    "P(C or A | B) = 2/2\n",
    "P(B~) = 2/3\n",
    "P(C or A|B~) = 2/2\n",
    "\n",
    "P(B | C or A) = ((2/2) * (1/3))/(((1/3) * (2/2)) + ((2/3) * (2/2)))\n",
    "\n",
    "Computations of probabilities yield:\n",
    "\n",
    "\n",
    "initial: prize_prob: 0.3333333333333333\n",
    "\n",
    "initial dud_prob: 0.6666666666666666\n",
    "\n",
    "Assuming I picked a dud door initially, then the chance that the final door is the prize door: 0.5\n",
    "This means a 50% chance that I've picked the dud door (could go either way).\n",
    "\n",
    "Assuming I picked a prize door initially, then the chance that the final door is a dud door: 0.3333333333333333\n",
    "This means a 67% chance that I've picked the prize door.\n",
    "\n",
    "\n",
    "\n",
    "\n",
    "\n"
   ]
  },
  {
   "cell_type": "code",
   "execution_count": 11,
   "metadata": {},
   "outputs": [
    {
     "name": "stdout",
     "output_type": "stream",
     "text": [
      "\n",
      "initial: prize_prob: 0.3333333333333333\n",
      "\n",
      "initial dud_prob: 0.6666666666666666\n",
      "\n",
      "Assuming I picked a dud door initially, then the chance that the final door is the prize door: 0.5\n",
      "\n",
      "Assuming I picked a prize door initially, then the chance that the final door is a dud door: 0.3333333333333333\n"
     ]
    }
   ],
   "source": [
    "prize_prob_init = 1/3\n",
    "dud_prob_init = 2/3\n",
    "\n",
    "print(\"\\ninitial: prize_prob: \" + str(prize_prob_init))\n",
    "print(\"\\ninitial dud_prob: \" + str(dud_prob_init))\n",
    "\n",
    "\n",
    "prize_prob_post = ((2/2) * (1/3))/(((1/3) * (2/2)) + ((2/3) * (1/2)))\n",
    "dud_prob_post = ((2/2) * (1/3))/(((1/3) * (2/2)) + ((2/3) * (2/2)))\n",
    "\n",
    "print(\"\\nAssuming I picked a dud door initially, then the chance that the final door is the prize door: \" + str(prize_prob_post))\n",
    "print(\"\\nAssuming I picked a prize door initially, then the chance that the final door is a dud door: \" + str(dud_prob_post))\n"
   ]
  }
 ],
 "metadata": {
  "kernelspec": {
   "display_name": "Python 3",
   "language": "python",
   "name": "python3"
  },
  "language_info": {
   "codemirror_mode": {
    "name": "ipython",
    "version": 3
   },
   "file_extension": ".py",
   "mimetype": "text/x-python",
   "name": "python",
   "nbconvert_exporter": "python",
   "pygments_lexer": "ipython3",
   "version": "3.7.1"
  }
 },
 "nbformat": 4,
 "nbformat_minor": 2
}

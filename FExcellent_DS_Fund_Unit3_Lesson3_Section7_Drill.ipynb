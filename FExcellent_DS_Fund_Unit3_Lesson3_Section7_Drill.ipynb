{
 "cells": [
  {
   "cell_type": "markdown",
   "metadata": {},
   "source": [
    "Now that you have some code to create your own populations, sample them, and compare the samples to the populations, it's time to experiment. Using your own Jupyter notebook, or a copy of the notebook from the previous assignment, reproduce the pop1 and pop2 populations and samples, using numpy's binomial function. Specifically, create two binomially distributed populations with n equal to 10 and size equal to 10000. The p-value of pop1 should be 0.2 and the p-value of pop2 should be 0.5. Using a sample size of 100, calculate the means and standard deviations of your samples.\n",
    "\n",
    "For each of the following tasks, first write what you expect will happen, then code the changes and observe what does happen. Discuss the results with your mentor.\n",
    "\n",
    "For each of the following tasks, first write what you expect will happen, then code the changes and observe what does happen. Discuss the results with your mentor.\n",
    "\n",
    "1.\n",
    "Increase the size of your samples from 100 to 1000, then calculate the means and standard deviations for your new samples and create histograms for each. Repeat this again, decreasing the size of your samples to 20. What values change, and what remain the same?\n",
    "\n",
    "Answer:\n",
    "The means of both samples and the std of sample 1 changed. The std of sample2 remains practically unchanged \n",
    "\n",
    "2.\n",
    "Change the probability value (p in the NumPy documentation) for pop1 to 0.3, then take new samples and compute the t-statistic and p-value. Then change the probability value p for group 1 to 0.4, and do it again. What changes, and why?\n",
    "\n",
    "Answer:\n",
    "Large change for the mean of sample1, reflecting change in n * p (from 10 * .3 to 10 * .4) \n",
    "\n",
    "3.\n",
    "Change the distribution of your populations from binomial to a distribution of your choice. Do the sample mean values still accurately represent the population values?\n",
    "\n",
    "Answer:\n",
    "Yes, sample mean values still accurately represents the population values: 10% and 14% chance that difference is due to chance."
   ]
  },
  {
   "cell_type": "code",
   "execution_count": 3,
   "metadata": {},
   "outputs": [],
   "source": [
    "import numpy as np\n",
    "import pandas as pd\n",
    "import scipy\n",
    "import matplotlib.pyplot as plt\n",
    "%matplotlib inline"
   ]
  },
  {
   "cell_type": "code",
   "execution_count": 4,
   "metadata": {},
   "outputs": [
    {
     "name": "stdout",
     "output_type": "stream",
     "text": [
      "1.99\n",
      "5.14\n",
      "1.1445086281894077\n",
      "1.5938632312717422\n"
     ]
    }
   ],
   "source": [
    "pop1 = np.random.binomial(10, 0.2, 10000)\n",
    "pop2 = np.random.binomial(10,0.5, 10000) \n",
    "\n",
    "sample1 = np.random.choice(pop1, 100, replace=True)\n",
    "sample2 = np.random.choice(pop2, 100, replace=True)\n",
    "\n",
    "print(sample1.mean())\n",
    "print(sample2.mean())\n",
    "print(sample1.std())\n",
    "print(sample2.std())"
   ]
  },
  {
   "cell_type": "markdown",
   "metadata": {},
   "source": [
    "1.\n",
    "Increase the size of your samples from 100 to 1000, then calculate the means and standard deviations for your new samples and create histograms for each. Repeat this again, decreasing the size of your samples to 20. What values change, and what remain the same? Increasing sample size should result in mean and std values closer to population mean and std (more normal).  Dereasing sample size should result in mean and std values farther from population mean and std (less normal)."
   ]
  },
  {
   "cell_type": "code",
   "execution_count": 5,
   "metadata": {},
   "outputs": [
    {
     "name": "stdout",
     "output_type": "stream",
     "text": [
      "1.945\n",
      "4.939\n",
      "1.2767047426872042\n",
      "1.6022730728561845\n"
     ]
    },
    {
     "data": {
      "image/png": "[encoded data removed]",
      "text/plain": [
       "<Figure size 432x288 with 1 Axes>"
      ]
     },
     "metadata": {
      "needs_background": "light"
     },
     "output_type": "display_data"
    }
   ],
   "source": [
    "pop1 = np.random.binomial(10, 0.2, 10000)\n",
    "pop2 = np.random.binomial(10,0.5, 10000) \n",
    "\n",
    "sample1 = np.random.choice(pop1, 1000, replace=True)\n",
    "sample2 = np.random.choice(pop2, 1000, replace=True)\n",
    "\n",
    "\n",
    "print(sample1.mean())\n",
    "print(sample2.mean())\n",
    "print(sample1.std())\n",
    "print(sample2.std())\n",
    "\n",
    "\n",
    "plt.hist(sample1, alpha=0.5, label='sample 1') \n",
    "plt.hist(sample2, alpha=0.5, label='sample 2') \n",
    "plt.legend(loc='upper right') \n",
    "plt.show()"
   ]
  },
  {
   "cell_type": "code",
   "execution_count": 11,
   "metadata": {},
   "outputs": [
    {
     "name": "stdout",
     "output_type": "stream",
     "text": [
      "\n",
      "sample1 mean: \n",
      "\n",
      "1.65\n",
      "\n",
      "sample2 mean: \n",
      "\n",
      "5.35\n",
      "\n",
      "sample1 std: \n",
      "\n",
      "1.3143439428094914\n",
      "\n",
      "sample2 std: \n",
      "\n",
      "1.5580436450882882\n"
     ]
    },
    {
     "data": {
      "image/png": "[encoded data removed]",
      "text/plain": [
       "<Figure size 432x288 with 1 Axes>"
      ]
     },
     "metadata": {
      "needs_background": "light"
     },
     "output_type": "display_data"
    }
   ],
   "source": [
    "pop1 = np.random.binomial(10, 0.2, 10000)\n",
    "pop2 = np.random.binomial(10,0.5, 10000) \n",
    "\n",
    "sample1 = np.random.choice(pop1, 20, replace=True)\n",
    "sample2 = np.random.choice(pop2, 20, replace=True)\n",
    "\n",
    "print('\\nsample1 mean: \\n')\n",
    "print(sample1.mean())\n",
    "print('\\nsample2 mean: \\n')\n",
    "print(sample2.mean())\n",
    "print('\\nsample1 std: \\n')\n",
    "print(sample1.std())\n",
    "print('\\nsample2 std: \\n')\n",
    "print(sample2.std())\n",
    "\n",
    "\n",
    "plt.hist(sample1, alpha=0.5, label='sample 1') \n",
    "plt.hist(sample2, alpha=0.5, label='sample 2') \n",
    "plt.legend(loc='upper right') \n",
    "plt.show()"
   ]
  },
  {
   "cell_type": "markdown",
   "metadata": {},
   "source": [
    "2.\n",
    "Change the probability value (p in the NumPy documentation) for pop1 to 0.3, then take new samples and compute the t-statistic and p-value. Then change the probability value p for group 1 to 0.4, and do it again. What changes, and why?\n",
    "\n",
    "Large change for the mean of sample1, reflecting change in n * p (from 10 * .3 to 10 * .4) "
   ]
  },
  {
   "cell_type": "code",
   "execution_count": 17,
   "metadata": {},
   "outputs": [
    {
     "name": "stdout",
     "output_type": "stream",
     "text": [
      "\n",
      "sample1 mean: \n",
      "\n",
      "2.96\n",
      "\n",
      "sample2 mean: \n",
      "\n",
      "5.17\n",
      "\n",
      "sample1 std: \n",
      "\n",
      "1.4894294209528698\n",
      "\n",
      "sample2 std: \n",
      "\n",
      "1.5624019969265273\n",
      "\n",
      "diff_mean (sample2 - sample1: \n",
      "\n",
      "2.21\n",
      "\n",
      "t-value: \n",
      "\n",
      "10.238176580061289\n",
      "\n",
      "t-test: \n",
      "\n",
      "Ttest_indResult(statistic=10.186857076040202, pvalue=7.416840706689633e-20)\n"
     ]
    }
   ],
   "source": [
    "#Change the probability value (p in the NumPy documentation) for pop1 to 0.3, then take new samples and compute the t-statistic and p-value. \n",
    "\n",
    "pop1 = np.random.binomial(10, 0.3, 10000)\n",
    "pop2 = np.random.binomial(10,0.5, 10000) \n",
    "\n",
    "sample1 = np.random.choice(pop1, 100, replace=True)\n",
    "sample2 = np.random.choice(pop2, 100, replace=True)\n",
    "\n",
    "# Compute the difference between the two sample means.\n",
    "diff_mean = sample2.mean( ) - sample1.mean()\n",
    "\n",
    "\n",
    "size = np.array([len(sample1), len(sample2)])\n",
    "sd = np.array([sample1.std(), sample2.std()])\n",
    "\n",
    "# The squared standard deviations are divided by the sample size and summed, then we take\n",
    "# the square root of the sum. \n",
    "diff_se = (sum(sd ** 2 / size)) ** 0.5  \n",
    "\n",
    "\n",
    "print('\\nsample1 mean: \\n')\n",
    "print(sample1.mean())\n",
    "print('\\nsample2 mean: \\n')\n",
    "print(sample2.mean())\n",
    "print('\\nsample1 std: \\n')\n",
    "print(sample1.std())\n",
    "print('\\nsample2 std: \\n')\n",
    "print(sample2.std())\n",
    "print('\\ndiff_mean (sample2 - sample1: \\n')\n",
    "print(diff_mean)\n",
    "print('\\nt-value: \\n')\n",
    "print(diff_mean/diff_se)\n",
    "\n",
    "from scipy.stats import ttest_ind\n",
    "\n",
    "print('\\nt-test: \\n')\n",
    "print(ttest_ind(sample2, sample1, equal_var=False))"
   ]
  },
  {
   "cell_type": "code",
   "execution_count": 19,
   "metadata": {},
   "outputs": [
    {
     "name": "stdout",
     "output_type": "stream",
     "text": [
      "\n",
      "sample1 mean: \n",
      "\n",
      "3.96\n",
      "\n",
      "sample2 mean: \n",
      "\n",
      "5.07\n",
      "\n",
      "sample1 std: \n",
      "\n",
      "1.4691494137765568\n",
      "\n",
      "sample2 std: \n",
      "\n",
      "1.4370455803487932\n",
      "\n",
      "diff_mean (sample2 - sample1: \n",
      "\n",
      "1.1100000000000003\n",
      "\n",
      "t-value: \n",
      "\n",
      "5.401156105278598\n",
      "\n",
      "t-test: \n",
      "\n",
      "Ttest_indResult(statistic=5.374082470603925, pvalue=2.1524864227091861e-07)\n"
     ]
    }
   ],
   "source": [
    "#Change the probability value (p in the NumPy documentation) for pop1 to 0.4, then take new samples and compute the t-statistic and p-value. \n",
    "\n",
    "pop1 = np.random.binomial(10, 0.4, 10000)\n",
    "pop2 = np.random.binomial(10,0.5, 10000) \n",
    "\n",
    "sample1 = np.random.choice(pop1, 100, replace=True)\n",
    "sample2 = np.random.choice(pop2, 100, replace=True)\n",
    "\n",
    "# Compute the difference between the two sample means.\n",
    "diff_mean = sample2.mean( ) - sample1.mean()\n",
    "\n",
    "\n",
    "size = np.array([len(sample1), len(sample2)])\n",
    "sd = np.array([sample1.std(), sample2.std()])\n",
    "\n",
    "# The squared standard deviations are divided by the sample size and summed, then we take\n",
    "# the square root of the sum. \n",
    "diff_se = (sum(sd ** 2 / size)) ** 0.5  \n",
    "\n",
    "\n",
    "print('\\nsample1 mean: \\n')\n",
    "print(sample1.mean())\n",
    "print('\\nsample2 mean: \\n')\n",
    "print(sample2.mean())\n",
    "print('\\nsample1 std: \\n')\n",
    "print(sample1.std())\n",
    "print('\\nsample2 std: \\n')\n",
    "print(sample2.std())\n",
    "print('\\ndiff_mean (sample2 - sample1: \\n')\n",
    "print(diff_mean)\n",
    "print('\\nt-value: \\n')\n",
    "print(diff_mean/diff_se)\n",
    "\n",
    "from scipy.stats import ttest_ind\n",
    "\n",
    "print('\\nt-test: \\n')\n",
    "print(ttest_ind(sample2, sample1, equal_var=False))"
   ]
  },
  {
   "cell_type": "markdown",
   "metadata": {},
   "source": [
    "3.\n",
    "Change the distribution of your populations from binomial to a distribution of your choice. Do the sample mean values still accurately represent the population values?\n",
    "\n",
    "Yes, sample mean values still accurately represents the population values: 10% and 14% chance that difference is due to chance."
   ]
  },
  {
   "cell_type": "code",
   "execution_count": 8,
   "metadata": {},
   "outputs": [
    {
     "name": "stdout",
     "output_type": "stream",
     "text": [
      "\n",
      "sample1 mean: \n",
      "\n",
      "10.062462004476659\n",
      "\n",
      "sample2 mean: \n",
      "\n",
      "9.964583460498012\n",
      "\n",
      "sample1 std: \n",
      "\n",
      "0.2695028179739281\n",
      "\n",
      "sample2 std: \n",
      "\n",
      "0.5293419498640335\n",
      "\n",
      "diff_mean (sample2 - sample1: \n",
      "\n",
      "-0.0978785439786467\n",
      "\n",
      "t-value: \n",
      "\n",
      "-1.6477900441516438\n",
      "\n",
      "t-test: \n",
      "\n",
      "Ttest_indResult(statistic=-1.6395303929202483, pvalue=0.10323983524363628)\n"
     ]
    }
   ],
   "source": [
    "#Use normal distribution\n",
    "pop1 = np.random.normal(10, .3, 10000)\n",
    "pop2 = np.random.normal(10, .5, 10000) \n",
    "\n",
    "sample1 = np.random.choice(pop1, 100, replace=True)\n",
    "sample2 = np.random.choice(pop2, 100, replace=True)\n",
    "\n",
    "# Compute the difference between the two sample means.\n",
    "diff_mean = sample2.mean( ) - sample1.mean()\n",
    "\n",
    "\n",
    "size = np.array([len(sample1), len(sample2)])\n",
    "sd = np.array([sample1.std(), sample2.std()])\n",
    "\n",
    "# The squared standard deviations are divided by the sample size and summed, then we take\n",
    "# the square root of the sum. \n",
    "diff_se = (sum(sd ** 2 / size)) ** 0.5  \n",
    "\n",
    "\n",
    "print('\\nsample1 mean: \\n')\n",
    "print(sample1.mean())\n",
    "print('\\nsample2 mean: \\n')\n",
    "print(sample2.mean())\n",
    "print('\\nsample1 std: \\n')\n",
    "print(sample1.std())\n",
    "print('\\nsample2 std: \\n')\n",
    "print(sample2.std())\n",
    "print('\\ndiff_mean (sample2 - sample1: \\n')\n",
    "print(diff_mean)\n",
    "print('\\nt-value: \\n')\n",
    "print(diff_mean/diff_se)\n",
    "\n",
    "from scipy.stats import ttest_ind\n",
    "\n",
    "print('\\nt-test: \\n')\n",
    "print(ttest_ind(sample2, sample1, equal_var=False))"
   ]
  },
  {
   "cell_type": "code",
   "execution_count": 10,
   "metadata": {},
   "outputs": [
    {
     "name": "stdout",
     "output_type": "stream",
     "text": [
      "\n",
      "sample1 mean: \n",
      "\n",
      "10.081228678437464\n",
      "\n",
      "sample2 mean: \n",
      "\n",
      "9.987617117382435\n",
      "\n",
      "sample1 std: \n",
      "\n",
      "0.4277924275917136\n",
      "\n",
      "sample2 std: \n",
      "\n",
      "0.47150301721827353\n",
      "\n",
      "diff_mean (sample2 - sample1: \n",
      "\n",
      "-0.09361156105502921\n",
      "\n",
      "t-value: \n",
      "\n",
      "-1.4703803503729338\n",
      "\n",
      "t-test: \n",
      "\n",
      "Ttest_indResult(statistic=-1.4630099763894993, pvalue=0.1450651234463857)\n"
     ]
    }
   ],
   "source": [
    "#Use normal distribution\n",
    "pop1 = np.random.normal(10, .4, 10000)\n",
    "pop2 = np.random.normal(10, .5, 10000) \n",
    "\n",
    "sample1 = np.random.choice(pop1, 100, replace=True)\n",
    "sample2 = np.random.choice(pop2, 100, replace=True)\n",
    "\n",
    "# Compute the difference between the two sample means.\n",
    "diff_mean = sample2.mean( ) - sample1.mean()\n",
    "\n",
    "\n",
    "size = np.array([len(sample1), len(sample2)])\n",
    "sd = np.array([sample1.std(), sample2.std()])\n",
    "\n",
    "# The squared standard deviations are divided by the sample size and summed, then we take\n",
    "# the square root of the sum. \n",
    "diff_se = (sum(sd ** 2 / size)) ** 0.5  \n",
    "\n",
    "\n",
    "print('\\nsample1 mean: \\n')\n",
    "print(sample1.mean())\n",
    "print('\\nsample2 mean: \\n')\n",
    "print(sample2.mean())\n",
    "print('\\nsample1 std: \\n')\n",
    "print(sample1.std())\n",
    "print('\\nsample2 std: \\n')\n",
    "print(sample2.std())\n",
    "print('\\ndiff_mean (sample2 - sample1: \\n')\n",
    "print(diff_mean)\n",
    "print('\\nt-value: \\n')\n",
    "print(diff_mean/diff_se)\n",
    "\n",
    "from scipy.stats import ttest_ind\n",
    "\n",
    "print('\\nt-test: \\n')\n",
    "print(ttest_ind(sample2, sample1, equal_var=False))"
   ]
  }
 ],
 "metadata": {
  "kernelspec": {
   "display_name": "Python 3",
   "language": "python",
   "name": "python3"
  },
  "language_info": {
   "codemirror_mode": {
    "name": "ipython",
    "version": 3
   },
   "file_extension": ".py",
   "mimetype": "text/x-python",
   "name": "python",
   "nbconvert_exporter": "python",
   "pygments_lexer": "ipython3",
   "version": "3.7.1"
  }
 },
 "nbformat": 4,
 "nbformat_minor": 2
}

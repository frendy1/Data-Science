{
 "cells": [
  {
   "cell_type": "code",
   "execution_count": 1,
   "metadata": {},
   "outputs": [],
   "source": [
    "import pandas as pd\n",
    "import numpy as np\n",
    "import matplotlib\n",
    "import matplotlib.pyplot as plt\n",
    "from matplotlib.mlab import PCA as mlabPCA\n",
    "import seaborn as sns\n",
    "import math\n",
    "import scipy.stats as stats\n",
    "import statsmodels.formula.api as smf\n",
    "import calendar\n",
    "import time\n",
    "import glob\n",
    "import gc\n",
    "import os\n",
    "import warnings\n",
    "import locale\n",
    "from IPython.display import display\n",
    "import sklearn\n",
    "from sklearn.preprocessing import StandardScaler\n",
    "from sklearn import preprocessing\n",
    "from sklearn.decomposition import PCA \n",
    "from sklearn import linear_model\n",
    "from sklearn.covariance import EmpiricalCovariance, MinCovDet\n",
    "from statsmodels.sandbox.regression.predstd import wls_prediction_std\n",
    "from sklearn.cross_decomposition import PLSRegression\n",
    "from sklearn.model_selection import train_test_split\n",
    "from sklearn.neighbors import KNeighborsClassifier\n",
    "from sklearn import neighbors\n",
    "from sklearn.model_selection import cross_val_score\n",
    "from sklearn.linear_model import LogisticRegression\n",
    "\n",
    "%matplotlib inline\n",
    "pd.options.display.float_format = '{:.3f}'.format\n",
    "\n",
    "# Suppress annoying harmless error.\n",
    "warnings.filterwarnings(action=\"ignore\", module=\"scipy\", message=\"^internal gelsd\")"
   ]
  },
  {
   "cell_type": "markdown",
   "metadata": {},
   "source": [
    "## DS_2_4_2 DATA CLEANUP AND EXPLORATION"
   ]
  },
  {
   "cell_type": "code",
   "execution_count": 2,
   "metadata": {},
   "outputs": [],
   "source": [
    "#These are already included in data text file. Just added here for reference.\n",
    "my_cols = [\n",
    "            'City',\n",
    "            'Pop',\n",
    "            'Violent_cr',\n",
    "            'Mrdr_manslter',\n",
    "            'Rape1',\n",
    "            'Rape2',\n",
    "            'Robbery',\n",
    "            'Agg_asslt',\n",
    "            'Prop_cr',\n",
    "            'Burg',\n",
    "            'Larc_thft',\n",
    "            'Mtr_vhcl_thft',\n",
    "            'Arson3'\n",
    "            ]\n",
    "from locale import atof\n",
    "locale.setlocale(locale.LC_NUMERIC, '')\n",
    "df = pd.read_csv(\"crime_data_ny_2013.txt\",encoding=\"utf-8\", thousands=',')\n",
    "df.replace('', np.nan, inplace=True)\n",
    "df.fillna(0,inplace=True)\n",
    "df = df.astype({            \n",
    "                'City':'object',\n",
    "                'Pop':'int64',\n",
    "                'Violent_cr':'int64',\n",
    "                'Mrdr_manslter':'int64',\n",
    "                'Rape1':'int64',\n",
    "                'Rape2':'int64',\n",
    "                'Robbery':'int64',\n",
    "                'Agg_asslt':'int64',\n",
    "                'Prop_cr':'int64',\n",
    "                'Burg':'int64',\n",
    "                'Larc_thft':'int64',\n",
    "                'Mtr_vhcl_thft':'int64',\n",
    "                'Arson3':'int64'\n",
    "                })\n",
    "df[\"Pop_squared\"] = np.square(df[\"Pop\"])\n",
    "df2 = df.loc[((df[\"City\"] != \"\")), [\n",
    "                                    \"City\",\n",
    "                                    \"Pop\",\n",
    "                                    \"Pop_squared\",   \n",
    "                                    \"Violent_cr\",\n",
    "                                    \"Mrdr_manslter\",\n",
    "                                    \"Rape2\", \n",
    "                                    \"Robbery\",\n",
    "                                    \"Agg_asslt\",\n",
    "                                    \"Burg\",\n",
    "                                    \"Larc_thft\",\n",
    "                                    \"Mtr_vhcl_thft\", \n",
    "                                    \"Prop_cr\"\n",
    "                                    ]]\n",
    "df_jittered2 = df2\n",
    "df_jittered2.shape[0]\n",
    "df_jittered2['Pop'] = df.apply(lambda x: 100000 if x['Pop'] > 100000 else x['Pop'], axis=1)\n",
    "df_jittered2['Pop_squared'] = df.apply(lambda x:  7000000000 if x['Pop_squared'] >  7000000000 else x['Pop_squared'], axis=1)\n",
    "df_jittered2['Violent_cr'] = df.apply(lambda x: 400 if x['Violent_cr'] > 400 else x['Violent_cr'], axis=1)\n",
    "df_jittered2['Agg_asslt'] = df.apply(lambda x: 50 if x['Agg_asslt'] > 50 else x['Agg_asslt'], axis=1)\n",
    "df_jittered2['Burg'] = df.apply(lambda x: 400 if x['Burg'] > 400 else x['Burg'], axis=1)\n",
    "df_jittered2['Larc_thft'] = df.apply(lambda x: 800 if x['Larc_thft'] > 800 else x['Larc_thft'], axis=1)\n",
    "df_jittered2['Mtr_vhcl_thft'] = df.apply(lambda x: 100 if x['Mtr_vhcl_thft'] > 100 else x['Mtr_vhcl_thft'], axis=1)\n",
    "df_jittered2['Prop_cr'] = df.apply(lambda x: 2000 if x['Prop_cr'] > 2000 else x['Prop_cr'], axis=1)\n",
    "\n",
    "# Set features\n",
    "features = pd.get_dummies(df_jittered2['City'])\n",
    "features['Murder_feat'] = np.where(df_jittered2['Mrdr_manslter']>0, 1, 0)\n",
    "features['Rape2_feat'] = np.where(df_jittered2['Rape2']>0, 1, 0)\n",
    "features['Robbery_feat'] = np.where(df_jittered2['Robbery']>0, 1, 0)\n",
    "\n",
    "#Data\n",
    "\n",
    "df3=pd.DataFrame()\n",
    "\n",
    "df3['Pop'] = df_jittered2['Pop']\n",
    "df3['Pop2'] = df_jittered2['Pop_squared']\n",
    "df3['Murder_feat'] = features['Murder_feat']\n",
    "df3['Robbery_feat'] = features['Robbery_feat']\n",
    "df3['Violent_cr'] = df_jittered2['Violent_cr']\n",
    "df3['Agg_asslt'] = df_jittered2['Agg_asslt']\n",
    "df3['Burg'] = df_jittered2['Burg']\n",
    "df3['Larc_thft'] = df_jittered2['Larc_thft']\n",
    "df3['Mtr_vhcl_thft'] = df_jittered2['Mtr_vhcl_thft']\n",
    "\n",
    "df3['Prop_cr'] = df_jittered2['Prop_cr']\n",
    "\n",
    "\n"
   ]
  },
  {
   "cell_type": "code",
   "execution_count": 3,
   "metadata": {},
   "outputs": [
    {
     "data": {
      "text/html": [
       "<div>\n",
       "<style scoped>\n",
       "    .dataframe tbody tr th:only-of-type {\n",
       "        vertical-align: middle;\n",
       "    }\n",
       "\n",
       "    .dataframe tbody tr th {\n",
       "        vertical-align: top;\n",
       "    }\n",
       "\n",
       "    .dataframe thead th {\n",
       "        text-align: right;\n",
       "    }\n",
       "</style>\n",
       "<table border=\"1\" class=\"dataframe\">\n",
       "  <thead>\n",
       "    <tr style=\"text-align: right;\">\n",
       "      <th></th>\n",
       "      <th>Pop</th>\n",
       "      <th>Pop2</th>\n",
       "      <th>Murder_feat</th>\n",
       "      <th>Robbery_feat</th>\n",
       "      <th>Violent_cr</th>\n",
       "      <th>Agg_asslt</th>\n",
       "      <th>Burg</th>\n",
       "      <th>Larc_thft</th>\n",
       "      <th>Mtr_vhcl_thft</th>\n",
       "      <th>Prop_cr</th>\n",
       "    </tr>\n",
       "  </thead>\n",
       "  <tbody>\n",
       "    <tr>\n",
       "      <th>0</th>\n",
       "      <td>1861</td>\n",
       "      <td>3463321</td>\n",
       "      <td>0</td>\n",
       "      <td>0</td>\n",
       "      <td>0</td>\n",
       "      <td>0</td>\n",
       "      <td>2</td>\n",
       "      <td>10</td>\n",
       "      <td>0</td>\n",
       "      <td>12</td>\n",
       "    </tr>\n",
       "    <tr>\n",
       "      <th>1</th>\n",
       "      <td>2577</td>\n",
       "      <td>6640929</td>\n",
       "      <td>0</td>\n",
       "      <td>0</td>\n",
       "      <td>3</td>\n",
       "      <td>3</td>\n",
       "      <td>3</td>\n",
       "      <td>20</td>\n",
       "      <td>1</td>\n",
       "      <td>24</td>\n",
       "    </tr>\n",
       "    <tr>\n",
       "      <th>2</th>\n",
       "      <td>2846</td>\n",
       "      <td>8099716</td>\n",
       "      <td>0</td>\n",
       "      <td>0</td>\n",
       "      <td>3</td>\n",
       "      <td>3</td>\n",
       "      <td>1</td>\n",
       "      <td>15</td>\n",
       "      <td>0</td>\n",
       "      <td>16</td>\n",
       "    </tr>\n",
       "    <tr>\n",
       "      <th>3</th>\n",
       "      <td>97956</td>\n",
       "      <td>7000000000</td>\n",
       "      <td>1</td>\n",
       "      <td>1</td>\n",
       "      <td>400</td>\n",
       "      <td>50</td>\n",
       "      <td>400</td>\n",
       "      <td>800</td>\n",
       "      <td>100</td>\n",
       "      <td>2000</td>\n",
       "    </tr>\n",
       "    <tr>\n",
       "      <th>4</th>\n",
       "      <td>6388</td>\n",
       "      <td>40806544</td>\n",
       "      <td>0</td>\n",
       "      <td>1</td>\n",
       "      <td>23</td>\n",
       "      <td>16</td>\n",
       "      <td>53</td>\n",
       "      <td>165</td>\n",
       "      <td>5</td>\n",
       "      <td>223</td>\n",
       "    </tr>\n",
       "  </tbody>\n",
       "</table>\n",
       "</div>"
      ],
      "text/plain": [
       "     Pop        Pop2  Murder_feat  Robbery_feat  Violent_cr  Agg_asslt  Burg  \\\n",
       "0   1861     3463321            0             0           0          0     2   \n",
       "1   2577     6640929            0             0           3          3     3   \n",
       "2   2846     8099716            0             0           3          3     1   \n",
       "3  97956  7000000000            1             1         400         50   400   \n",
       "4   6388    40806544            0             1          23         16    53   \n",
       "\n",
       "   Larc_thft  Mtr_vhcl_thft  Prop_cr  \n",
       "0         10              0       12  \n",
       "1         20              1       24  \n",
       "2         15              0       16  \n",
       "3        800            100     2000  \n",
       "4        165              5      223  "
      ]
     },
     "execution_count": 3,
     "metadata": {},
     "output_type": "execute_result"
    }
   ],
   "source": [
    "df3.head()"
   ]
  },
  {
   "cell_type": "markdown",
   "metadata": {},
   "source": [
    " ## 𝑃𝑟𝑜𝑝𝑒𝑟𝑡𝑦𝑐𝑟𝑖𝑚𝑒 = 𝛼 + Population + Murder + Robbery"
   ]
  },
  {
   "cell_type": "code",
   "execution_count": 4,
   "metadata": {},
   "outputs": [
    {
     "name": "stderr",
     "output_type": "stream",
     "text": [
      "C:\\ProgramData\\Anaconda3\\lib\\site-packages\\matplotlib\\figure.py:2366: UserWarning: This figure includes Axes that are not compatible with tight_layout, so results might be incorrect.\n",
      "  warnings.warn(\"This figure includes Axes that are not compatible \"\n"
     ]
    },
    {
     "data": {
      "image/png": "[encoded data removed]",
      "text/plain": [
       "<Figure size 432x288 with 1 Axes>"
      ]
     },
     "metadata": {
      "needs_background": "light"
     },
     "output_type": "display_data"
    },
    {
     "name": "stdout",
     "output_type": "stream",
     "text": [
      "====================================KNN SCore==========================\n",
      "Weighted Accuracy: 0.79 (+/- 0.17)\n",
      "====================================OLS SCore==========================\n",
      "R-squared:\n",
      "0.8245298975884883\n",
      "=======================================================================\n"
     ]
    }
   ],
   "source": [
    "# Instantiate and fit our model.\n",
    "#Create regr instance\n",
    "regr = linear_model.LinearRegression()\n",
    "\n",
    "# Run the same model, this time with weights.\n",
    "d_n_neighbors = 20\n",
    "knn_w = neighbors.KNeighborsRegressor(n_neighbors=d_n_neighbors, weights='distance')\n",
    "\n",
    "# Our input data frame will be the z-scores this time instead of raw data.\n",
    "X = pd.DataFrame({\n",
    "    'Pop': stats.zscore(df3.Pop),    \n",
    "    'Murder_feat': stats.zscore(df3.Murder_feat),\n",
    "    'Robbery_feat': stats.zscore(df3.Robbery_feat)\n",
    "})\n",
    "Y = df3.Prop_cr\n",
    "\n",
    "# Set up our prediction line.\n",
    "T = np.arange(-2, 4, 0.1)\n",
    "S = np.array(T)\n",
    "ll = pd.DataFrame()\n",
    "ll['a'] = S\n",
    "ll['b'] = S\n",
    "ll['c'] = S\n",
    "X_axis = T[:, np.newaxis]\n",
    "\n",
    "#Train KNN\n",
    "knn_w.fit(X, Y)\n",
    "\n",
    "#Train OLS\n",
    "regr.fit(X, Y)\n",
    "\n",
    "#Predict KNN\n",
    "Yknn_ = knn_w.predict(ll)\n",
    "\n",
    "#Predict OLS\n",
    "Yols_ = regr.predict(ll)\n",
    "\n",
    "#Plot\n",
    "fig,ax = plt.subplots(1,1)\n",
    "ax.scatter(X['Pop'], Y, c='b', label='actual property crime')\n",
    "ax.plot(X_axis, Yknn_, marker='+', c='g', label='predicted property crime (KNN)')\n",
    "ax.plot(X_axis, Yols_, marker='+', c='r', label='predicted property crime (OLS)')\n",
    "ax.legend()\n",
    "ax.set_title('K=' + str(d_n_neighbors) + ' , Weighted and Normalized', y=1.05,size=12)\n",
    "ax.set_xlabel('Population z Score', labelpad=5, size=10)\n",
    "ax.set_ylabel('Property Crime', labelpad=5, size=10)\n",
    "plt.show()\n",
    "\n",
    "#Print parms\n",
    "print(\"====================================KNN SCore==========================\")\n",
    "score_w = cross_val_score(knn_w, X, Y, cv=5)\n",
    "print(\"Weighted Accuracy: %0.2f (+/- %0.2f)\" % (score_w.mean(), score_w.std() * 2))\n",
    "print(\"====================================OLS SCore==========================\")\n",
    "print('R-squared:')\n",
    "print(regr.score(X, Y))\n",
    "print(\"=======================================================================\")"
   ]
  },
  {
   "cell_type": "code",
   "execution_count": 5,
   "metadata": {},
   "outputs": [
    {
     "data": {
      "text/html": [
       "<div>\n",
       "<style scoped>\n",
       "    .dataframe tbody tr th:only-of-type {\n",
       "        vertical-align: middle;\n",
       "    }\n",
       "\n",
       "    .dataframe tbody tr th {\n",
       "        vertical-align: top;\n",
       "    }\n",
       "\n",
       "    .dataframe thead th {\n",
       "        text-align: right;\n",
       "    }\n",
       "</style>\n",
       "<table border=\"1\" class=\"dataframe\">\n",
       "  <thead>\n",
       "    <tr style=\"text-align: right;\">\n",
       "      <th></th>\n",
       "      <th>Pop</th>\n",
       "      <th>Pop2</th>\n",
       "      <th>Murder_feat</th>\n",
       "      <th>Robbery_feat</th>\n",
       "      <th>Violent_cr</th>\n",
       "      <th>Agg_asslt</th>\n",
       "      <th>Burg</th>\n",
       "      <th>Larc_thft</th>\n",
       "      <th>Mtr_vhcl_thft</th>\n",
       "      <th>Prop_cr</th>\n",
       "    </tr>\n",
       "  </thead>\n",
       "  <tbody>\n",
       "    <tr>\n",
       "      <th>Pop</th>\n",
       "      <td>1.000</td>\n",
       "      <td>0.958</td>\n",
       "      <td>0.551</td>\n",
       "      <td>0.425</td>\n",
       "      <td>0.758</td>\n",
       "      <td>0.776</td>\n",
       "      <td>0.840</td>\n",
       "      <td>0.825</td>\n",
       "      <td>0.830</td>\n",
       "      <td>0.901</td>\n",
       "    </tr>\n",
       "    <tr>\n",
       "      <th>Pop2</th>\n",
       "      <td>0.958</td>\n",
       "      <td>1.000</td>\n",
       "      <td>0.490</td>\n",
       "      <td>0.300</td>\n",
       "      <td>0.745</td>\n",
       "      <td>0.699</td>\n",
       "      <td>0.797</td>\n",
       "      <td>0.714</td>\n",
       "      <td>0.819</td>\n",
       "      <td>0.855</td>\n",
       "    </tr>\n",
       "    <tr>\n",
       "      <th>Murder_feat</th>\n",
       "      <td>0.551</td>\n",
       "      <td>0.490</td>\n",
       "      <td>1.000</td>\n",
       "      <td>0.313</td>\n",
       "      <td>0.603</td>\n",
       "      <td>0.598</td>\n",
       "      <td>0.595</td>\n",
       "      <td>0.557</td>\n",
       "      <td>0.560</td>\n",
       "      <td>0.574</td>\n",
       "    </tr>\n",
       "    <tr>\n",
       "      <th>Robbery_feat</th>\n",
       "      <td>0.425</td>\n",
       "      <td>0.300</td>\n",
       "      <td>0.313</td>\n",
       "      <td>1.000</td>\n",
       "      <td>0.304</td>\n",
       "      <td>0.476</td>\n",
       "      <td>0.402</td>\n",
       "      <td>0.552</td>\n",
       "      <td>0.332</td>\n",
       "      <td>0.453</td>\n",
       "    </tr>\n",
       "    <tr>\n",
       "      <th>Violent_cr</th>\n",
       "      <td>0.758</td>\n",
       "      <td>0.745</td>\n",
       "      <td>0.603</td>\n",
       "      <td>0.304</td>\n",
       "      <td>1.000</td>\n",
       "      <td>0.783</td>\n",
       "      <td>0.913</td>\n",
       "      <td>0.689</td>\n",
       "      <td>0.933</td>\n",
       "      <td>0.825</td>\n",
       "    </tr>\n",
       "    <tr>\n",
       "      <th>Agg_asslt</th>\n",
       "      <td>0.776</td>\n",
       "      <td>0.699</td>\n",
       "      <td>0.598</td>\n",
       "      <td>0.476</td>\n",
       "      <td>0.783</td>\n",
       "      <td>1.000</td>\n",
       "      <td>0.835</td>\n",
       "      <td>0.850</td>\n",
       "      <td>0.757</td>\n",
       "      <td>0.844</td>\n",
       "    </tr>\n",
       "    <tr>\n",
       "      <th>Burg</th>\n",
       "      <td>0.840</td>\n",
       "      <td>0.797</td>\n",
       "      <td>0.595</td>\n",
       "      <td>0.402</td>\n",
       "      <td>0.913</td>\n",
       "      <td>0.835</td>\n",
       "      <td>1.000</td>\n",
       "      <td>0.839</td>\n",
       "      <td>0.917</td>\n",
       "      <td>0.943</td>\n",
       "    </tr>\n",
       "    <tr>\n",
       "      <th>Larc_thft</th>\n",
       "      <td>0.825</td>\n",
       "      <td>0.714</td>\n",
       "      <td>0.557</td>\n",
       "      <td>0.552</td>\n",
       "      <td>0.689</td>\n",
       "      <td>0.850</td>\n",
       "      <td>0.839</td>\n",
       "      <td>1.000</td>\n",
       "      <td>0.745</td>\n",
       "      <td>0.930</td>\n",
       "    </tr>\n",
       "    <tr>\n",
       "      <th>Mtr_vhcl_thft</th>\n",
       "      <td>0.830</td>\n",
       "      <td>0.819</td>\n",
       "      <td>0.560</td>\n",
       "      <td>0.332</td>\n",
       "      <td>0.933</td>\n",
       "      <td>0.757</td>\n",
       "      <td>0.917</td>\n",
       "      <td>0.745</td>\n",
       "      <td>1.000</td>\n",
       "      <td>0.876</td>\n",
       "    </tr>\n",
       "    <tr>\n",
       "      <th>Prop_cr</th>\n",
       "      <td>0.901</td>\n",
       "      <td>0.855</td>\n",
       "      <td>0.574</td>\n",
       "      <td>0.453</td>\n",
       "      <td>0.825</td>\n",
       "      <td>0.844</td>\n",
       "      <td>0.943</td>\n",
       "      <td>0.930</td>\n",
       "      <td>0.876</td>\n",
       "      <td>1.000</td>\n",
       "    </tr>\n",
       "  </tbody>\n",
       "</table>\n",
       "</div>"
      ],
      "text/plain": [
       "                Pop  Pop2  Murder_feat  Robbery_feat  Violent_cr  Agg_asslt  \\\n",
       "Pop           1.000 0.958        0.551         0.425       0.758      0.776   \n",
       "Pop2          0.958 1.000        0.490         0.300       0.745      0.699   \n",
       "Murder_feat   0.551 0.490        1.000         0.313       0.603      0.598   \n",
       "Robbery_feat  0.425 0.300        0.313         1.000       0.304      0.476   \n",
       "Violent_cr    0.758 0.745        0.603         0.304       1.000      0.783   \n",
       "Agg_asslt     0.776 0.699        0.598         0.476       0.783      1.000   \n",
       "Burg          0.840 0.797        0.595         0.402       0.913      0.835   \n",
       "Larc_thft     0.825 0.714        0.557         0.552       0.689      0.850   \n",
       "Mtr_vhcl_thft 0.830 0.819        0.560         0.332       0.933      0.757   \n",
       "Prop_cr       0.901 0.855        0.574         0.453       0.825      0.844   \n",
       "\n",
       "               Burg  Larc_thft  Mtr_vhcl_thft  Prop_cr  \n",
       "Pop           0.840      0.825          0.830    0.901  \n",
       "Pop2          0.797      0.714          0.819    0.855  \n",
       "Murder_feat   0.595      0.557          0.560    0.574  \n",
       "Robbery_feat  0.402      0.552          0.332    0.453  \n",
       "Violent_cr    0.913      0.689          0.933    0.825  \n",
       "Agg_asslt     0.835      0.850          0.757    0.844  \n",
       "Burg          1.000      0.839          0.917    0.943  \n",
       "Larc_thft     0.839      1.000          0.745    0.930  \n",
       "Mtr_vhcl_thft 0.917      0.745          1.000    0.876  \n",
       "Prop_cr       0.943      0.930          0.876    1.000  "
      ]
     },
     "metadata": {},
     "output_type": "display_data"
    }
   ],
   "source": [
    "correlation_matrix = df3.corr()\n",
    "display(correlation_matrix)"
   ]
  },
  {
   "cell_type": "code",
   "execution_count": 6,
   "metadata": {},
   "outputs": [
    {
     "name": "stdout",
     "output_type": "stream",
     "text": [
      "Percent of Zeros\n",
      "================================\n",
      "Violent_cr 0.15\n",
      "Mrdr_manslter 0.86\n",
      "Rape2 0.59\n",
      "Robbery 0.40\n",
      "Agg_asslt 0.19\n",
      "Prop_cr 0.02\n",
      "Burg 0.06\n",
      "Larc_thft 0.02\n",
      "Mtr_vhcl_thft 0.27\n",
      "Arson3 0.84\n"
     ]
    }
   ],
   "source": [
    "print(\"Percent of Zeros\\n================================\")\n",
    "print(\"Violent_cr {:0.2f}\".format(df[(df['Violent_cr']==0)].shape[0]/df.shape[0]))\n",
    "print(\"Mrdr_manslter {:0.2f}\".format(df[(df['Mrdr_manslter']==0)].shape[0]/df.shape[0]))\n",
    "print(\"Rape2 {:0.2f}\".format(df[(df['Rape2']==0)].shape[0]/df.shape[0]))\n",
    "print(\"Robbery {:0.2f}\".format(df[(df['Robbery']==0)].shape[0]/df.shape[0]))\n",
    "print(\"Agg_asslt {:0.2f}\".format(df[(df['Agg_asslt']==0)].shape[0]/df.shape[0]))\n",
    "print(\"Prop_cr {:0.2f}\".format(df[(df['Prop_cr']==0)].shape[0]/df.shape[0]))\n",
    "print(\"Burg {:0.2f}\".format(df[(df['Burg']==0)].shape[0]/df.shape[0]))\n",
    "print(\"Larc_thft {:0.2f}\".format(df[(df['Larc_thft']==0)].shape[0]/df.shape[0]))\n",
    "print(\"Mtr_vhcl_thft {:0.2f}\".format(df[(df['Mtr_vhcl_thft']==0)].shape[0]/df.shape[0]))\n",
    "print(\"Arson3 {:0.2f}\".format(df[(df['Arson3']==0)].shape[0]/df.shape[0]))"
   ]
  },
  {
   "cell_type": "code",
   "execution_count": null,
   "metadata": {},
   "outputs": [],
   "source": []
  },
  {
   "cell_type": "markdown",
   "metadata": {},
   "source": [
    "# Algorithm Evaluation"
   ]
  },
  {
   "cell_type": "markdown",
   "metadata": {},
   "source": [
    "### Engineer your features, then create three models. Each model will be run on a training set and a test-set.\n",
    "### The models should be:\n",
    "\n",
    "### 1. Vanilla logistic regression\n",
    "### 2. Ridge logistic regression\n",
    "### 3. Lasso logistic regression\n",
    "\n",
    "### In your report, evaluate all three models and decide on your best. Be clear about the decisions you made that led to these models (feature selection, regularization parameter selection, model evaluation criteria) and why you think that particular model is the best of the three. Also reflect on the strengths and limitations of regression as a modeling approach. Were there things you couldn't do but you wish you could have done?"
   ]
  },
  {
   "cell_type": "code",
   "execution_count": 7,
   "metadata": {},
   "outputs": [],
   "source": [
    "#Data\n",
    "\n",
    "df4=pd.DataFrame()\n",
    "\n",
    "# X variables\n",
    "df4['Pop'] = df_jittered2['Pop']\n",
    "df4['Pop2'] = df_jittered2['Pop_squared']\n",
    "df4['Murder_feat'] = features['Murder_feat']\n",
    "df4['Robbery_feat'] = features['Robbery_feat']\n",
    "df4['Violent_cr'] = df_jittered2['Violent_cr']\n",
    "df4['Agg_asslt'] = df_jittered2['Agg_asslt']\n",
    "df4['Burg'] = df_jittered2['Burg']\n",
    "df4['Larc_thft'] = df_jittered2['Larc_thft']\n",
    "df4['Mtr_vhcl_thft'] = df_jittered2['Mtr_vhcl_thft']\n",
    "df4['Prop_cr'] = df_jittered2['Prop_cr']\n",
    "\n",
    "# Y variable\n",
    "df4['Rape2_feat'] = features['Rape2_feat'] \n",
    "\n"
   ]
  },
  {
   "cell_type": "markdown",
   "metadata": {},
   "source": [
    "## Logistic Regression"
   ]
  },
  {
   "cell_type": "markdown",
   "metadata": {},
   "source": [
    "## Logistic Regression Training"
   ]
  },
  {
   "cell_type": "code",
   "execution_count": 8,
   "metadata": {},
   "outputs": [
    {
     "name": "stdout",
     "output_type": "stream",
     "text": [
      "The scikit-learn version is 0.21.1.\n"
     ]
    }
   ],
   "source": [
    "print('The scikit-learn version is {}.'.format(sklearn.__version__))"
   ]
  },
  {
   "cell_type": "code",
   "execution_count": 9,
   "metadata": {},
   "outputs": [
    {
     "name": "stdout",
     "output_type": "stream",
     "text": [
      "Coefficients\n",
      "[[-1.34094905e-14  4.78957486e-10  2.23736056e-18 -1.28154550e-18\n",
      "   4.33723887e-16  1.92026068e-16  5.24468420e-16  1.73445838e-15\n",
      "   6.26539342e-17  2.15210593e-15]]\n",
      "[-1.99566341e-17]\n",
      "\n",
      " Accuracy by admission status\n",
      "Rape2_feat    0   1\n",
      "row_0              \n",
      "1           107  67\n",
      "\n",
      " Percentage accuracy\n",
      "0.3850574712643678\n"
     ]
    },
    {
     "name": "stderr",
     "output_type": "stream",
     "text": [
      "C:\\ProgramData\\Anaconda3\\lib\\site-packages\\sklearn\\utils\\validation.py:724: DataConversionWarning: A column-vector y was passed when a 1d array was expected. Please change the shape of y to (n_samples, ), for example using ravel().\n",
      "  y = column_or_1d(y, warn=True)\n"
     ]
    }
   ],
   "source": [
    "# Define the training and test sizes.\n",
    "trainsize = int(df4.shape[0] / 2)\n",
    "df_test = df4.iloc[trainsize:, :].copy()\n",
    "df_train = df4.iloc[:trainsize, :].copy()\n",
    "\n",
    "Y_train = df_train['Rape2_feat'].values.reshape(-1, 1)\n",
    "X_train = df_train.loc[:, ~(df_train.columns).isin(['Rape2_feat'])]\n",
    "\n",
    "# Declare a logistic regression classifier.\n",
    "# Parameter regularization coefficient C described above.\n",
    "\n",
    "lr = LogisticRegression(C=1e9,penalty='elasticnet',solver='saga',l1_ratio=0.7,random_state=12571)\n",
    "\n",
    "\n",
    "# Fit the model.\n",
    "fit = lr.fit(X_train, Y_train)\n",
    "\n",
    "# Display.\n",
    "print('Coefficients')\n",
    "print(fit.coef_)\n",
    "print(fit.intercept_)\n",
    "pred_y_sklearn = lr.predict(X_train)\n",
    "\n",
    "print('\\n Accuracy by admission status')\n",
    "print(pd.crosstab(pred_y_sklearn, df_train['Rape2_feat']))\n",
    "\n",
    "print('\\n Percentage accuracy')\n",
    "print(lr.score(X_train, Y_train))"
   ]
  },
  {
   "cell_type": "markdown",
   "metadata": {},
   "source": [
    "## Logistic Regression Testing"
   ]
  },
  {
   "cell_type": "code",
   "execution_count": 10,
   "metadata": {},
   "outputs": [
    {
     "name": "stderr",
     "output_type": "stream",
     "text": [
      "C:\\ProgramData\\Anaconda3\\lib\\site-packages\\sklearn\\utils\\validation.py:724: DataConversionWarning: A column-vector y was passed when a 1d array was expected. Please change the shape of y to (n_samples, ), for example using ravel().\n",
      "  y = column_or_1d(y, warn=True)\n"
     ]
    },
    {
     "name": "stdout",
     "output_type": "stream",
     "text": [
      "Coefficients\n",
      "[[-8.71965653e-14  1.51932630e-09  3.89775850e-18 -1.77883824e-18\n",
      "   6.03623300e-16  1.85062974e-16  6.51265006e-16  2.75814888e-15\n",
      "   9.27137213e-17  3.85027121e-15]]\n",
      "[-4.08769026e-17]\n",
      "\n",
      " Accuracy by admission status\n",
      "Rape2_feat   0   1\n",
      "row_0             \n",
      "1           97  77\n",
      "\n",
      " Percentage accuracy\n",
      "0.4425287356321839\n"
     ]
    }
   ],
   "source": [
    "# Test.\n",
    "Y_test = df_test['Rape2_feat'].values.reshape(-1, 1)\n",
    "X_test = df_test.loc[:, ~(df_test.columns).isin(['Rape2_feat'])]\n",
    "# Fit the model.\n",
    "fit = lr.fit(X_test, Y_test)\n",
    "\n",
    "# Display.\n",
    "print('Coefficients')\n",
    "print(fit.coef_)\n",
    "print(fit.intercept_)\n",
    "pred_y_sklearn = lr.predict(X_test)\n",
    "\n",
    "print('\\n Accuracy by admission status')\n",
    "print(pd.crosstab(pred_y_sklearn, df_test['Rape2_feat']))\n",
    "\n",
    "print('\\n Percentage accuracy')\n",
    "print(lr.score(X_test, Y_test))"
   ]
  },
  {
   "cell_type": "markdown",
   "metadata": {},
   "source": [
    "## Ridge Regression"
   ]
  },
  {
   "cell_type": "markdown",
   "metadata": {},
   "source": [
    "# Ridge Training"
   ]
  },
  {
   "cell_type": "code",
   "execution_count": 11,
   "metadata": {},
   "outputs": [
    {
     "name": "stdout",
     "output_type": "stream",
     "text": [
      "\n",
      "R-squared:\n",
      "0.41861346159804397\n",
      "\n",
      "Parameter Estimates:\n",
      "[[ 1.39575909e-05 -1.59862607e-10 -1.20478848e-02  1.12823761e-01\n",
      "  -3.21112817e-04  1.89239010e-02  8.62449785e-04  4.30117116e-04\n",
      "  -2.28198956e-03 -3.77412780e-04]]\n",
      "Intercept:\n",
      "0.0\n"
     ]
    },
    {
     "name": "stderr",
     "output_type": "stream",
     "text": [
      "C:\\ProgramData\\Anaconda3\\lib\\site-packages\\sklearn\\linear_model\\ridge.py:147: LinAlgWarning: scipy.linalg.solve\n",
      "Ill-conditioned matrix detected. Result is not guaranteed to be accurate.\n",
      "Reciprocal condition number5.486963e-20\n",
      "  overwrite_a=True).T\n"
     ]
    }
   ],
   "source": [
    "# Set up the regression model to predict.\n",
    "ridgeregr = linear_model.Ridge(alpha=10, fit_intercept=False) \n",
    "ridgeregr.fit(X_train, Y_train)\n",
    "\n",
    "print('\\nR-squared:')\n",
    "print(ridgeregr.score(X_train, Y_train))\n",
    "print('\\nParameter Estimates:')\n",
    "print(ridgeregr.coef_)\n",
    "print('Intercept:')\n",
    "print(ridgeregr.intercept_)"
   ]
  },
  {
   "cell_type": "markdown",
   "metadata": {},
   "source": [
    "## Ridge Testing"
   ]
  },
  {
   "cell_type": "code",
   "execution_count": 12,
   "metadata": {},
   "outputs": [
    {
     "name": "stderr",
     "output_type": "stream",
     "text": [
      "C:\\ProgramData\\Anaconda3\\lib\\site-packages\\sklearn\\linear_model\\ridge.py:147: LinAlgWarning: scipy.linalg.solve\n",
      "Ill-conditioned matrix detected. Result is not guaranteed to be accurate.\n",
      "Reciprocal condition number5.375385e-20\n",
      "  overwrite_a=True).T\n"
     ]
    },
    {
     "name": "stdout",
     "output_type": "stream",
     "text": [
      "\n",
      "R-squared:\n",
      "0.4807159500625375\n",
      "\n",
      "Parameter Estimates:\n",
      "[[ 6.80868219e-06 -9.51122268e-11  1.97777248e-02  1.61604374e-01\n",
      "  -1.53007751e-03  1.25260399e-02  2.13674305e-03  8.14490007e-04\n",
      "  -1.85365710e-03 -2.97637207e-04]]\n",
      "Intercept:\n",
      "0.0\n"
     ]
    }
   ],
   "source": [
    "# Test.\n",
    "ridgeregr.fit(X_test, Y_test)\n",
    "\n",
    "print('\\nR-squared:')\n",
    "print(ridgeregr.score(X_test, Y_test))\n",
    "print('\\nParameter Estimates:')\n",
    "print(ridgeregr.coef_)\n",
    "print('Intercept:')\n",
    "print(ridgeregr.intercept_)"
   ]
  },
  {
   "cell_type": "markdown",
   "metadata": {},
   "source": [
    "## Lasso Regression"
   ]
  },
  {
   "cell_type": "markdown",
   "metadata": {},
   "source": [
    "# Lasso Training"
   ]
  },
  {
   "cell_type": "code",
   "execution_count": 13,
   "metadata": {},
   "outputs": [
    {
     "name": "stdout",
     "output_type": "stream",
     "text": [
      "R² for the model:\n",
      "0.40491372484325255\n",
      "\n",
      "Parameter Estimates:\n",
      "[ 1.20857837e-05 -1.85434617e-10  0.00000000e+00  0.00000000e+00\n",
      "  0.00000000e+00  1.23387888e-02  6.95549246e-05  5.41294635e-04\n",
      " -0.00000000e+00 -7.16823067e-05]\n",
      "Intercept:\n",
      "[0.09760888]\n"
     ]
    },
    {
     "name": "stderr",
     "output_type": "stream",
     "text": [
      "C:\\ProgramData\\Anaconda3\\lib\\site-packages\\sklearn\\linear_model\\coordinate_descent.py:475: ConvergenceWarning: Objective did not converge. You might want to increase the number of iterations. Duality gap: 0.489161146943772, tolerance: 0.004120114942528737\n",
      "  positive)\n"
     ]
    }
   ],
   "source": [
    "lass = linear_model.Lasso(alpha=.35)\n",
    "lassfit = lass.fit(X_train, Y_train)\n",
    "\n",
    "print('R² for the model:')\n",
    "print(lass.score(X_train, Y_train))\n",
    "print('\\nParameter Estimates:')\n",
    "print(lass.coef_)\n",
    "print('Intercept:')\n",
    "print(lass.intercept_)"
   ]
  },
  {
   "cell_type": "markdown",
   "metadata": {},
   "source": [
    "## Lasso Testing"
   ]
  },
  {
   "cell_type": "code",
   "execution_count": 14,
   "metadata": {},
   "outputs": [
    {
     "name": "stdout",
     "output_type": "stream",
     "text": [
      "R² for the model:\n",
      "0.4449901368889215\n",
      "\n",
      "Parameter Estimates:\n",
      "[ 1.02019215e-05 -1.30320054e-10  0.00000000e+00  0.00000000e+00\n",
      " -0.00000000e+00  3.84605171e-03  4.43183289e-04  1.36538167e-03\n",
      " -0.00000000e+00 -3.45226781e-04]\n",
      "Intercept:\n",
      "[0.09842777]\n"
     ]
    }
   ],
   "source": [
    "lass = linear_model.Lasso(alpha=.35)\n",
    "lassfit = lass.fit(X_test, Y_test)\n",
    "\n",
    "print('R² for the model:')\n",
    "print(lass.score(X_test, Y_test))\n",
    "print('\\nParameter Estimates:')\n",
    "print(lass.coef_)\n",
    "print('Intercept:')\n",
    "print(lass.intercept_)"
   ]
  },
  {
   "cell_type": "markdown",
   "metadata": {},
   "source": [
    "# END"
   ]
  }
 ],
 "metadata": {
  "kernelspec": {
   "display_name": "Python 3",
   "language": "python",
   "name": "python3"
  },
  "language_info": {
   "codemirror_mode": {
    "name": "ipython",
    "version": 3
   },
   "file_extension": ".py",
   "mimetype": "text/x-python",
   "name": "python",
   "nbconvert_exporter": "python",
   "pygments_lexer": "ipython3",
   "version": "3.7.1"
  }
 },
 "nbformat": 4,
 "nbformat_minor": 2
}

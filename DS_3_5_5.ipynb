{
 "cells": [
  {
   "cell_type": "markdown",
   "metadata": {},
   "source": [
    "# Challenge: what model can answer this question?"
   ]
  },
  {
   "cell_type": "markdown",
   "metadata": {},
   "source": [
    "### You now have a fairly substantial starting toolbox of supervised learning methods that you can use to tackle a host of exciting problems. To make sure all of these ideas are organized in your mind, please go through the list of problems below. For each, identify which supervised learning method(s) would be best for addressing that particular problem. Explain your reasoning and discuss your answers with your mentor."
   ]
  },
  {
   "cell_type": "markdown",
   "metadata": {},
   "source": [
    "\n",
    "\n",
    "1. Predict the running times of prospective Olympic sprinters using data from the last 20 Olympics.\n",
    "\n",
    "Use OLS to predict continuous variables. http://christofschwiening.blogspot.com/2016/01/predicting-marathon-performance-from.html\n",
    "\n",
    "2. You have more features (columns) than rows in your dataset.\n",
    "\n",
    "USe Elastic Net. https://web.stanford.edu/~hastie/Papers/elasticnet.pdf\n",
    "\n",
    "\n",
    "3. Identify the most important characteristic predicting likelihood of being jailed before age 20.\n",
    "\n",
    "Use Logistic Regression. https://advances.sciencemag.org/content/4/1/eaao5580.full\n",
    "\n",
    "4. Implement a filter to “highlight” emails that might be important to the recipient\n",
    "\n",
    "Use SVM or Decision Tree. https://ieeexplore.ieee.org/stamp/stamp.jsp?arnumber=7921698 page 13\n",
    "\n",
    "5. You have 1000+ features.\n",
    "\n",
    "Use L1 or ElasticNet regularization. https://www.quora.com/How-do-you-attack-a-machine-learning-problem-with-a-large-number-of-features\n",
    "\n",
    "6. Predict whether someone who adds items to their cart on a website will purchase the items.\n",
    "\n",
    "Use Naïve Bayes or Logistic Regression. https://medium.com/3blades-blog/predicting-conversion-rates-with-bayesian-statistics-8911b4ec9b4a\n",
    "\n",
    "\n",
    "7.Your dataset dimensions are 982400 x 500\n",
    "\n",
    "Use Lasso Regression to reduce number of features. https://towardsdatascience.com/feature-selection-using-regularisation-a3678b71e499\n",
    "\n",
    "8. Identify faces in an image.\n",
    "\n",
    "Use linear SVM classifier (not the best approach, but not taught yet). https://medium.com/@ageitgey/machine-learning-is-fun-part-4-modern-face-recognition-with-deep-learning-c3cffc121d78\n",
    "\n",
    "9. Predict which of three flavors of ice cream will be most popular with boys vs girls.\n",
    "\n",
    "Use Multinomial Logistic Regression. https://stats.idre.ucla.edu/spss/output/multinomial-logistic-regression/\n"
   ]
  },
  {
   "cell_type": "code",
   "execution_count": null,
   "metadata": {},
   "outputs": [],
   "source": []
  }
 ],
 "metadata": {
  "kernelspec": {
   "display_name": "Python 3",
   "language": "python",
   "name": "python3"
  },
  "language_info": {
   "codemirror_mode": {
    "name": "ipython",
    "version": 3
   },
   "file_extension": ".py",
   "mimetype": "text/x-python",
   "name": "python",
   "nbconvert_exporter": "python",
   "pygments_lexer": "ipython3",
   "version": "3.7.1"
  }
 },
 "nbformat": 4,
 "nbformat_minor": 2
}

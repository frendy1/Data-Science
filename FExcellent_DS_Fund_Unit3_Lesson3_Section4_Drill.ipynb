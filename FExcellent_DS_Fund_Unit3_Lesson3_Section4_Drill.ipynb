{
 "cells": [
  {
   "cell_type": "markdown",
   "metadata": {},
   "source": [
    "Choose 6 distributions from the list of random distributions available in NumPy, called “Distributions”\n",
    "\n",
    "For each distribution:\n",
    "\n",
    "1.\n",
    "Generate a random variable with 100 datapoints using the code \n",
    "\n",
    "distributionvar = np.random.distributionname([arguments], 100),\n",
    "\n",
    "replacing distributionvar with an appropriate variable name and distributionname with the name of the distribution you’ve chosen, and filling in the empty space in the parentheses with your chosen values for the appropriate parameters. If you feel uncertain about how to do this, go back to the “Other Distributions” assignment for examples of code to use as a starting point.\n",
    "\n",
    "Answer:\n",
    "See below\n",
    "\n",
    "2.\n",
    "Graph the variable using a histogram.\n",
    "\n",
    "Answer:\n",
    "See below\n",
    "\n",
    "3.\n",
    "Compute the mean and standard deviation and plot them as vertical lines on the histogram. \n",
    "\n",
    "(Hint: the “When Does It Break?” assignment you just completed can help you here.)\n",
    "\n",
    "Answer:\n",
    "See below\n",
    "\n",
    "4.\n",
    "Evaluate whether the descriptive statistics provided useful information about the variable. Can you identify any common characteristics of the distributions that could be usefully described using the mean and/or standard deviation, versus the ones that could not?\n",
    "\n",
    "Answer:\n",
    "\n",
    "Bernoulli Distribution\n",
    "The mean seems to be useful here: it indicates that more heads are likely than tails.\n",
    "\n",
    "Binomial Distribution\n",
    "The mean and std seem to be useful here: they indicate that 68% of the data fall between about 8 and 12, with a central tendency of 10.\n",
    "\n",
    "Gamma Distribution\n",
    "The mean and std do not seem to be useful here.\n",
    "\n",
    "Poisson Distribution\n",
    "The mean and std seem to be useful here: expected value of 2 or 3, with std indicating tight spread at lower expected value and high deviaton at higher expected value.  \n",
    "\n",
    "Triangular Distribution\n",
    "The mean seems to be useful here: peak seems not too far from mean.\n",
    "\n",
    "Geometric Distribution\n",
    "The mean seems to be useful here: mean number of trials (between 1 and 2) seems could be useful, with tight std value.\n",
    "\n",
    "\n",
    "Common characteristics of the distributions that could be usefully described using the mean and/or standard deviation?\n",
    "\n",
    "Answer:\n",
    "\n",
    "Bernoulli, Triangular, Geometric - Mean seems useful, but std is not that useful \n",
    "Binomial, Gamma, Poisson - Similar pattern, could turn into a \"bell\" shape with more points, mean and std are useful and similar in interpretation."
   ]
  },
  {
   "cell_type": "code",
   "execution_count": 133,
   "metadata": {},
   "outputs": [],
   "source": [
    "import numpy as np\n",
    "import pandas as pd\n",
    "import matplotlib.pyplot as plt\n",
    "%matplotlib inline"
   ]
  },
  {
   "cell_type": "code",
   "execution_count": 4,
   "metadata": {},
   "outputs": [
    {
     "data": {
      "image/png": "[encoded data removed]",
      "text/plain": [
       "<Figure size 432x288 with 1 Axes>"
      ]
     },
     "metadata": {
      "needs_background": "light"
     },
     "output_type": "display_data"
    }
   ],
   "source": [
    "# Generate a bernoulli distribution with p =0.5.\n",
    "bernoulli= np.random.binomial(1, .5, 100)\n",
    "\n",
    "#Plot a histogram.\n",
    "plt.hist(bernoulli, bins=20, color='c')\n",
    "\n",
    "# Add a vertical line at the mean.\n",
    "plt.axvline(bernoulli.mean(), color='b', linestyle='solid', linewidth=2)\n",
    "\n",
    "# Add a vertical line at one standard deviation above the mean.\n",
    "plt.axvline(bernoulli.mean() + bernoulli.std(), color='b', linestyle='dashed', linewidth=2)\n",
    "\n",
    "# Add a vertical line at one standard deviation below the mean.\n",
    "plt.axvline(bernoulli.mean()-bernoulli.std(), color='b', linestyle='dashed', linewidth=2) \n",
    "\n",
    "# Print the histogram.\n",
    "plt.show()\n",
    "\n",
    "#The mean seems to be useful here: it indicates that more heads are likely than tails."
   ]
  },
  {
   "cell_type": "code",
   "execution_count": 105,
   "metadata": {},
   "outputs": [
    {
     "data": {
      "image/png": "[encoded data removed]",
      "text/plain": [
       "<Figure size 432x288 with 1 Axes>"
      ]
     },
     "metadata": {
      "needs_background": "light"
     },
     "output_type": "display_data"
    }
   ],
   "source": [
    "# Generate a binomial distribution with n=20 and p=0.5.\n",
    "binomial = np.random.binomial(20, 0.5, 100)\n",
    "\n",
    "#Plot a histogram.\n",
    "plt.hist(binomial, bins=20, color='c')\n",
    "\n",
    "# Add a vertical line at the mean.\n",
    "plt.axvline(binomial.mean(), color='b', linestyle='solid', linewidth=2)\n",
    "\n",
    "# Add a vertical line at one standard deviation above the mean.\n",
    "plt.axvline(binomial.mean() + binomial.std(), color='b', linestyle='dashed', linewidth=2)\n",
    "\n",
    "# Add a vertical line at one standard deviation below the mean.\n",
    "plt.axvline(binomial.mean()-binomial.std(), color='b', linestyle='dashed', linewidth=2) \n",
    "\n",
    "# Print the histogram.\n",
    "plt.show()\n",
    "\n",
    "#The mean and std seem to be useful here: they indicate that 68% of the data fall between about 8 and 12, with a central tendency of 10."
   ]
  },
  {
   "cell_type": "code",
   "execution_count": 99,
   "metadata": {},
   "outputs": [
    {
     "data": {
      "image/png": "[encoded data removed]",
      "text/plain": [
       "<Figure size 432x288 with 1 Axes>"
      ]
     },
     "metadata": {
      "needs_background": "light"
     },
     "output_type": "display_data"
    }
   ],
   "source": [
    "# Generate a gamma distribution with shape =5 and scale = 1\n",
    "gamma = np.random.gamma(5,1, 100)\n",
    "\n",
    "#Plot a histogram.\n",
    "plt.hist(gamma, bins=20, color='c')\n",
    "\n",
    "# Add a vertical line at the mean.\n",
    "plt.axvline(gamma.mean(), color='b', linestyle='solid', linewidth=2)\n",
    "\n",
    "# Add a vertical line at one standard deviation above the mean.\n",
    "plt.axvline(gamma.mean() + gamma.std(), color='b', linestyle='dashed', linewidth=2)\n",
    "\n",
    "# Add a vertical line at one standard deviation below the mean.\n",
    "plt.axvline(gamma.mean()-gamma.std(), color='b', linestyle='dashed', linewidth=2) \n",
    "\n",
    "# Print the histogram.\n",
    "plt.show()\n",
    "\n",
    "#The mean and std do not seem to be useful here."
   ]
  },
  {
   "cell_type": "code",
   "execution_count": 106,
   "metadata": {},
   "outputs": [
    {
     "data": {
      "image/png": "[encoded data removed]",
      "text/plain": [
       "<Figure size 432x288 with 1 Axes>"
      ]
     },
     "metadata": {
      "needs_background": "light"
     },
     "output_type": "display_data"
    }
   ],
   "source": [
    "# Generate a Poisson distribution with lambda = 3\n",
    "poisson = np.random.poisson(3, 100)\n",
    "\n",
    "#Plot a histogram.\n",
    "plt.hist(poisson, bins=20, color='c')\n",
    "\n",
    "# Add a vertical line at the mean.\n",
    "plt.axvline(poisson.mean(), color='b', linestyle='solid', linewidth=2)\n",
    "\n",
    "# Add a vertical line at one standard deviation above the mean.\n",
    "plt.axvline(poisson.mean() + poisson.std(), color='b', linestyle='dashed', linewidth=2)\n",
    "\n",
    "# Add a vertical line at one standard deviation below the mean.\n",
    "plt.axvline(poisson.mean()-poisson.std(), color='b', linestyle='dashed', linewidth=2) \n",
    "\n",
    "# Print the histogram.\n",
    "plt.show()\n",
    "\n",
    "#The mean and std seem to be useful here: expected value of 2 or 3, with std indicating tight spread at lower expected value and high deviaton at higher expected value.  "
   ]
  },
  {
   "cell_type": "code",
   "execution_count": 130,
   "metadata": {},
   "outputs": [
    {
     "data": {
      "image/png": "[encoded data removed]",
      "text/plain": [
       "<Figure size 432x288 with 1 Axes>"
      ]
     },
     "metadata": {
      "needs_background": "light"
     },
     "output_type": "display_data"
    }
   ],
   "source": [
    "# Generate a triangular distribution with min, peak, and max values of 0, 70, 100, respectively.\n",
    "triangular = np.random.triangular(0,70,100,10000000)\n",
    "\n",
    "#Plot a histogram.\n",
    "plt.hist(triangular, bins=200, color='c')\n",
    "\n",
    "# Add a vertical line at the mean.\n",
    "plt.axvline(triangular.mean(), color='b', linestyle='solid', linewidth=2)\n",
    "\n",
    "# Add a vertical line at one standard deviation above the mean.\n",
    "plt.axvline(triangular.mean() + triangular.std(), color='b', linestyle='dashed', linewidth=2)\n",
    "\n",
    "# Add a vertical line at one standard deviation below the mean.\n",
    "plt.axvline(triangular.mean()-triangular.std(), color='b', linestyle='dashed', linewidth=2) \n",
    "\n",
    "# Print the histogram.\n",
    "plt.show()\n",
    "\n",
    "#The mean seems to be useful here: peak seems not too far from mean."
   ]
  },
  {
   "cell_type": "code",
   "execution_count": 131,
   "metadata": {},
   "outputs": [
    {
     "data": {
      "image/png": "[encoded data removed]",
      "text/plain": [
       "<Figure size 432x288 with 1 Axes>"
      ]
     },
     "metadata": {
      "needs_background": "light"
     },
     "output_type": "display_data"
    }
   ],
   "source": [
    "# Generate a geometric distribution with probability of success = 0.7\n",
    "geometric = np.random.geometric(.7,100)\n",
    "\n",
    "#Plot a histogram.\n",
    "plt.hist(geometric, bins=20, color='c')\n",
    "\n",
    "# Add a vertical line at the mean.\n",
    "plt.axvline(geometric.mean(), color='b', linestyle='solid', linewidth=2)\n",
    "\n",
    "# Add a vertical line at one standard deviation above the mean.\n",
    "plt.axvline(geometric.mean() + geometric.std(), color='b', linestyle='dashed', linewidth=2)\n",
    "\n",
    "# Add a vertical line at one standard deviation below the mean.\n",
    "plt.axvline(geometric.mean()-geometric.std(), color='b', linestyle='dashed', linewidth=2) \n",
    "\n",
    "# Print the histogram.\n",
    "plt.show()\n",
    "\n",
    "#The mean seems to be useful here: mean number of trials (between 1 and 2) seems could be useful, with tight std value."
   ]
  },
  {
   "cell_type": "markdown",
   "metadata": {},
   "source": [
    "Additionally:\n",
    "\n",
    "Generate two normally-distributed variables, one with a mean of 5 and standard deviation of 0.5, and the other with a mean of 10 and standard deviation of 1.\n",
    "Add them together to create a third variable.\n",
    "Graph the third variable using a histogram.\n",
    "Compute the mean and standard deviation and plot them as vertical lines on the histogram.\n",
    "Evaluate the descriptive statistics against the data."
   ]
  },
  {
   "cell_type": "code",
   "execution_count": 132,
   "metadata": {},
   "outputs": [
    {
     "data": {
      "image/png": "[encoded data removed]",
      "text/plain": [
       "<Figure size 432x288 with 1 Axes>"
      ]
     },
     "metadata": {
      "needs_background": "light"
     },
     "output_type": "display_data"
    }
   ],
   "source": [
    "# Making two variables.\n",
    "rand1 = np.random.normal(5, 0.5, 1000)\n",
    "rand2 = np.random.normal(10, 1, 1000)\n",
    "\n",
    "rand3 = rand1 + rand2\n",
    "\n",
    "#Plot a histogram for rand3.\n",
    "plt.hist(rand3, bins=20, color='c')\n",
    "\n",
    "# Add a vertical line at the mean.\n",
    "plt.axvline(rand3.mean(), color='b', linestyle='solid', linewidth=2)\n",
    "\n",
    "# Add a vertical line at one standard deviation above the mean.\n",
    "plt.axvline(rand3.mean() + rand3.std(), color='b', linestyle='dashed', linewidth=2)\n",
    "\n",
    "# Add a vertical line at one standard deviation below the mean.\n",
    "plt.axvline(rand3.mean()-rand3.std(), color='b', linestyle='dashed', linewidth=2) \n",
    "\n",
    "# Print the histogram.\n",
    "plt.show()\n",
    "\n",
    "#The mean is 15 (sum of both means) and std is slightly greater that std of rand2 (varaible with greater deviation around its mean)."
   ]
  }
 ],
 "metadata": {
  "kernelspec": {
   "display_name": "Python 3",
   "language": "python",
   "name": "python3"
  },
  "language_info": {
   "codemirror_mode": {
    "name": "ipython",
    "version": 3
   },
   "file_extension": ".py",
   "mimetype": "text/x-python",
   "name": "python",
   "nbconvert_exporter": "python",
   "pygments_lexer": "ipython3",
   "version": "3.7.1"
  }
 },
 "nbformat": 4,
 "nbformat_minor": 2
}

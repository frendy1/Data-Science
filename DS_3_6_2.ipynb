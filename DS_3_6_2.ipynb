{
 "cells": [
  {
   "cell_type": "markdown",
   "metadata": {},
   "source": [
    "# DS_3_6_2 Airline Arrivals\n",
    "Use this dataset of airline arrival information to predict how late flights will be. A flight only counts as late if it is more than 30 minutes late.\n",
    "\n",
    "http://stat-computing.org/dataexpo/2009/the-data.html"
   ]
  },
  {
   "cell_type": "code",
   "execution_count": 1,
   "metadata": {},
   "outputs": [
    {
     "name": "stderr",
     "output_type": "stream",
     "text": [
      "C:\\ProgramData\\Anaconda3\\lib\\site-packages\\sklearn\\externals\\six.py:31: DeprecationWarning: The module is deprecated in version 0.21 and will be removed in version 0.23 since we've dropped support for Python 2.7. Please rely on the official version of six (https://pypi.org/project/six/).\n",
      "  \"(https://pypi.org/project/six/).\", DeprecationWarning)\n"
     ]
    }
   ],
   "source": [
    "import pandas as pd\n",
    "import numpy as np\n",
    "import matplotlib.pyplot as plt\n",
    "import glob\n",
    "from itertools import islice\n",
    "from imblearn.over_sampling import SMOTE\n",
    "from sklearn.model_selection import train_test_split\n",
    "import statsmodels.api as sm\n",
    "from sklearn.feature_selection import RFE\n",
    "from sklearn.linear_model import LogisticRegression"
   ]
  },
  {
   "cell_type": "markdown",
   "metadata": {},
   "source": [
    "# Load data"
   ]
  },
  {
   "cell_type": "code",
   "execution_count": 2,
   "metadata": {},
   "outputs": [],
   "source": [
    "\n",
    "#data = pd.read_csv('airline_arrivals_2007.csv')"
   ]
  },
  {
   "cell_type": "code",
   "execution_count": 3,
   "metadata": {},
   "outputs": [],
   "source": [
    "my_cols_historic = ['Year', 'Month', 'DayofMonth', 'DayOfWeek', 'DepTime', 'CRSDepTime',\n",
    "       'ArrTime', 'CRSArrTime', 'UniqueCarrier', 'FlightNum', 'TailNum',\n",
    "       'ActualElapsedTime', 'CRSElapsedTime', 'AirTime', 'ArrDelay',\n",
    "       'DepDelay', 'Origin', 'Dest', 'Distance', 'TaxiIn', 'TaxiOut',\n",
    "       'Cancelled', 'CancellationCode', 'Diverted', 'CarrierDelay',\n",
    "       'WeatherDelay', 'NASDelay', 'SecurityDelay', 'LateAircraftDelay']"
   ]
  },
  {
   "cell_type": "code",
   "execution_count": 4,
   "metadata": {},
   "outputs": [],
   "source": [
    "historic_list_master = []\n",
    "t = np.arange(0,1)\n",
    "historic_list = []\n",
    "log_file = open(\"err_log_airline_arrivals.log\", \"a\")\n",
    "try:\n",
    "    for x in t:\n",
    "        f = r\"C:\\Users\\fxea1410\\airline_arrivals_2007_frendy_data.csv\"\n",
    "        for name in glob.glob(f):\n",
    "            with open(name) as historic_content:\n",
    "                head = islice(historic_content, 1,1000000)\n",
    "                for line in head:\n",
    "                    historic_list.append(line.rstrip('\\n').strip().split(\",\"))\n",
    "        historic_list_master.append(historic_list)\n",
    "        historic_list = []\n",
    "except Exception as e:\n",
    "    log_file.write(\"error {0}\\n\".format(str(e)))        \n",
    "       \n",
    "finally:\n",
    "    if not log_file.closed:\n",
    "        log_file.close() "
   ]
  },
  {
   "cell_type": "code",
   "execution_count": 5,
   "metadata": {},
   "outputs": [],
   "source": [
    "del head, historic_list"
   ]
  },
  {
   "cell_type": "code",
   "execution_count": 6,
   "metadata": {},
   "outputs": [],
   "source": [
    "data = pd.DataFrame(data=historic_list_master[0],columns=my_cols_historic)"
   ]
  },
  {
   "cell_type": "code",
   "execution_count": 7,
   "metadata": {},
   "outputs": [],
   "source": [
    "#data.to_csv(\"airline_arrivals_2007_frendy_data.csv\", mode='w', index=False)"
   ]
  },
  {
   "cell_type": "markdown",
   "metadata": {},
   "source": [
    "# Data Exploration and Cleansing"
   ]
  },
  {
   "cell_type": "code",
   "execution_count": 8,
   "metadata": {},
   "outputs": [
    {
     "name": "stdout",
     "output_type": "stream",
     "text": [
      "(745322, 29)\n",
      "Index(['Year', 'Month', 'DayofMonth', 'DayOfWeek', 'DepTime', 'CRSDepTime',\n",
      "       'ArrTime', 'CRSArrTime', 'UniqueCarrier', 'FlightNum', 'TailNum',\n",
      "       'ActualElapsedTime', 'CRSElapsedTime', 'AirTime', 'ArrDelay',\n",
      "       'DepDelay', 'Origin', 'Dest', 'Distance', 'TaxiIn', 'TaxiOut',\n",
      "       'Cancelled', 'CancellationCode', 'Diverted', 'CarrierDelay',\n",
      "       'WeatherDelay', 'NASDelay', 'SecurityDelay', 'LateAircraftDelay'],\n",
      "      dtype='object')\n"
     ]
    },
    {
     "data": {
      "text/html": [
       "<div>\n",
       "<style scoped>\n",
       "    .dataframe tbody tr th:only-of-type {\n",
       "        vertical-align: middle;\n",
       "    }\n",
       "\n",
       "    .dataframe tbody tr th {\n",
       "        vertical-align: top;\n",
       "    }\n",
       "\n",
       "    .dataframe thead th {\n",
       "        text-align: right;\n",
       "    }\n",
       "</style>\n",
       "<table border=\"1\" class=\"dataframe\">\n",
       "  <thead>\n",
       "    <tr style=\"text-align: right;\">\n",
       "      <th></th>\n",
       "      <th>Year</th>\n",
       "      <th>Month</th>\n",
       "      <th>DayofMonth</th>\n",
       "      <th>DayOfWeek</th>\n",
       "      <th>DepTime</th>\n",
       "      <th>CRSDepTime</th>\n",
       "      <th>ArrTime</th>\n",
       "      <th>CRSArrTime</th>\n",
       "      <th>UniqueCarrier</th>\n",
       "      <th>FlightNum</th>\n",
       "      <th>...</th>\n",
       "      <th>TaxiIn</th>\n",
       "      <th>TaxiOut</th>\n",
       "      <th>Cancelled</th>\n",
       "      <th>CancellationCode</th>\n",
       "      <th>Diverted</th>\n",
       "      <th>CarrierDelay</th>\n",
       "      <th>WeatherDelay</th>\n",
       "      <th>NASDelay</th>\n",
       "      <th>SecurityDelay</th>\n",
       "      <th>LateAircraftDelay</th>\n",
       "    </tr>\n",
       "  </thead>\n",
       "  <tbody>\n",
       "    <tr>\n",
       "      <th>0</th>\n",
       "      <td>2007</td>\n",
       "      <td>1</td>\n",
       "      <td>1</td>\n",
       "      <td>1</td>\n",
       "      <td>1232</td>\n",
       "      <td>1225</td>\n",
       "      <td>1341</td>\n",
       "      <td>1340</td>\n",
       "      <td>WN</td>\n",
       "      <td>2891</td>\n",
       "      <td>...</td>\n",
       "      <td>4</td>\n",
       "      <td>11</td>\n",
       "      <td>0</td>\n",
       "      <td></td>\n",
       "      <td>0</td>\n",
       "      <td>0</td>\n",
       "      <td>0</td>\n",
       "      <td>0</td>\n",
       "      <td>0</td>\n",
       "      <td>0</td>\n",
       "    </tr>\n",
       "    <tr>\n",
       "      <th>1</th>\n",
       "      <td>2007</td>\n",
       "      <td>1</td>\n",
       "      <td>1</td>\n",
       "      <td>1</td>\n",
       "      <td>836</td>\n",
       "      <td>835</td>\n",
       "      <td>1119</td>\n",
       "      <td>1130</td>\n",
       "      <td>WN</td>\n",
       "      <td>2575</td>\n",
       "      <td>...</td>\n",
       "      <td>7</td>\n",
       "      <td>8</td>\n",
       "      <td>0</td>\n",
       "      <td></td>\n",
       "      <td>0</td>\n",
       "      <td>0</td>\n",
       "      <td>0</td>\n",
       "      <td>0</td>\n",
       "      <td>0</td>\n",
       "      <td>0</td>\n",
       "    </tr>\n",
       "    <tr>\n",
       "      <th>2</th>\n",
       "      <td>2007</td>\n",
       "      <td>1</td>\n",
       "      <td>1</td>\n",
       "      <td>1</td>\n",
       "      <td>2219</td>\n",
       "      <td>2105</td>\n",
       "      <td>2332</td>\n",
       "      <td>2225</td>\n",
       "      <td>WN</td>\n",
       "      <td>2083</td>\n",
       "      <td>...</td>\n",
       "      <td>3</td>\n",
       "      <td>8</td>\n",
       "      <td>0</td>\n",
       "      <td></td>\n",
       "      <td>0</td>\n",
       "      <td>0</td>\n",
       "      <td>0</td>\n",
       "      <td>0</td>\n",
       "      <td>0</td>\n",
       "      <td>67</td>\n",
       "    </tr>\n",
       "    <tr>\n",
       "      <th>3</th>\n",
       "      <td>2007</td>\n",
       "      <td>1</td>\n",
       "      <td>1</td>\n",
       "      <td>1</td>\n",
       "      <td>1630</td>\n",
       "      <td>1630</td>\n",
       "      <td>1746</td>\n",
       "      <td>1750</td>\n",
       "      <td>WN</td>\n",
       "      <td>1146</td>\n",
       "      <td>...</td>\n",
       "      <td>6</td>\n",
       "      <td>10</td>\n",
       "      <td>0</td>\n",
       "      <td></td>\n",
       "      <td>0</td>\n",
       "      <td>0</td>\n",
       "      <td>0</td>\n",
       "      <td>0</td>\n",
       "      <td>0</td>\n",
       "      <td>0</td>\n",
       "    </tr>\n",
       "    <tr>\n",
       "      <th>4</th>\n",
       "      <td>2007</td>\n",
       "      <td>1</td>\n",
       "      <td>1</td>\n",
       "      <td>1</td>\n",
       "      <td>810</td>\n",
       "      <td>810</td>\n",
       "      <td>1347</td>\n",
       "      <td>1405</td>\n",
       "      <td>WN</td>\n",
       "      <td>873</td>\n",
       "      <td>...</td>\n",
       "      <td>4</td>\n",
       "      <td>8</td>\n",
       "      <td>0</td>\n",
       "      <td></td>\n",
       "      <td>0</td>\n",
       "      <td>0</td>\n",
       "      <td>0</td>\n",
       "      <td>0</td>\n",
       "      <td>0</td>\n",
       "      <td>0</td>\n",
       "    </tr>\n",
       "  </tbody>\n",
       "</table>\n",
       "<p>5 rows × 29 columns</p>\n",
       "</div>"
      ],
      "text/plain": [
       "   Year Month DayofMonth DayOfWeek DepTime CRSDepTime ArrTime CRSArrTime  \\\n",
       "0  2007     1          1         1    1232       1225    1341       1340   \n",
       "1  2007     1          1         1     836        835    1119       1130   \n",
       "2  2007     1          1         1    2219       2105    2332       2225   \n",
       "3  2007     1          1         1    1630       1630    1746       1750   \n",
       "4  2007     1          1         1     810        810    1347       1405   \n",
       "\n",
       "  UniqueCarrier FlightNum        ...        TaxiIn TaxiOut Cancelled  \\\n",
       "0            WN      2891        ...             4      11         0   \n",
       "1            WN      2575        ...             7       8         0   \n",
       "2            WN      2083        ...             3       8         0   \n",
       "3            WN      1146        ...             6      10         0   \n",
       "4            WN       873        ...             4       8         0   \n",
       "\n",
       "  CancellationCode Diverted CarrierDelay WeatherDelay NASDelay SecurityDelay  \\\n",
       "0                         0            0            0        0             0   \n",
       "1                         0            0            0        0             0   \n",
       "2                         0            0            0        0             0   \n",
       "3                         0            0            0        0             0   \n",
       "4                         0            0            0        0             0   \n",
       "\n",
       "  LateAircraftDelay  \n",
       "0                 0  \n",
       "1                 0  \n",
       "2                67  \n",
       "3                 0  \n",
       "4                 0  \n",
       "\n",
       "[5 rows x 29 columns]"
      ]
     },
     "execution_count": 8,
     "metadata": {},
     "output_type": "execute_result"
    }
   ],
   "source": [
    "print(data.shape)\n",
    "print(data.columns)\n",
    "data.head()"
   ]
  },
  {
   "cell_type": "code",
   "execution_count": 9,
   "metadata": {},
   "outputs": [
    {
     "data": {
      "text/plain": [
       "Year                 0\n",
       "Month                0\n",
       "DayofMonth           0\n",
       "DayOfWeek            0\n",
       "DepTime              0\n",
       "CRSDepTime           0\n",
       "ArrTime              0\n",
       "CRSArrTime           0\n",
       "UniqueCarrier        0\n",
       "FlightNum            0\n",
       "TailNum              0\n",
       "ActualElapsedTime    0\n",
       "CRSElapsedTime       0\n",
       "AirTime              0\n",
       "ArrDelay             0\n",
       "DepDelay             0\n",
       "Origin               0\n",
       "Dest                 0\n",
       "Distance             0\n",
       "TaxiIn               0\n",
       "TaxiOut              0\n",
       "Cancelled            0\n",
       "CancellationCode     0\n",
       "Diverted             0\n",
       "CarrierDelay         0\n",
       "WeatherDelay         0\n",
       "NASDelay             0\n",
       "SecurityDelay        0\n",
       "LateAircraftDelay    0\n",
       "dtype: int64"
      ]
     },
     "execution_count": 9,
     "metadata": {},
     "output_type": "execute_result"
    }
   ],
   "source": [
    "data.isna().sum()"
   ]
  },
  {
   "cell_type": "code",
   "execution_count": 10,
   "metadata": {},
   "outputs": [
    {
     "data": {
      "text/plain": [
       "Year                 0\n",
       "Month                0\n",
       "DayofMonth           0\n",
       "DayOfWeek            0\n",
       "DepTime              0\n",
       "CRSDepTime           0\n",
       "ArrTime              0\n",
       "CRSArrTime           0\n",
       "UniqueCarrier        0\n",
       "FlightNum            0\n",
       "TailNum              0\n",
       "ActualElapsedTime    0\n",
       "CRSElapsedTime       0\n",
       "AirTime              0\n",
       "ArrDelay             0\n",
       "DepDelay             0\n",
       "Origin               0\n",
       "Dest                 0\n",
       "Distance             0\n",
       "TaxiIn               0\n",
       "TaxiOut              0\n",
       "Cancelled            0\n",
       "CancellationCode     0\n",
       "Diverted             0\n",
       "CarrierDelay         0\n",
       "WeatherDelay         0\n",
       "NASDelay             0\n",
       "SecurityDelay        0\n",
       "LateAircraftDelay    0\n",
       "dtype: int64"
      ]
     },
     "execution_count": 10,
     "metadata": {},
     "output_type": "execute_result"
    }
   ],
   "source": [
    "data.isnull().sum()"
   ]
  },
  {
   "cell_type": "code",
   "execution_count": 11,
   "metadata": {},
   "outputs": [
    {
     "name": "stdout",
     "output_type": "stream",
     "text": [
      "\n",
      "<class 'pandas.core.frame.DataFrame'>\n",
      "RangeIndex: 745322 entries, 0 to 745321\n",
      "Data columns (total 29 columns):\n",
      "Year                 745322 non-null object\n",
      "Month                745322 non-null int64\n",
      "DayofMonth           745322 non-null object\n",
      "DayOfWeek            745322 non-null int64\n",
      "DepTime              745322 non-null object\n",
      "CRSDepTime           745322 non-null int64\n",
      "ArrTime              745322 non-null object\n",
      "CRSArrTime           745322 non-null object\n",
      "UniqueCarrier        745322 non-null object\n",
      "FlightNum            745322 non-null object\n",
      "TailNum              745322 non-null object\n",
      "ActualElapsedTime    745322 non-null object\n",
      "CRSElapsedTime       745322 non-null object\n",
      "AirTime              745322 non-null object\n",
      "ArrDelay             745322 non-null object\n",
      "DepDelay             745322 non-null object\n",
      "Origin               745322 non-null object\n",
      "Dest                 745322 non-null object\n",
      "Distance             745322 non-null object\n",
      "TaxiIn               745322 non-null object\n",
      "TaxiOut              745322 non-null object\n",
      "Cancelled            745322 non-null object\n",
      "CancellationCode     745322 non-null object\n",
      "Diverted             745322 non-null object\n",
      "CarrierDelay         745322 non-null object\n",
      "WeatherDelay         745322 non-null object\n",
      "NASDelay             745322 non-null object\n",
      "SecurityDelay        745322 non-null object\n",
      "LateAircraftDelay    745322 non-null int64\n",
      "dtypes: int64(4), object(25)\n",
      "memory usage: 164.9+ MB\n"
     ]
    }
   ],
   "source": [
    "data = data.astype({\"Month\":\"int64\",\"DayOfWeek\":\"int64\",\"CRSDepTime\":\"int64\",\"LateAircraftDelay\":\"int64\"})\n",
    "print('')\n",
    "data.info()"
   ]
  },
  {
   "cell_type": "markdown",
   "metadata": {},
   "source": [
    "# Feature Engineering"
   ]
  },
  {
   "cell_type": "markdown",
   "metadata": {},
   "source": [
    "## Carriers feature, large, medium and small"
   ]
  },
  {
   "cell_type": "code",
   "execution_count": 12,
   "metadata": {},
   "outputs": [
    {
     "data": {
      "text/plain": [
       "array(['WN', 'XE', 'YV', 'OH', 'OO', 'UA', 'US', 'DL', 'EV', 'F9', 'FL',\n",
       "       'HA', 'MQ', 'NW', '9E', 'AA', 'AQ', 'AS', 'B6', 'CO'], dtype=object)"
      ]
     },
     "execution_count": 12,
     "metadata": {},
     "output_type": "execute_result"
    }
   ],
   "source": [
    "data.UniqueCarrier.unique()"
   ]
  },
  {
   "cell_type": "code",
   "execution_count": 13,
   "metadata": {},
   "outputs": [],
   "source": [
    "carriers = {'wn':'large_carriers','ua':'large_carriers','dl':'large_carriers',\n",
    "                  'fl':'large_carriers','aa':'large_carriers',\n",
    "                  'ha':'medium_carriers','mq':'medium_carriers',\n",
    "                  'as':'medium_carriers','b6':'medium_carriers',\n",
    "                  'co':'medium_carriers','xe':'small_carriers',\n",
    "                  'yv':'small_carriers','oh':'small_carriers',\n",
    "                  'oo':'small_carriers','us':'small_carriers',\n",
    "                  'ev':'small_carriers','f9':'small_carriers',\n",
    "                  'nw':'small_carriers','9e':'small_carriers','aq':'small_carriers'}"
   ]
  },
  {
   "cell_type": "code",
   "execution_count": 14,
   "metadata": {},
   "outputs": [],
   "source": [
    "data[\"carriers\"] = data[\"UniqueCarrier\"].str.lower().map(carriers)\n"
   ]
  },
  {
   "cell_type": "code",
   "execution_count": 15,
   "metadata": {},
   "outputs": [
    {
     "data": {
      "text/plain": [
       "(745322,)"
      ]
     },
     "execution_count": 15,
     "metadata": {},
     "output_type": "execute_result"
    }
   ],
   "source": [
    "data.loc[(data[\"carriers\"].isnull() == False),\"carriers\"].shape"
   ]
  },
  {
   "cell_type": "code",
   "execution_count": 16,
   "metadata": {},
   "outputs": [
    {
     "data": {
      "text/html": [
       "<div>\n",
       "<style scoped>\n",
       "    .dataframe tbody tr th:only-of-type {\n",
       "        vertical-align: middle;\n",
       "    }\n",
       "\n",
       "    .dataframe tbody tr th {\n",
       "        vertical-align: top;\n",
       "    }\n",
       "\n",
       "    .dataframe thead th {\n",
       "        text-align: right;\n",
       "    }\n",
       "</style>\n",
       "<table border=\"1\" class=\"dataframe\">\n",
       "  <thead>\n",
       "    <tr style=\"text-align: right;\">\n",
       "      <th></th>\n",
       "      <th>medium_carriers</th>\n",
       "      <th>small_carriers</th>\n",
       "    </tr>\n",
       "  </thead>\n",
       "  <tbody>\n",
       "    <tr>\n",
       "      <th>745317</th>\n",
       "      <td>0</td>\n",
       "      <td>0</td>\n",
       "    </tr>\n",
       "    <tr>\n",
       "      <th>745318</th>\n",
       "      <td>0</td>\n",
       "      <td>0</td>\n",
       "    </tr>\n",
       "    <tr>\n",
       "      <th>745319</th>\n",
       "      <td>0</td>\n",
       "      <td>0</td>\n",
       "    </tr>\n",
       "    <tr>\n",
       "      <th>745320</th>\n",
       "      <td>0</td>\n",
       "      <td>0</td>\n",
       "    </tr>\n",
       "    <tr>\n",
       "      <th>745321</th>\n",
       "      <td>0</td>\n",
       "      <td>0</td>\n",
       "    </tr>\n",
       "  </tbody>\n",
       "</table>\n",
       "</div>"
      ],
      "text/plain": [
       "        medium_carriers  small_carriers\n",
       "745317                0               0\n",
       "745318                0               0\n",
       "745319                0               0\n",
       "745320                0               0\n",
       "745321                0               0"
      ]
     },
     "execution_count": 16,
     "metadata": {},
     "output_type": "execute_result"
    }
   ],
   "source": [
    "features = pd.DataFrame()\n",
    "dataTemp = pd.get_dummies(data[\"carriers\"],drop_first=True)\n",
    "features = dataTemp\n",
    "features.tail()"
   ]
  },
  {
   "cell_type": "markdown",
   "metadata": {},
   "source": [
    "## Seasons of the Year Feature, spring,\tsummer,\tfall and winter"
   ]
  },
  {
   "cell_type": "code",
   "execution_count": 17,
   "metadata": {},
   "outputs": [],
   "source": [
    "seasons = {12:'winter',1:'winter',2:'winter',\n",
    "          3:'spring',4:'spring',5:'spring'\n",
    "          ,6:'summer',7:'summer',8:'summer',\n",
    "          9:'fall',10:'fall',11:'fall'}"
   ]
  },
  {
   "cell_type": "code",
   "execution_count": 18,
   "metadata": {},
   "outputs": [],
   "source": [
    "data[\"seasons\"] = data[\"Month\"].map(seasons)\n"
   ]
  },
  {
   "cell_type": "code",
   "execution_count": 19,
   "metadata": {},
   "outputs": [
    {
     "data": {
      "text/plain": [
       "(745322,)"
      ]
     },
     "execution_count": 19,
     "metadata": {},
     "output_type": "execute_result"
    }
   ],
   "source": [
    "data.loc[(data[\"seasons\"].isnull() == False),\"seasons\"].shape"
   ]
  },
  {
   "cell_type": "code",
   "execution_count": 20,
   "metadata": {},
   "outputs": [
    {
     "data": {
      "text/html": [
       "<div>\n",
       "<style scoped>\n",
       "    .dataframe tbody tr th:only-of-type {\n",
       "        vertical-align: middle;\n",
       "    }\n",
       "\n",
       "    .dataframe tbody tr th {\n",
       "        vertical-align: top;\n",
       "    }\n",
       "\n",
       "    .dataframe thead th {\n",
       "        text-align: right;\n",
       "    }\n",
       "</style>\n",
       "<table border=\"1\" class=\"dataframe\">\n",
       "  <thead>\n",
       "    <tr style=\"text-align: right;\">\n",
       "      <th></th>\n",
       "      <th>medium_carriers</th>\n",
       "      <th>small_carriers</th>\n",
       "      <th>spring</th>\n",
       "      <th>summer</th>\n",
       "      <th>winter</th>\n",
       "    </tr>\n",
       "  </thead>\n",
       "  <tbody>\n",
       "    <tr>\n",
       "      <th>745317</th>\n",
       "      <td>0</td>\n",
       "      <td>0</td>\n",
       "      <td>0</td>\n",
       "      <td>0</td>\n",
       "      <td>1</td>\n",
       "    </tr>\n",
       "    <tr>\n",
       "      <th>745318</th>\n",
       "      <td>0</td>\n",
       "      <td>0</td>\n",
       "      <td>0</td>\n",
       "      <td>0</td>\n",
       "      <td>1</td>\n",
       "    </tr>\n",
       "    <tr>\n",
       "      <th>745319</th>\n",
       "      <td>0</td>\n",
       "      <td>0</td>\n",
       "      <td>0</td>\n",
       "      <td>0</td>\n",
       "      <td>1</td>\n",
       "    </tr>\n",
       "    <tr>\n",
       "      <th>745320</th>\n",
       "      <td>0</td>\n",
       "      <td>0</td>\n",
       "      <td>0</td>\n",
       "      <td>0</td>\n",
       "      <td>1</td>\n",
       "    </tr>\n",
       "    <tr>\n",
       "      <th>745321</th>\n",
       "      <td>0</td>\n",
       "      <td>0</td>\n",
       "      <td>0</td>\n",
       "      <td>0</td>\n",
       "      <td>1</td>\n",
       "    </tr>\n",
       "  </tbody>\n",
       "</table>\n",
       "</div>"
      ],
      "text/plain": [
       "        medium_carriers  small_carriers  spring  summer  winter\n",
       "745317                0               0       0       0       1\n",
       "745318                0               0       0       0       1\n",
       "745319                0               0       0       0       1\n",
       "745320                0               0       0       0       1\n",
       "745321                0               0       0       0       1"
      ]
     },
     "execution_count": 20,
     "metadata": {},
     "output_type": "execute_result"
    }
   ],
   "source": [
    "dataTemp = pd.get_dummies(data[\"seasons\"],drop_first=True)\n",
    "features = pd.concat([features,dataTemp],axis=1)\n",
    "features.tail()"
   ]
  },
  {
   "cell_type": "markdown",
   "metadata": {},
   "source": [
    "## Week Type Feature, weekday and weekend"
   ]
  },
  {
   "cell_type": "code",
   "execution_count": 21,
   "metadata": {},
   "outputs": [],
   "source": [
    "week_type = {1:'weekday', 2:'weekday', 3:'weekday', 4:'weekday',\n",
    "           5:'weekend', 6:'weekend', 7:'weekend'}"
   ]
  },
  {
   "cell_type": "code",
   "execution_count": 22,
   "metadata": {},
   "outputs": [],
   "source": [
    "data[\"week_type\"] = data[\"DayOfWeek\"].map(week_type)\n"
   ]
  },
  {
   "cell_type": "code",
   "execution_count": 23,
   "metadata": {},
   "outputs": [
    {
     "data": {
      "text/html": [
       "<div>\n",
       "<style scoped>\n",
       "    .dataframe tbody tr th:only-of-type {\n",
       "        vertical-align: middle;\n",
       "    }\n",
       "\n",
       "    .dataframe tbody tr th {\n",
       "        vertical-align: top;\n",
       "    }\n",
       "\n",
       "    .dataframe thead th {\n",
       "        text-align: right;\n",
       "    }\n",
       "</style>\n",
       "<table border=\"1\" class=\"dataframe\">\n",
       "  <thead>\n",
       "    <tr style=\"text-align: right;\">\n",
       "      <th></th>\n",
       "      <th>medium_carriers</th>\n",
       "      <th>small_carriers</th>\n",
       "      <th>spring</th>\n",
       "      <th>summer</th>\n",
       "      <th>winter</th>\n",
       "      <th>weekend</th>\n",
       "    </tr>\n",
       "  </thead>\n",
       "  <tbody>\n",
       "    <tr>\n",
       "      <th>745317</th>\n",
       "      <td>0</td>\n",
       "      <td>0</td>\n",
       "      <td>0</td>\n",
       "      <td>0</td>\n",
       "      <td>1</td>\n",
       "      <td>1</td>\n",
       "    </tr>\n",
       "    <tr>\n",
       "      <th>745318</th>\n",
       "      <td>0</td>\n",
       "      <td>0</td>\n",
       "      <td>0</td>\n",
       "      <td>0</td>\n",
       "      <td>1</td>\n",
       "      <td>1</td>\n",
       "    </tr>\n",
       "    <tr>\n",
       "      <th>745319</th>\n",
       "      <td>0</td>\n",
       "      <td>0</td>\n",
       "      <td>0</td>\n",
       "      <td>0</td>\n",
       "      <td>1</td>\n",
       "      <td>1</td>\n",
       "    </tr>\n",
       "    <tr>\n",
       "      <th>745320</th>\n",
       "      <td>0</td>\n",
       "      <td>0</td>\n",
       "      <td>0</td>\n",
       "      <td>0</td>\n",
       "      <td>1</td>\n",
       "      <td>1</td>\n",
       "    </tr>\n",
       "    <tr>\n",
       "      <th>745321</th>\n",
       "      <td>0</td>\n",
       "      <td>0</td>\n",
       "      <td>0</td>\n",
       "      <td>0</td>\n",
       "      <td>1</td>\n",
       "      <td>1</td>\n",
       "    </tr>\n",
       "  </tbody>\n",
       "</table>\n",
       "</div>"
      ],
      "text/plain": [
       "        medium_carriers  small_carriers  spring  summer  winter  weekend\n",
       "745317                0               0       0       0       1        1\n",
       "745318                0               0       0       0       1        1\n",
       "745319                0               0       0       0       1        1\n",
       "745320                0               0       0       0       1        1\n",
       "745321                0               0       0       0       1        1"
      ]
     },
     "execution_count": 23,
     "metadata": {},
     "output_type": "execute_result"
    }
   ],
   "source": [
    "dataTemp = pd.get_dummies(data[\"week_type\"],drop_first=True)\n",
    "features = pd.concat([features,dataTemp],axis=1)\n",
    "features.tail()"
   ]
  },
  {
   "cell_type": "markdown",
   "metadata": {},
   "source": [
    "## Day Time Feature, early_day, mid_day, late_day and night"
   ]
  },
  {
   "cell_type": "code",
   "execution_count": 24,
   "metadata": {},
   "outputs": [
    {
     "data": {
      "text/html": [
       "<div>\n",
       "<style scoped>\n",
       "    .dataframe tbody tr th:only-of-type {\n",
       "        vertical-align: middle;\n",
       "    }\n",
       "\n",
       "    .dataframe tbody tr th {\n",
       "        vertical-align: top;\n",
       "    }\n",
       "\n",
       "    .dataframe thead th {\n",
       "        text-align: right;\n",
       "    }\n",
       "</style>\n",
       "<table border=\"1\" class=\"dataframe\">\n",
       "  <thead>\n",
       "    <tr style=\"text-align: right;\">\n",
       "      <th></th>\n",
       "      <th>CRSDepTime</th>\n",
       "    </tr>\n",
       "  </thead>\n",
       "  <tbody>\n",
       "    <tr>\n",
       "      <th>9583</th>\n",
       "      <td>46</td>\n",
       "    </tr>\n",
       "    <tr>\n",
       "      <th>10254</th>\n",
       "      <td>210</td>\n",
       "    </tr>\n",
       "    <tr>\n",
       "      <th>11910</th>\n",
       "      <td>150</td>\n",
       "    </tr>\n",
       "    <tr>\n",
       "      <th>12291</th>\n",
       "      <td>150</td>\n",
       "    </tr>\n",
       "    <tr>\n",
       "      <th>18244</th>\n",
       "      <td>500</td>\n",
       "    </tr>\n",
       "  </tbody>\n",
       "</table>\n",
       "</div>"
      ],
      "text/plain": [
       "       CRSDepTime\n",
       "9583           46\n",
       "10254         210\n",
       "11910         150\n",
       "12291         150\n",
       "18244         500"
      ]
     },
     "execution_count": 24,
     "metadata": {},
     "output_type": "execute_result"
    }
   ],
   "source": [
    "data.loc[(data[\"CRSDepTime\"] <= 500),[\"CRSDepTime\"]].head()"
   ]
  },
  {
   "cell_type": "code",
   "execution_count": 25,
   "metadata": {},
   "outputs": [],
   "source": [
    "def g(x):\n",
    "    if (x >= 2200 and x < 2400) or (x >= 0 and x < 500):\n",
    "        return \"night\"\n",
    "    elif (x >= 500 and x < 900):\n",
    "        return \"early_day\"    \n",
    "    elif (x >= 900 and x < 1600):\n",
    "        return \"mid_day\"\n",
    "    elif (x >= 1600 and x < 2200):\n",
    "        return \"late_day\"\n",
    "    else:\n",
    "        return \"n\"\n",
    "data[\"day_time\"] = list(map(lambda x: g(x), data[\"CRSDepTime\"]))\n"
   ]
  },
  {
   "cell_type": "code",
   "execution_count": 26,
   "metadata": {},
   "outputs": [
    {
     "data": {
      "text/plain": [
       "0      mid_day\n",
       "1    early_day\n",
       "2     late_day\n",
       "3     late_day\n",
       "4    early_day\n",
       "Name: day_time, dtype: object"
      ]
     },
     "execution_count": 26,
     "metadata": {},
     "output_type": "execute_result"
    }
   ],
   "source": [
    "data[\"day_time\"].head()"
   ]
  },
  {
   "cell_type": "code",
   "execution_count": 27,
   "metadata": {},
   "outputs": [
    {
     "data": {
      "text/html": [
       "<div>\n",
       "<style scoped>\n",
       "    .dataframe tbody tr th:only-of-type {\n",
       "        vertical-align: middle;\n",
       "    }\n",
       "\n",
       "    .dataframe tbody tr th {\n",
       "        vertical-align: top;\n",
       "    }\n",
       "\n",
       "    .dataframe thead th {\n",
       "        text-align: right;\n",
       "    }\n",
       "</style>\n",
       "<table border=\"1\" class=\"dataframe\">\n",
       "  <thead>\n",
       "    <tr style=\"text-align: right;\">\n",
       "      <th></th>\n",
       "      <th>medium_carriers</th>\n",
       "      <th>small_carriers</th>\n",
       "      <th>spring</th>\n",
       "      <th>summer</th>\n",
       "      <th>winter</th>\n",
       "      <th>weekend</th>\n",
       "      <th>late_day</th>\n",
       "      <th>mid_day</th>\n",
       "      <th>night</th>\n",
       "    </tr>\n",
       "  </thead>\n",
       "  <tbody>\n",
       "    <tr>\n",
       "      <th>745317</th>\n",
       "      <td>0</td>\n",
       "      <td>0</td>\n",
       "      <td>0</td>\n",
       "      <td>0</td>\n",
       "      <td>1</td>\n",
       "      <td>1</td>\n",
       "      <td>0</td>\n",
       "      <td>1</td>\n",
       "      <td>0</td>\n",
       "    </tr>\n",
       "    <tr>\n",
       "      <th>745318</th>\n",
       "      <td>0</td>\n",
       "      <td>0</td>\n",
       "      <td>0</td>\n",
       "      <td>0</td>\n",
       "      <td>1</td>\n",
       "      <td>1</td>\n",
       "      <td>1</td>\n",
       "      <td>0</td>\n",
       "      <td>0</td>\n",
       "    </tr>\n",
       "    <tr>\n",
       "      <th>745319</th>\n",
       "      <td>0</td>\n",
       "      <td>0</td>\n",
       "      <td>0</td>\n",
       "      <td>0</td>\n",
       "      <td>1</td>\n",
       "      <td>1</td>\n",
       "      <td>0</td>\n",
       "      <td>1</td>\n",
       "      <td>0</td>\n",
       "    </tr>\n",
       "    <tr>\n",
       "      <th>745320</th>\n",
       "      <td>0</td>\n",
       "      <td>0</td>\n",
       "      <td>0</td>\n",
       "      <td>0</td>\n",
       "      <td>1</td>\n",
       "      <td>1</td>\n",
       "      <td>0</td>\n",
       "      <td>1</td>\n",
       "      <td>0</td>\n",
       "    </tr>\n",
       "    <tr>\n",
       "      <th>745321</th>\n",
       "      <td>0</td>\n",
       "      <td>0</td>\n",
       "      <td>0</td>\n",
       "      <td>0</td>\n",
       "      <td>1</td>\n",
       "      <td>1</td>\n",
       "      <td>1</td>\n",
       "      <td>0</td>\n",
       "      <td>0</td>\n",
       "    </tr>\n",
       "  </tbody>\n",
       "</table>\n",
       "</div>"
      ],
      "text/plain": [
       "        medium_carriers  small_carriers  spring  summer  winter  weekend  \\\n",
       "745317                0               0       0       0       1        1   \n",
       "745318                0               0       0       0       1        1   \n",
       "745319                0               0       0       0       1        1   \n",
       "745320                0               0       0       0       1        1   \n",
       "745321                0               0       0       0       1        1   \n",
       "\n",
       "        late_day  mid_day  night  \n",
       "745317         0        1      0  \n",
       "745318         1        0      0  \n",
       "745319         0        1      0  \n",
       "745320         0        1      0  \n",
       "745321         1        0      0  "
      ]
     },
     "execution_count": 27,
     "metadata": {},
     "output_type": "execute_result"
    }
   ],
   "source": [
    "dataTemp = pd.get_dummies(data[\"day_time\"],drop_first=True)\n",
    "features = pd.concat([features,dataTemp],axis=1)\n",
    "features.tail()"
   ]
  },
  {
   "cell_type": "markdown",
   "metadata": {},
   "source": [
    "## Airport Origin Feature Split into East, West, South, and North by latitude (36 deg.) and longitude (-100 deg.)"
   ]
  },
  {
   "cell_type": "code",
   "execution_count": 28,
   "metadata": {},
   "outputs": [
    {
     "data": {
      "text/plain": [
       "array(['SMF', 'SNA', 'STL', 'TPA', 'TUL', 'TUS', 'ABQ', 'ALB', 'AMA',\n",
       "       'AUS', 'BDL', 'BHM', 'BNA', 'BOI', 'BUF', 'BUR', 'BWI', 'CLE',\n",
       "       'CMH', 'CRP', 'DAL', 'DEN', 'DTW', 'ELP', 'FLL', 'GEG', 'HOU',\n",
       "       'HRL', 'IAD', 'IND', 'ISP', 'JAN', 'JAX', 'LAS', 'LAX', 'LBB',\n",
       "       'LIT', 'MAF', 'MCI', 'MCO', 'MDW', 'MHT', 'MSY', 'OAK', 'OKC',\n",
       "       'OMA', 'ONT', 'ORF', 'PBI', 'PDX', 'PHL', 'PHX', 'PIT', 'PVD',\n",
       "       'RDU', 'RNO', 'RSW', 'SAN', 'SAT', 'SDF', 'SEA', 'SJC', 'SLC',\n",
       "       'BFL', 'IAH', 'ICT', 'EWR', 'GRR', 'ATL', 'ROC', 'TYS', 'DFW',\n",
       "       'ORD', 'BTR', 'MGM', 'LFT', 'DCA', 'SHV', 'BRO', 'BTV', 'MSP',\n",
       "       'CVG', 'MFE', 'DAY', 'HSV', 'MKE', 'ABE', 'BOS', 'CHS', 'AEX',\n",
       "       'RIC', 'CLT', 'CAE', 'HPN', 'MDT', 'PNS', 'MEM', 'VPS', 'MOB',\n",
       "       'DSM', 'LEX', 'PWM', 'COS', 'CHA', 'SAV', 'GPT', 'LRD', 'SYR',\n",
       "       'XNA', 'DAB', 'GSO', 'GRK', 'SRQ', 'MTJ', 'BPT', 'LGA', 'LCH',\n",
       "       'GSP', 'CLL', 'CRW', 'MLU', 'TLH', 'MSN', 'AVL', 'JFK', 'PSP',\n",
       "       'MYR', 'BGR', 'ERI', 'EGE', 'FLG', 'GJT', 'GUC', 'HNL', 'JAC',\n",
       "       'KOA', 'LGB', 'MRY', 'OGG', 'SBA', 'YUM', 'CAK', 'DRO', 'EUG',\n",
       "       'FAT', 'FSD', 'HDN', 'ITO', 'LAN', 'LIH', 'RAP', 'SBP', 'ASE',\n",
       "       'ATW', 'ILM', 'MFR', 'ROA', 'SBN', 'TEX', 'BMI', 'CID', 'COD',\n",
       "       'CWA', 'CLD', 'MLI', 'FWA', 'MBS', 'AVP', 'SFO', 'GRB', 'MIA',\n",
       "       'TTN', 'PHF', 'CHO', 'SCE', 'SGF', 'ACY', 'PFN', 'AZO', 'HTS',\n",
       "       'PIH', 'TWF', 'SGU', 'EKO', 'CPR', 'BIL', 'FAR', 'MSO', 'FCA',\n",
       "       'BZN', 'RDM', 'CIC', 'IYK', 'OXR', 'SMX', 'ACV', 'BIS', 'IDA',\n",
       "       'PSC', 'MOD', 'CEC', 'PIA', 'SPI', 'IPL', 'GTF', 'RFD', 'TVC',\n",
       "       'LNK', 'LWS', 'SUN', 'BTM', 'HLN', 'RDD', 'BLI', 'ANC', 'SJU',\n",
       "       'STT', 'MLB', 'GTR', 'EVV', 'CSG', 'TRI', 'GNV', 'AGS', 'DHN',\n",
       "       'BQK', 'LYH', 'MEI', 'MCN', 'ILG', 'FNT', 'ISO', 'FLO', 'VLD',\n",
       "       'ABY', 'TOL', 'FAY', 'OAJ', 'EYW', 'TUP', 'BGM', 'APF', 'SWF',\n",
       "       'TYR', 'ABI', 'SPS', 'LAW', 'GGG', 'SJT', 'ACT', 'TXK', 'FSM',\n",
       "       'CMI', 'RST', 'MQT', 'LSE', 'DBQ', 'DLH', 'MOT', 'GFK', 'PLN',\n",
       "       'SUX', 'ELM', 'CMX', 'ALO', 'STX', 'BET', 'JNU', 'SIT', 'OTZ',\n",
       "       'OME', 'FAI', 'CDV', 'SCC', 'WRG', 'YAK', 'KTN', 'PSG', 'ADQ',\n",
       "       'AKN', 'BRW', 'DLG', 'BQN', 'PSE', 'MTH', 'EAU', 'ADK', 'HHH',\n",
       "       'SOP', 'EWN', 'LWB', 'RHI', 'ACK', 'WYS', 'PMD', 'YKM', 'SLE',\n",
       "       'INL', 'BJI', 'GST', 'ROW', 'PIR'], dtype=object)"
      ]
     },
     "execution_count": 28,
     "metadata": {},
     "output_type": "execute_result"
    }
   ],
   "source": [
    "data.Origin.unique()"
   ]
  },
  {
   "cell_type": "code",
   "execution_count": 29,
   "metadata": {},
   "outputs": [],
   "source": [
    "#load data\n",
    "airport_lookup = pd.read_csv('airports.csv')"
   ]
  },
  {
   "cell_type": "code",
   "execution_count": 30,
   "metadata": {},
   "outputs": [
    {
     "name": "stdout",
     "output_type": "stream",
     "text": [
      "<class 'pandas.core.frame.DataFrame'>\n",
      "RangeIndex: 3376 entries, 0 to 3375\n",
      "Data columns (total 7 columns):\n",
      "iata       3376 non-null object\n",
      "airport    3376 non-null object\n",
      "city       3364 non-null object\n",
      "state      3364 non-null object\n",
      "country    3376 non-null object\n",
      "lat        3376 non-null float64\n",
      "long       3376 non-null float64\n",
      "dtypes: float64(2), object(5)\n",
      "memory usage: 184.7+ KB\n"
     ]
    }
   ],
   "source": [
    "airport_lookup.info()"
   ]
  },
  {
   "cell_type": "code",
   "execution_count": 31,
   "metadata": {},
   "outputs": [
    {
     "data": {
      "text/plain": [
       "0    Sacramento International\n",
       "1    Sacramento International\n",
       "2    Sacramento International\n",
       "3    Sacramento International\n",
       "4       John Wayne /Orange Co\n",
       "Name: airport_origin, dtype: object"
      ]
     },
     "execution_count": 31,
     "metadata": {},
     "output_type": "execute_result"
    }
   ],
   "source": [
    "d = airport_lookup.set_index('iata')['airport'].to_dict()\n",
    "d\n",
    "data[\"airport_origin\"] = data[\"Origin\"].map(d)\n",
    "data[\"airport_origin\"].head()"
   ]
  },
  {
   "cell_type": "code",
   "execution_count": 32,
   "metadata": {},
   "outputs": [
    {
     "data": {
      "text/plain": [
       "0    Sacramento\n",
       "1    Sacramento\n",
       "2    Sacramento\n",
       "3    Sacramento\n",
       "4     Santa Ana\n",
       "Name: city_origin, dtype: object"
      ]
     },
     "execution_count": 32,
     "metadata": {},
     "output_type": "execute_result"
    }
   ],
   "source": [
    "d = airport_lookup.set_index('iata')['city'].to_dict()\n",
    "d\n",
    "data[\"city_origin\"] = data[\"Origin\"].map(d)\n",
    "data[\"city_origin\"].head()"
   ]
  },
  {
   "cell_type": "code",
   "execution_count": 33,
   "metadata": {},
   "outputs": [
    {
     "data": {
      "text/plain": [
       "0    CA\n",
       "1    CA\n",
       "2    CA\n",
       "3    CA\n",
       "4    CA\n",
       "Name: state_origin, dtype: object"
      ]
     },
     "execution_count": 33,
     "metadata": {},
     "output_type": "execute_result"
    }
   ],
   "source": [
    "d = airport_lookup.set_index('iata')['state'].to_dict()\n",
    "d\n",
    "data[\"state_origin\"] = data[\"Origin\"].map(d)\n",
    "data[\"state_origin\"].head()"
   ]
  },
  {
   "cell_type": "code",
   "execution_count": 34,
   "metadata": {},
   "outputs": [
    {
     "data": {
      "text/plain": [
       "0    USA\n",
       "1    USA\n",
       "2    USA\n",
       "3    USA\n",
       "4    USA\n",
       "Name: country_origin, dtype: object"
      ]
     },
     "execution_count": 34,
     "metadata": {},
     "output_type": "execute_result"
    }
   ],
   "source": [
    "d = airport_lookup.set_index('iata')['country'].to_dict()\n",
    "d\n",
    "data[\"country_origin\"] = data[\"Origin\"].map(d)\n",
    "data[\"country_origin\"].head()"
   ]
  },
  {
   "cell_type": "code",
   "execution_count": 35,
   "metadata": {},
   "outputs": [
    {
     "data": {
      "text/plain": [
       "0    38.695422\n",
       "1    38.695422\n",
       "2    38.695422\n",
       "3    38.695422\n",
       "4    33.675659\n",
       "Name: lat_origin, dtype: float64"
      ]
     },
     "execution_count": 35,
     "metadata": {},
     "output_type": "execute_result"
    }
   ],
   "source": [
    "d = airport_lookup.set_index('iata')['lat'].to_dict()\n",
    "d\n",
    "data[\"lat_origin\"] = data[\"Origin\"].map(d)\n",
    "data[\"lat_origin\"].head()"
   ]
  },
  {
   "cell_type": "code",
   "execution_count": 36,
   "metadata": {},
   "outputs": [
    {
     "data": {
      "text/plain": [
       "0   -121.590767\n",
       "1   -121.590767\n",
       "2   -121.590767\n",
       "3   -121.590767\n",
       "4   -117.868223\n",
       "Name: long_origin, dtype: float64"
      ]
     },
     "execution_count": 36,
     "metadata": {},
     "output_type": "execute_result"
    }
   ],
   "source": [
    "d = airport_lookup.set_index('iata')['long'].to_dict()\n",
    "d\n",
    "data[\"long_origin\"] = data[\"Origin\"].map(d)\n",
    "data[\"long_origin\"].head()"
   ]
  },
  {
   "cell_type": "code",
   "execution_count": 37,
   "metadata": {},
   "outputs": [],
   "source": [
    "\n",
    "def g(x):\n",
    "        if x > 36.0:\n",
    "            return \"north\"\n",
    "        else:\n",
    "            return \"south\"\n",
    "data[\"north_south\"] = list(map(lambda x: g(x), data[\"lat_origin\"]))\n"
   ]
  },
  {
   "cell_type": "code",
   "execution_count": 38,
   "metadata": {},
   "outputs": [
    {
     "data": {
      "text/html": [
       "<div>\n",
       "<style scoped>\n",
       "    .dataframe tbody tr th:only-of-type {\n",
       "        vertical-align: middle;\n",
       "    }\n",
       "\n",
       "    .dataframe tbody tr th {\n",
       "        vertical-align: top;\n",
       "    }\n",
       "\n",
       "    .dataframe thead th {\n",
       "        text-align: right;\n",
       "    }\n",
       "</style>\n",
       "<table border=\"1\" class=\"dataframe\">\n",
       "  <thead>\n",
       "    <tr style=\"text-align: right;\">\n",
       "      <th></th>\n",
       "      <th>medium_carriers</th>\n",
       "      <th>small_carriers</th>\n",
       "      <th>spring</th>\n",
       "      <th>summer</th>\n",
       "      <th>winter</th>\n",
       "      <th>weekend</th>\n",
       "      <th>late_day</th>\n",
       "      <th>mid_day</th>\n",
       "      <th>night</th>\n",
       "      <th>south</th>\n",
       "    </tr>\n",
       "  </thead>\n",
       "  <tbody>\n",
       "    <tr>\n",
       "      <th>745317</th>\n",
       "      <td>0</td>\n",
       "      <td>0</td>\n",
       "      <td>0</td>\n",
       "      <td>0</td>\n",
       "      <td>1</td>\n",
       "      <td>1</td>\n",
       "      <td>0</td>\n",
       "      <td>1</td>\n",
       "      <td>0</td>\n",
       "      <td>0</td>\n",
       "    </tr>\n",
       "    <tr>\n",
       "      <th>745318</th>\n",
       "      <td>0</td>\n",
       "      <td>0</td>\n",
       "      <td>0</td>\n",
       "      <td>0</td>\n",
       "      <td>1</td>\n",
       "      <td>1</td>\n",
       "      <td>1</td>\n",
       "      <td>0</td>\n",
       "      <td>0</td>\n",
       "      <td>0</td>\n",
       "    </tr>\n",
       "    <tr>\n",
       "      <th>745319</th>\n",
       "      <td>0</td>\n",
       "      <td>0</td>\n",
       "      <td>0</td>\n",
       "      <td>0</td>\n",
       "      <td>1</td>\n",
       "      <td>1</td>\n",
       "      <td>0</td>\n",
       "      <td>1</td>\n",
       "      <td>0</td>\n",
       "      <td>1</td>\n",
       "    </tr>\n",
       "    <tr>\n",
       "      <th>745320</th>\n",
       "      <td>0</td>\n",
       "      <td>0</td>\n",
       "      <td>0</td>\n",
       "      <td>0</td>\n",
       "      <td>1</td>\n",
       "      <td>1</td>\n",
       "      <td>0</td>\n",
       "      <td>1</td>\n",
       "      <td>0</td>\n",
       "      <td>0</td>\n",
       "    </tr>\n",
       "    <tr>\n",
       "      <th>745321</th>\n",
       "      <td>0</td>\n",
       "      <td>0</td>\n",
       "      <td>0</td>\n",
       "      <td>0</td>\n",
       "      <td>1</td>\n",
       "      <td>1</td>\n",
       "      <td>1</td>\n",
       "      <td>0</td>\n",
       "      <td>0</td>\n",
       "      <td>1</td>\n",
       "    </tr>\n",
       "  </tbody>\n",
       "</table>\n",
       "</div>"
      ],
      "text/plain": [
       "        medium_carriers  small_carriers  spring  summer  winter  weekend  \\\n",
       "745317                0               0       0       0       1        1   \n",
       "745318                0               0       0       0       1        1   \n",
       "745319                0               0       0       0       1        1   \n",
       "745320                0               0       0       0       1        1   \n",
       "745321                0               0       0       0       1        1   \n",
       "\n",
       "        late_day  mid_day  night  south  \n",
       "745317         0        1      0      0  \n",
       "745318         1        0      0      0  \n",
       "745319         0        1      0      1  \n",
       "745320         0        1      0      0  \n",
       "745321         1        0      0      1  "
      ]
     },
     "execution_count": 38,
     "metadata": {},
     "output_type": "execute_result"
    }
   ],
   "source": [
    "dataTemp = pd.get_dummies(data[\"north_south\"],drop_first=True)\n",
    "features = pd.concat([features,dataTemp],axis=1)\n",
    "features.tail()"
   ]
  },
  {
   "cell_type": "code",
   "execution_count": 39,
   "metadata": {},
   "outputs": [],
   "source": [
    "\n",
    "def g(x):\n",
    "        if x > -100.0:\n",
    "            return \"east\"\n",
    "        else:\n",
    "            return \"west\"\n",
    "data[\"east_west\"] = list(map(lambda x: g(x), data[\"long_origin\"]))"
   ]
  },
  {
   "cell_type": "code",
   "execution_count": 40,
   "metadata": {},
   "outputs": [
    {
     "data": {
      "text/html": [
       "<div>\n",
       "<style scoped>\n",
       "    .dataframe tbody tr th:only-of-type {\n",
       "        vertical-align: middle;\n",
       "    }\n",
       "\n",
       "    .dataframe tbody tr th {\n",
       "        vertical-align: top;\n",
       "    }\n",
       "\n",
       "    .dataframe thead th {\n",
       "        text-align: right;\n",
       "    }\n",
       "</style>\n",
       "<table border=\"1\" class=\"dataframe\">\n",
       "  <thead>\n",
       "    <tr style=\"text-align: right;\">\n",
       "      <th></th>\n",
       "      <th>medium_carriers</th>\n",
       "      <th>small_carriers</th>\n",
       "      <th>spring</th>\n",
       "      <th>summer</th>\n",
       "      <th>winter</th>\n",
       "      <th>weekend</th>\n",
       "      <th>late_day</th>\n",
       "      <th>mid_day</th>\n",
       "      <th>night</th>\n",
       "      <th>south</th>\n",
       "      <th>west</th>\n",
       "    </tr>\n",
       "  </thead>\n",
       "  <tbody>\n",
       "    <tr>\n",
       "      <th>745317</th>\n",
       "      <td>0</td>\n",
       "      <td>0</td>\n",
       "      <td>0</td>\n",
       "      <td>0</td>\n",
       "      <td>1</td>\n",
       "      <td>1</td>\n",
       "      <td>0</td>\n",
       "      <td>1</td>\n",
       "      <td>0</td>\n",
       "      <td>0</td>\n",
       "      <td>0</td>\n",
       "    </tr>\n",
       "    <tr>\n",
       "      <th>745318</th>\n",
       "      <td>0</td>\n",
       "      <td>0</td>\n",
       "      <td>0</td>\n",
       "      <td>0</td>\n",
       "      <td>1</td>\n",
       "      <td>1</td>\n",
       "      <td>1</td>\n",
       "      <td>0</td>\n",
       "      <td>0</td>\n",
       "      <td>0</td>\n",
       "      <td>0</td>\n",
       "    </tr>\n",
       "    <tr>\n",
       "      <th>745319</th>\n",
       "      <td>0</td>\n",
       "      <td>0</td>\n",
       "      <td>0</td>\n",
       "      <td>0</td>\n",
       "      <td>1</td>\n",
       "      <td>1</td>\n",
       "      <td>0</td>\n",
       "      <td>1</td>\n",
       "      <td>0</td>\n",
       "      <td>1</td>\n",
       "      <td>0</td>\n",
       "    </tr>\n",
       "    <tr>\n",
       "      <th>745320</th>\n",
       "      <td>0</td>\n",
       "      <td>0</td>\n",
       "      <td>0</td>\n",
       "      <td>0</td>\n",
       "      <td>1</td>\n",
       "      <td>1</td>\n",
       "      <td>0</td>\n",
       "      <td>1</td>\n",
       "      <td>0</td>\n",
       "      <td>0</td>\n",
       "      <td>1</td>\n",
       "    </tr>\n",
       "    <tr>\n",
       "      <th>745321</th>\n",
       "      <td>0</td>\n",
       "      <td>0</td>\n",
       "      <td>0</td>\n",
       "      <td>0</td>\n",
       "      <td>1</td>\n",
       "      <td>1</td>\n",
       "      <td>1</td>\n",
       "      <td>0</td>\n",
       "      <td>0</td>\n",
       "      <td>1</td>\n",
       "      <td>0</td>\n",
       "    </tr>\n",
       "  </tbody>\n",
       "</table>\n",
       "</div>"
      ],
      "text/plain": [
       "        medium_carriers  small_carriers  spring  summer  winter  weekend  \\\n",
       "745317                0               0       0       0       1        1   \n",
       "745318                0               0       0       0       1        1   \n",
       "745319                0               0       0       0       1        1   \n",
       "745320                0               0       0       0       1        1   \n",
       "745321                0               0       0       0       1        1   \n",
       "\n",
       "        late_day  mid_day  night  south  west  \n",
       "745317         0        1      0      0     0  \n",
       "745318         1        0      0      0     0  \n",
       "745319         0        1      0      1     0  \n",
       "745320         0        1      0      0     1  \n",
       "745321         1        0      0      1     0  "
      ]
     },
     "execution_count": 40,
     "metadata": {},
     "output_type": "execute_result"
    }
   ],
   "source": [
    "dataTemp = pd.get_dummies(data[\"east_west\"],drop_first=True)\n",
    "features = pd.concat([features,dataTemp],axis=1)\n",
    "features.tail()"
   ]
  },
  {
   "cell_type": "markdown",
   "metadata": {},
   "source": [
    "## Late Arrival Feature, Late = 1"
   ]
  },
  {
   "cell_type": "code",
   "execution_count": 41,
   "metadata": {},
   "outputs": [
    {
     "data": {
      "text/plain": [
       "83738"
      ]
     },
     "execution_count": 41,
     "metadata": {},
     "output_type": "execute_result"
    }
   ],
   "source": [
    "data.loc[(data[\"LateAircraftDelay\"] > 0),\"LateAircraftDelay\"].shape[0]"
   ]
  },
  {
   "cell_type": "code",
   "execution_count": 42,
   "metadata": {},
   "outputs": [],
   "source": [
    "def g(x):\n",
    "    if x > 30:\n",
    "        return \"late\"\n",
    "    else:\n",
    "        return \"not_late\"\n",
    "data[\"late_arrival\"] = list(map(lambda x: g(x), data[\"LateAircraftDelay\"]))\n"
   ]
  },
  {
   "cell_type": "code",
   "execution_count": 43,
   "metadata": {},
   "outputs": [
    {
     "data": {
      "text/plain": [
       "0    not_late\n",
       "1    not_late\n",
       "2        late\n",
       "3    not_late\n",
       "4    not_late\n",
       "Name: late_arrival, dtype: object"
      ]
     },
     "execution_count": 43,
     "metadata": {},
     "output_type": "execute_result"
    }
   ],
   "source": [
    "data[\"late_arrival\"].head()"
   ]
  },
  {
   "cell_type": "code",
   "execution_count": 44,
   "metadata": {},
   "outputs": [],
   "source": [
    "#features.drop(\"late\",inplace=True,axis=1)"
   ]
  },
  {
   "cell_type": "code",
   "execution_count": 45,
   "metadata": {},
   "outputs": [
    {
     "data": {
      "text/html": [
       "<div>\n",
       "<style scoped>\n",
       "    .dataframe tbody tr th:only-of-type {\n",
       "        vertical-align: middle;\n",
       "    }\n",
       "\n",
       "    .dataframe tbody tr th {\n",
       "        vertical-align: top;\n",
       "    }\n",
       "\n",
       "    .dataframe thead th {\n",
       "        text-align: right;\n",
       "    }\n",
       "</style>\n",
       "<table border=\"1\" class=\"dataframe\">\n",
       "  <thead>\n",
       "    <tr style=\"text-align: right;\">\n",
       "      <th></th>\n",
       "      <th>medium_carriers</th>\n",
       "      <th>small_carriers</th>\n",
       "      <th>spring</th>\n",
       "      <th>summer</th>\n",
       "      <th>winter</th>\n",
       "      <th>weekend</th>\n",
       "      <th>late_day</th>\n",
       "      <th>mid_day</th>\n",
       "      <th>night</th>\n",
       "      <th>south</th>\n",
       "      <th>west</th>\n",
       "      <th>not_late</th>\n",
       "    </tr>\n",
       "  </thead>\n",
       "  <tbody>\n",
       "    <tr>\n",
       "      <th>745317</th>\n",
       "      <td>0</td>\n",
       "      <td>0</td>\n",
       "      <td>0</td>\n",
       "      <td>0</td>\n",
       "      <td>1</td>\n",
       "      <td>1</td>\n",
       "      <td>0</td>\n",
       "      <td>1</td>\n",
       "      <td>0</td>\n",
       "      <td>0</td>\n",
       "      <td>0</td>\n",
       "      <td>1</td>\n",
       "    </tr>\n",
       "    <tr>\n",
       "      <th>745318</th>\n",
       "      <td>0</td>\n",
       "      <td>0</td>\n",
       "      <td>0</td>\n",
       "      <td>0</td>\n",
       "      <td>1</td>\n",
       "      <td>1</td>\n",
       "      <td>1</td>\n",
       "      <td>0</td>\n",
       "      <td>0</td>\n",
       "      <td>0</td>\n",
       "      <td>0</td>\n",
       "      <td>1</td>\n",
       "    </tr>\n",
       "    <tr>\n",
       "      <th>745319</th>\n",
       "      <td>0</td>\n",
       "      <td>0</td>\n",
       "      <td>0</td>\n",
       "      <td>0</td>\n",
       "      <td>1</td>\n",
       "      <td>1</td>\n",
       "      <td>0</td>\n",
       "      <td>1</td>\n",
       "      <td>0</td>\n",
       "      <td>1</td>\n",
       "      <td>0</td>\n",
       "      <td>0</td>\n",
       "    </tr>\n",
       "    <tr>\n",
       "      <th>745320</th>\n",
       "      <td>0</td>\n",
       "      <td>0</td>\n",
       "      <td>0</td>\n",
       "      <td>0</td>\n",
       "      <td>1</td>\n",
       "      <td>1</td>\n",
       "      <td>0</td>\n",
       "      <td>1</td>\n",
       "      <td>0</td>\n",
       "      <td>0</td>\n",
       "      <td>1</td>\n",
       "      <td>1</td>\n",
       "    </tr>\n",
       "    <tr>\n",
       "      <th>745321</th>\n",
       "      <td>0</td>\n",
       "      <td>0</td>\n",
       "      <td>0</td>\n",
       "      <td>0</td>\n",
       "      <td>1</td>\n",
       "      <td>1</td>\n",
       "      <td>1</td>\n",
       "      <td>0</td>\n",
       "      <td>0</td>\n",
       "      <td>1</td>\n",
       "      <td>0</td>\n",
       "      <td>1</td>\n",
       "    </tr>\n",
       "  </tbody>\n",
       "</table>\n",
       "</div>"
      ],
      "text/plain": [
       "        medium_carriers  small_carriers  spring  summer  winter  weekend  \\\n",
       "745317                0               0       0       0       1        1   \n",
       "745318                0               0       0       0       1        1   \n",
       "745319                0               0       0       0       1        1   \n",
       "745320                0               0       0       0       1        1   \n",
       "745321                0               0       0       0       1        1   \n",
       "\n",
       "        late_day  mid_day  night  south  west  not_late  \n",
       "745317         0        1      0      0     0         1  \n",
       "745318         1        0      0      0     0         1  \n",
       "745319         0        1      0      1     0         0  \n",
       "745320         0        1      0      0     1         1  \n",
       "745321         1        0      0      1     0         1  "
      ]
     },
     "execution_count": 45,
     "metadata": {},
     "output_type": "execute_result"
    }
   ],
   "source": [
    "\n",
    "dataTemp = pd.get_dummies(data[\"late_arrival\"],drop_first=True)\n",
    "features = pd.concat([features,dataTemp],axis=1)\n",
    "features.tail()"
   ]
  },
  {
   "cell_type": "code",
   "execution_count": 46,
   "metadata": {},
   "outputs": [],
   "source": [
    "def g(x):\n",
    "    if x == 1:\n",
    "        return 0\n",
    "    else:\n",
    "        return 1\n",
    "features[\"late\"] = list(map(lambda x: g(x),features[\"not_late\"]))\n",
    "features[\"late\"].head()\n",
    "features.drop(\"not_late\",inplace=True,axis=1)"
   ]
  },
  {
   "cell_type": "markdown",
   "metadata": {},
   "source": [
    "# Train-Test Split"
   ]
  },
  {
   "cell_type": "code",
   "execution_count": 47,
   "metadata": {},
   "outputs": [
    {
     "data": {
      "text/html": [
       "<div>\n",
       "<style scoped>\n",
       "    .dataframe tbody tr th:only-of-type {\n",
       "        vertical-align: middle;\n",
       "    }\n",
       "\n",
       "    .dataframe tbody tr th {\n",
       "        vertical-align: top;\n",
       "    }\n",
       "\n",
       "    .dataframe thead th {\n",
       "        text-align: right;\n",
       "    }\n",
       "</style>\n",
       "<table border=\"1\" class=\"dataframe\">\n",
       "  <thead>\n",
       "    <tr style=\"text-align: right;\">\n",
       "      <th></th>\n",
       "      <th>const</th>\n",
       "      <th>medium_carriers</th>\n",
       "      <th>small_carriers</th>\n",
       "      <th>spring</th>\n",
       "      <th>summer</th>\n",
       "      <th>winter</th>\n",
       "      <th>weekend</th>\n",
       "      <th>late_day</th>\n",
       "      <th>mid_day</th>\n",
       "      <th>night</th>\n",
       "      <th>south</th>\n",
       "      <th>west</th>\n",
       "    </tr>\n",
       "  </thead>\n",
       "  <tbody>\n",
       "    <tr>\n",
       "      <th>0</th>\n",
       "      <td>1.0</td>\n",
       "      <td>0</td>\n",
       "      <td>0</td>\n",
       "      <td>0</td>\n",
       "      <td>0</td>\n",
       "      <td>1</td>\n",
       "      <td>0</td>\n",
       "      <td>0</td>\n",
       "      <td>1</td>\n",
       "      <td>0</td>\n",
       "      <td>0</td>\n",
       "      <td>1</td>\n",
       "    </tr>\n",
       "    <tr>\n",
       "      <th>1</th>\n",
       "      <td>1.0</td>\n",
       "      <td>0</td>\n",
       "      <td>0</td>\n",
       "      <td>0</td>\n",
       "      <td>0</td>\n",
       "      <td>1</td>\n",
       "      <td>0</td>\n",
       "      <td>0</td>\n",
       "      <td>0</td>\n",
       "      <td>0</td>\n",
       "      <td>0</td>\n",
       "      <td>1</td>\n",
       "    </tr>\n",
       "    <tr>\n",
       "      <th>2</th>\n",
       "      <td>1.0</td>\n",
       "      <td>0</td>\n",
       "      <td>0</td>\n",
       "      <td>0</td>\n",
       "      <td>0</td>\n",
       "      <td>1</td>\n",
       "      <td>0</td>\n",
       "      <td>1</td>\n",
       "      <td>0</td>\n",
       "      <td>0</td>\n",
       "      <td>0</td>\n",
       "      <td>1</td>\n",
       "    </tr>\n",
       "    <tr>\n",
       "      <th>3</th>\n",
       "      <td>1.0</td>\n",
       "      <td>0</td>\n",
       "      <td>0</td>\n",
       "      <td>0</td>\n",
       "      <td>0</td>\n",
       "      <td>1</td>\n",
       "      <td>0</td>\n",
       "      <td>1</td>\n",
       "      <td>0</td>\n",
       "      <td>0</td>\n",
       "      <td>0</td>\n",
       "      <td>1</td>\n",
       "    </tr>\n",
       "    <tr>\n",
       "      <th>4</th>\n",
       "      <td>1.0</td>\n",
       "      <td>0</td>\n",
       "      <td>0</td>\n",
       "      <td>0</td>\n",
       "      <td>0</td>\n",
       "      <td>1</td>\n",
       "      <td>0</td>\n",
       "      <td>0</td>\n",
       "      <td>0</td>\n",
       "      <td>0</td>\n",
       "      <td>1</td>\n",
       "      <td>1</td>\n",
       "    </tr>\n",
       "  </tbody>\n",
       "</table>\n",
       "</div>"
      ],
      "text/plain": [
       "   const  medium_carriers  small_carriers  spring  summer  winter  weekend  \\\n",
       "0    1.0                0               0       0       0       1        0   \n",
       "1    1.0                0               0       0       0       1        0   \n",
       "2    1.0                0               0       0       0       1        0   \n",
       "3    1.0                0               0       0       0       1        0   \n",
       "4    1.0                0               0       0       0       1        0   \n",
       "\n",
       "   late_day  mid_day  night  south  west  \n",
       "0         0        1      0      0     1  \n",
       "1         0        0      0      0     1  \n",
       "2         1        0      0      0     1  \n",
       "3         1        0      0      0     1  \n",
       "4         0        0      0      1     1  "
      ]
     },
     "execution_count": 47,
     "metadata": {},
     "output_type": "execute_result"
    }
   ],
   "source": [
    "X = features.loc[:, ~features.columns.isin(['late'])]\n",
    "X = sm.add_constant(X)\n",
    "X.head()\n"
   ]
  },
  {
   "cell_type": "code",
   "execution_count": 48,
   "metadata": {},
   "outputs": [
    {
     "data": {
      "text/plain": [
       "0    0\n",
       "1    0\n",
       "2    1\n",
       "3    0\n",
       "4    0\n",
       "Name: late, dtype: int64"
      ]
     },
     "execution_count": 48,
     "metadata": {},
     "output_type": "execute_result"
    }
   ],
   "source": [
    "y = features[\"late\"]\n",
    "y.head()"
   ]
  },
  {
   "cell_type": "code",
   "execution_count": 49,
   "metadata": {},
   "outputs": [],
   "source": [
    "X_train, X_test, y_train, y_test = train_test_split(X, y, test_size=0.3, random_state=0)\n",
    "columns = X_train.columns"
   ]
  },
  {
   "cell_type": "markdown",
   "metadata": {},
   "source": [
    "# Class Balancing"
   ]
  },
  {
   "cell_type": "code",
   "execution_count": 50,
   "metadata": {},
   "outputs": [
    {
     "name": "stdout",
     "output_type": "stream",
     "text": [
      "Size of oversampled data  986532\n",
      "Late arrivals in oversampled data  493266\n",
      "On time arrivals  493266\n",
      "Late proprtion  0.5\n",
      "On time  0.5\n"
     ]
    }
   ],
   "source": [
    "os = SMOTE(random_state=0)\n",
    "os_data_X,os_data_y=os.fit_sample(X_train, y_train)\n",
    "os_data_X = pd.DataFrame(data=os_data_X,columns=columns )\n",
    "os_data_y= pd.DataFrame(data=os_data_y,columns=['y'])\n",
    "\n",
    "os_size = os_data_X.shape[0]\n",
    "os_size_late = os_data_y.loc[(os_data_y['y']==1)].shape[0]\n",
    "os_size_on_time = os_data_y.loc[(os_data_y['y']==0)].shape[0]\n",
    "\n",
    "print(\"Size of oversampled data \",os_size)\n",
    "print(\"Late arrivals in oversampled data \",os_size_late)\n",
    "print(\"On time arrivals \", os_size_on_time)\n",
    "print(\"Late proprtion \",os_size_late/os_size)\n",
    "print(\"On time \",os_size_on_time/os_size)"
   ]
  },
  {
   "cell_type": "markdown",
   "metadata": {},
   "source": [
    "# Algorithm 1: Logistic Regression"
   ]
  },
  {
   "cell_type": "markdown",
   "metadata": {},
   "source": [
    "## Feature Selection (Recursive Feature Elimination)"
   ]
  },
  {
   "cell_type": "code",
   "execution_count": 51,
   "metadata": {},
   "outputs": [
    {
     "name": "stderr",
     "output_type": "stream",
     "text": [
      "C:\\ProgramData\\Anaconda3\\lib\\site-packages\\sklearn\\linear_model\\logistic.py:432: FutureWarning: Default solver will be changed to 'lbfgs' in 0.22. Specify a solver to silence this warning.\n",
      "  FutureWarning)\n"
     ]
    },
    {
     "name": "stdout",
     "output_type": "stream",
     "text": [
      "[ True  True  True  True  True  True  True  True  True  True  True  True]\n",
      "[1 1 1 1 1 1 1 1 1 1 1 1]\n"
     ]
    }
   ],
   "source": [
    "\n",
    "logreg = LogisticRegression()\n",
    "rfe = RFE(logreg, 20)\n",
    "rfe = rfe.fit(os_data_X, os_data_y.values.ravel())\n",
    "print(rfe.support_)\n",
    "print(rfe.ranking_)"
   ]
  },
  {
   "cell_type": "markdown",
   "metadata": {},
   "source": [
    "## Preliminary Diagnostics"
   ]
  },
  {
   "cell_type": "code",
   "execution_count": 52,
   "metadata": {},
   "outputs": [
    {
     "name": "stdout",
     "output_type": "stream",
     "text": [
      "Optimization terminated successfully.\n",
      "         Current function value: 0.611820\n",
      "         Iterations 6\n",
      "                          Results: Logit\n",
      "===================================================================\n",
      "Model:              Logit            Pseudo R-squared: 0.117       \n",
      "Dependent Variable: y                AIC:              1207183.4392\n",
      "Date:               2019-06-05 12:18 BIC:              1207325.0626\n",
      "No. Observations:   986532           Log-Likelihood:   -6.0358e+05 \n",
      "Df Model:           11               LL-Null:          -6.8381e+05 \n",
      "Df Residuals:       986520           LLR p-value:      0.0000      \n",
      "Converged:          1.0000           Scale:            1.0000      \n",
      "No. Iterations:     6.0000                                         \n",
      "-------------------------------------------------------------------\n",
      "                   Coef.  Std.Err.     z     P>|z|   [0.025  0.975]\n",
      "-------------------------------------------------------------------\n",
      "const             -2.3932   0.0114 -210.2416 0.0000 -2.4155 -2.3709\n",
      "medium_carriers    0.0448   0.0061    7.3071 0.0000  0.0328  0.0568\n",
      "small_carriers    -0.3309   0.0049  -67.9998 0.0000 -0.3404 -0.3213\n",
      "spring             0.2887   0.0065   44.2587 0.0000  0.2759  0.3015\n",
      "summer             0.6347   0.0063  100.7794 0.0000  0.6223  0.6470\n",
      "winter             0.6067   0.0064   94.4250 0.0000  0.5941  0.6193\n",
      "weekend            0.0074   0.0044    1.6581 0.0973 -0.0013  0.0160\n",
      "late_day           2.8833   0.0103  280.0863 0.0000  2.8632  2.9035\n",
      "mid_day            2.0997   0.0103  204.1285 0.0000  2.0795  2.1198\n",
      "night              2.5209   0.0171  147.8420 0.0000  2.4875  2.5544\n",
      "south             -0.2850   0.0045  -63.8414 0.0000 -0.2937 -0.2762\n",
      "west              -0.1698   0.0048  -35.1076 0.0000 -0.1793 -0.1603\n",
      "===================================================================\n",
      "\n"
     ]
    }
   ],
   "source": [
    "X=os_data_X\n",
    "y=os_data_y\n",
    "\n",
    "logit_model=sm.Logit(y,X)\n",
    "result=logit_model.fit()\n",
    "print(result.summary2())"
   ]
  },
  {
   "cell_type": "markdown",
   "metadata": {},
   "source": [
    "## Drop weekend variable, not significant"
   ]
  },
  {
   "cell_type": "code",
   "execution_count": 53,
   "metadata": {},
   "outputs": [
    {
     "name": "stdout",
     "output_type": "stream",
     "text": [
      "Optimization terminated successfully.\n",
      "         Current function value: 0.611821\n",
      "         Iterations 6\n",
      "                          Results: Logit\n",
      "===================================================================\n",
      "Model:              Logit            Pseudo R-squared: 0.117       \n",
      "Dependent Variable: y                AIC:              1207184.1887\n",
      "Date:               2019-06-05 12:18 BIC:              1207314.0101\n",
      "No. Observations:   986532           Log-Likelihood:   -6.0358e+05 \n",
      "Df Model:           10               LL-Null:          -6.8381e+05 \n",
      "Df Residuals:       986521           LLR p-value:      0.0000      \n",
      "Converged:          1.0000           Scale:            1.0000      \n",
      "No. Iterations:     6.0000                                         \n",
      "-------------------------------------------------------------------\n",
      "                   Coef.  Std.Err.     z     P>|z|   [0.025  0.975]\n",
      "-------------------------------------------------------------------\n",
      "const             -2.3905   0.0113 -212.3076 0.0000 -2.4125 -2.3684\n",
      "medium_carriers    0.0448   0.0061    7.3113 0.0000  0.0328  0.0568\n",
      "small_carriers    -0.3309   0.0049  -68.0062 0.0000 -0.3404 -0.3214\n",
      "spring             0.2888   0.0065   44.2636 0.0000  0.2760  0.3015\n",
      "summer             0.6347   0.0063  100.7969 0.0000  0.6224  0.6471\n",
      "winter             0.6070   0.0064   94.5084 0.0000  0.5944  0.6195\n",
      "late_day           2.8833   0.0103  280.0843 0.0000  2.8631  2.9035\n",
      "mid_day            2.0998   0.0103  204.1436 0.0000  2.0796  2.1199\n",
      "night              2.5210   0.0171  147.8457 0.0000  2.4876  2.5544\n",
      "south             -0.2849   0.0045  -63.8233 0.0000 -0.2936 -0.2761\n",
      "west              -0.1695   0.0048  -35.0708 0.0000 -0.1790 -0.1600\n",
      "===================================================================\n",
      "\n"
     ]
    }
   ],
   "source": [
    "X.drop(\"weekend\",inplace=True,axis=1)\n",
    "\n",
    "logit_model=sm.Logit(y,X)\n",
    "result=logit_model.fit()\n",
    "print(result.summary2())"
   ]
  },
  {
   "cell_type": "markdown",
   "metadata": {},
   "source": [
    "## Training"
   ]
  },
  {
   "cell_type": "code",
   "execution_count": 54,
   "metadata": {},
   "outputs": [
    {
     "data": {
      "text/plain": [
       "LogisticRegression(C=1.0, class_weight=None, dual=False, fit_intercept=True,\n",
       "                   intercept_scaling=1, l1_ratio=0.7, max_iter=100,\n",
       "                   multi_class='multinomial', n_jobs=None, penalty='elasticnet',\n",
       "                   random_state=None, solver='saga', tol=0.0001, verbose=0,\n",
       "                   warm_start=False)"
      ]
     },
     "execution_count": 54,
     "metadata": {},
     "output_type": "execute_result"
    }
   ],
   "source": [
    "from sklearn.linear_model import LogisticRegression\n",
    "from sklearn import metrics\n",
    "X_train, X_test, y_train, y_test = train_test_split(X, y, test_size=0.2, random_state=0)\n",
    "logreg = LogisticRegression(solver='saga',penalty='elasticnet',C=1.0,l1_ratio=0.7,multi_class='multinomial')\n",
    "logreg.fit(X_train, y_train.values.ravel())"
   ]
  },
  {
   "cell_type": "markdown",
   "metadata": {},
   "source": [
    "## Testing"
   ]
  },
  {
   "cell_type": "code",
   "execution_count": 55,
   "metadata": {},
   "outputs": [
    {
     "name": "stdout",
     "output_type": "stream",
     "text": [
      "Accuracy of logistic regression classifier on test set: 0.65\n"
     ]
    }
   ],
   "source": [
    "y_pred = logreg.predict(X_test)\n",
    "print('Accuracy of logistic regression classifier on test set: {:.2f}'.format(logreg.score(X_test, y_test)))"
   ]
  },
  {
   "cell_type": "markdown",
   "metadata": {},
   "source": [
    "## Results"
   ]
  },
  {
   "cell_type": "code",
   "execution_count": 56,
   "metadata": {},
   "outputs": [
    {
     "name": "stdout",
     "output_type": "stream",
     "text": [
      "[[55574 43073]\n",
      " [26681 71979]]\n"
     ]
    }
   ],
   "source": [
    "from sklearn.metrics import confusion_matrix\n",
    "confusion_matrix = confusion_matrix(y_test, y_pred)\n",
    "print(confusion_matrix)"
   ]
  },
  {
   "cell_type": "code",
   "execution_count": 57,
   "metadata": {},
   "outputs": [
    {
     "name": "stdout",
     "output_type": "stream",
     "text": [
      "              precision    recall  f1-score   support\n",
      "\n",
      "           0       0.68      0.56      0.61     98647\n",
      "           1       0.63      0.73      0.67     98660\n",
      "\n",
      "    accuracy                           0.65    197307\n",
      "   macro avg       0.65      0.65      0.64    197307\n",
      "weighted avg       0.65      0.65      0.64    197307\n",
      "\n"
     ]
    }
   ],
   "source": [
    "from sklearn.metrics import classification_report\n",
    "print(classification_report(y_test, y_pred))"
   ]
  },
  {
   "cell_type": "code",
   "execution_count": 58,
   "metadata": {},
   "outputs": [
    {
     "name": "stderr",
     "output_type": "stream",
     "text": [
      "C:\\ProgramData\\Anaconda3\\lib\\site-packages\\matplotlib\\figure.py:2366: UserWarning: This figure includes Axes that are not compatible with tight_layout, so results might be incorrect.\n",
      "  warnings.warn(\"This figure includes Axes that are not compatible \"\n",
      "C:\\ProgramData\\Anaconda3\\lib\\site-packages\\matplotlib\\figure.py:2366: UserWarning: This figure includes Axes that are not compatible with tight_layout, so results might be incorrect.\n",
      "  warnings.warn(\"This figure includes Axes that are not compatible \"\n"
     ]
    },
    {
     "data": {
      "image/png": "[encoded data removed]",
      "text/plain": [
       "<Figure size 432x288 with 1 Axes>"
      ]
     },
     "metadata": {
      "needs_background": "light"
     },
     "output_type": "display_data"
    }
   ],
   "source": [
    "from sklearn.metrics import roc_auc_score\n",
    "from sklearn.metrics import roc_curve\n",
    "logit_roc_auc = roc_auc_score(y_test, logreg.predict(X_test))\n",
    "fpr, tpr, thresholds = roc_curve(y_test, logreg.predict_proba(X_test)[:,1])\n",
    "plt.figure()\n",
    "plt.plot(fpr, tpr, label='Logistic Regression (area = %0.2f)' % logit_roc_auc)\n",
    "plt.plot([0, 1], [0, 1],'r--')\n",
    "plt.xlim([0.0, 1.0])\n",
    "plt.ylim([0.0, 1.05])\n",
    "plt.xlabel('False Positive Rate')\n",
    "plt.ylabel('True Positive Rate')\n",
    "plt.title('Receiver operating characteristic')\n",
    "plt.legend(loc=\"lower right\")\n",
    "plt.savefig('Log_ROC')\n",
    "plt.show()"
   ]
  },
  {
   "cell_type": "code",
   "execution_count": null,
   "metadata": {},
   "outputs": [],
   "source": []
  }
 ],
 "metadata": {
  "kernelspec": {
   "display_name": "Python 3",
   "language": "python",
   "name": "python3"
  },
  "language_info": {
   "codemirror_mode": {
    "name": "ipython",
    "version": 3
   },
   "file_extension": ".py",
   "mimetype": "text/x-python",
   "name": "python",
   "nbconvert_exporter": "python",
   "pygments_lexer": "ipython3",
   "version": "3.7.1"
  }
 },
 "nbformat": 4,
 "nbformat_minor": 2
}

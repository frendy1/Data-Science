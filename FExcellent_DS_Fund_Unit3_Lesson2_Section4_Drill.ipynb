{
 "cells": [
  {
   "cell_type": "markdown",
   "metadata": {},
   "source": [
    "Unit 3 Lesson 2 Section 4 Drill"
   ]
  },
  {
   "cell_type": "code",
   "execution_count": 7,
   "metadata": {},
   "outputs": [],
   "source": [
    "from scipy.stats import binom\n",
    "from scipy import math\n",
    "import numpy as np\n",
    "import pandas as pd\n"
   ]
  },
  {
   "cell_type": "markdown",
   "metadata": {},
   "source": [
    "Problem 1 - Calculate the probability of flipping a balanced coin four times and getting each pattern: HTTH, HHHH and TTHH."
   ]
  },
  {
   "cell_type": "code",
   "execution_count": 36,
   "metadata": {},
   "outputs": [
    {
     "name": "stdout",
     "output_type": "stream",
     "text": [
      "0.3750000000000001\n"
     ]
    }
   ],
   "source": [
    "#Pattern:  \"HTTH\" verification of binomial function\n",
    "\n",
    "def do_binomial(flips, heads, prob):\n",
    "    lambda do_factorial: math.factorial(x)\n",
    "    combination = do_factorial(flips)/(do_factorial(heads)*do_factorial(flips-heads))\n",
    "    res = combination * (prob**(heads)) * (prob**(flips-heads))\n",
    "    return res\n",
    "prob_res = do_binomial(4,2,0.5)\n",
    "\n",
    "#Short approach\n",
    "heads = 2\n",
    "flips, prob = 4, 0.5\n",
    "binom_res = binom(flips, prob)\n",
    "print(binom_res.pmf(heads))\n"
   ]
  },
  {
   "cell_type": "code",
   "execution_count": 37,
   "metadata": {},
   "outputs": [
    {
     "name": "stdout",
     "output_type": "stream",
     "text": [
      "0.0625\n"
     ]
    }
   ],
   "source": [
    "#   HHHH case\n",
    "heads = 4\n",
    "flips, prob = 4, 0.5\n",
    "binom_res = binom(flips, prob)\n",
    "print(binom_res.pmf(heads))\n",
    "\n"
   ]
  },
  {
   "cell_type": "code",
   "execution_count": 38,
   "metadata": {},
   "outputs": [
    {
     "name": "stdout",
     "output_type": "stream",
     "text": [
      "0.3750000000000001\n"
     ]
    }
   ],
   "source": [
    "#   TTHH case\n",
    "heads = 2\n",
    "flips, prob = 4, 0.5\n",
    "binom_res = binom(flips, prob)\n",
    "print(binom_res.pmf(heads))"
   ]
  },
  {
   "cell_type": "markdown",
   "metadata": {},
   "source": [
    "Problem 2 - If a list of people has 24 women and 21 men, then the probability of choosing a man from the list is 21/45. What is the probability of not choosing a man?"
   ]
  },
  {
   "cell_type": "code",
   "execution_count": 49,
   "metadata": {},
   "outputs": [
    {
     "data": {
      "text/plain": [
       "0.5333333333333333"
      ]
     },
     "execution_count": 49,
     "metadata": {},
     "output_type": "execute_result"
    }
   ],
   "source": [
    "\n",
    "total_count = 45\n",
    "man_count = 21\n",
    "prob_men = 21/45\n",
    "prob_women = 1 - prob_men\n",
    "prob_women\n"
   ]
  },
  {
   "cell_type": "markdown",
   "metadata": {},
   "source": [
    "Problem 3 - The probability that Bernice will travel by plane sometime in the next year is 10%. The probability of a plane crash at any time is .005%. What is the probability that Bernice will be in a plane crash sometime in the next year?"
   ]
  },
  {
   "cell_type": "code",
   "execution_count": 55,
   "metadata": {},
   "outputs": [
    {
     "name": "stdout",
     "output_type": "stream",
     "text": [
      "0.0005\n"
     ]
    }
   ],
   "source": [
    "travel_prob = 1 * 10**-1\n",
    "crash_prob = 5 * 10**-5\n",
    "bernice_travel_crash_prob = travel_prob * crash_prob * 100\n",
    "print(bernice_travel_crash_prob) "
   ]
  },
  {
   "cell_type": "markdown",
   "metadata": {},
   "source": [
    "Problem 4. A data scientist wants to study the behavior of users on the company website. Each time a user clicks on a link on the website, there is a 5% chance that the user will be asked to complete a short survey about their behavior on the website. The data scientist uses the survey data to conclude that, on average, users spend 15 minutes surfing the company website before moving on to other things. What is wrong with this conclusion?"
   ]
  },
  {
   "cell_type": "markdown",
   "metadata": {},
   "source": [
    "DS needs a random sample, for results to be valid (and for generalization)."
   ]
  }
 ],
 "metadata": {
  "kernelspec": {
   "display_name": "Python 3",
   "language": "python",
   "name": "python3"
  },
  "language_info": {
   "codemirror_mode": {
    "name": "ipython",
    "version": 3
   },
   "file_extension": ".py",
   "mimetype": "text/x-python",
   "name": "python",
   "nbconvert_exporter": "python",
   "pygments_lexer": "ipython3",
   "version": "3.7.1"
  }
 },
 "nbformat": 4,
 "nbformat_minor": 2
}

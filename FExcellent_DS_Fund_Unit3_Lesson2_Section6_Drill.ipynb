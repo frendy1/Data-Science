{
 "cells": [
  {
   "cell_type": "markdown",
   "metadata": {},
   "source": [
    "Unit 3 Lesson 2 Section 6 Drill"
   ]
  },
  {
   "cell_type": "markdown",
   "metadata": {},
   "source": [
    "A diagnostic test has a 98% probability of giving a positive result when applied to a person suffering from Thripshaw's Disease, and 10% probability of giving a (false) positive when applied to a non-sufferer. It is estimated that 0.5 % of the population are sufferers. Suppose that the test is now administered to a person whose disease status is unknown. Calculate the probability that the test will:\n",
    "\n",
    "Be positive\n",
    "Correctly diagnose a sufferer of Thripshaw's\n",
    "Correctly identify a non-sufferer of Thripshaw's\n",
    "Misclassify the person"
   ]
  },
  {
   "cell_type": "markdown",
   "metadata": {},
   "source": [
    "Baye's Rule:\n",
    "\n",
    "P(A | B) = P(B | A) * P(A) / P(B)\n",
    "or\n",
    "P(A | B) = P(B | A) * P(A) / [P(A)*P(B|A) + P(A~)*P(B|A~)]\n",
    "\n",
    "P(B) = [P(A)*P(B|A) + P(A~)*P(B|A~)]\n",
    "\n",
    "Model:\n",
    "\n",
    "Probability of sufferer = P(A) = 0.005\n",
    "Probability of positive result when testing sufferer = P(B|A) = .98\n",
    "Probability of positive result when testing non-sufferer = P(B|A~) = 0.1\n",
    "\n",
    "Probability of non-sufferer = P(A~) = 0.995\n",
    "Probability of negative result when testing non-sufferer = P(B~ | A~) = 0.9\n",
    "Probability of negative result when testing sufferer = P(B~|A) = 0.02\n",
    "\n",
    "\n",
    "Answer:\n",
    "\n",
    "Be positive:\n",
    "P(B) = [P(A)*P(B|A) + P(A~)*P(B|A~)] = (0.005 * 0.98) + (0.995 * 0.1)\n",
    "\n",
    "Correctly diagnose a sufferer of Thripshaw's:\n",
    "P(A | B) = P(B | A) * P(A) / [P(A)*P(B|A) + P(A~)*P(B|A~)] = (0.98 * 0.005)/[(0.005 * 0.98) + (0.995 * 0.1)]\n",
    "\n",
    "Correctly identify a non-sufferer of Thripshaw's:\n",
    "P(A~|B~) = P(B~|A~) * P(A~) / [P(A~)*P(B~|A~) + P(A)*P(B~|A)] = (0.9 * 0.995)/[(0.995 * 0.9) + (0.005 * 0.02)]\n",
    "\n",
    "Misclassify the person:\n",
    "Probability of positive result when testing non-sufferer + Probability of negative result when testing sufferer = P(B|A~) + P(B~|A) = 0.1 + 0.02\n",
    "\n",
    "\n"
   ]
  },
  {
   "cell_type": "code",
   "execution_count": 9,
   "metadata": {},
   "outputs": [
    {
     "name": "stdout",
     "output_type": "stream",
     "text": [
      "\n",
      "Be positive: 0.1044\n",
      "\n",
      "Correctly diagnose a sufferer: 0.046934865900383135\n",
      "\n",
      "Correctly identify a non-sufferer: 0.9998883430102724\n",
      "\n",
      "Misclassify the person: 0.12000000000000001\n"
     ]
    }
   ],
   "source": [
    "#Answer:\n",
    "\n",
    "#Be positive:\n",
    "pos = (0.005 * 0.98) + (0.995 * 0.1)\n",
    "\n",
    "\n",
    "#Correctly diagnose a sufferer of Thripshaw's: \n",
    "suff = (0.98 * 0.005)/((0.005 * 0.98) + (0.995 * 0.1))\n",
    "\n",
    "\n",
    "#Correctly identify a non-sufferer of Thripshaw's:\n",
    "non_suff = (0.9 * 0.995)/((0.995 * 0.9) + (0.005 * 0.02))\n",
    "\n",
    "\n",
    "#Misclassify the person\n",
    "wrong_class = 0.1 + 0.02\n",
    "\n",
    "\n",
    "print('\\nBe positive: ' + str(pos))\n",
    "print('\\nCorrectly diagnose a sufferer: ' + str(suff))\n",
    "print('\\nCorrectly identify a non-sufferer: ' + str(non_suff))\n",
    "print('\\nMisclassify the person: ' + str(wrong_class))\n"
   ]
  }
 ],
 "metadata": {
  "kernelspec": {
   "display_name": "Python 3",
   "language": "python",
   "name": "python3"
  },
  "language_info": {
   "codemirror_mode": {
    "name": "ipython",
    "version": 3
   },
   "file_extension": ".py",
   "mimetype": "text/x-python",
   "name": "python",
   "nbconvert_exporter": "python",
   "pygments_lexer": "ipython3",
   "version": "3.7.1"
  }
 },
 "nbformat": 4,
 "nbformat_minor": 2
}

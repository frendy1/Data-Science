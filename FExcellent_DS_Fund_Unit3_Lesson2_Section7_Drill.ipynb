{
 "cells": [
  {
   "cell_type": "markdown",
   "metadata": {},
   "source": [
    "FExcellent_DS_Fund_Unit3_Lesson2_Section7_Drill"
   ]
  },
  {
   "cell_type": "markdown",
   "metadata": {},
   "source": [
    "In each of the scenarios, find possible shortcomings of the theoretical or actual data sources to answer the given question. What could be done to either adjust the analysis or reframe the question so that you can answer it accurately?\n",
    "\n",
    "Data Source: Amsterdam availability data scraped from AirBnB on December 24th. Question: What are the popular neighborhoods in Amsterdam?\n",
    "\n",
    "Answer:\n",
    "December 24th data would be biased, since this time period could be peak season for tourists. Reframe question: What are the popular neighborhoods in Amsterdam during Christmas season?\n",
    "\n",
    "Data Source: Mental health services use on September 12, 2001 in San Francisco, CA and New York City, NY. Question: How do patterns of mental health service use vary between cities?\n",
    "\n",
    "Answer:\n",
    "The size and demographics of the cities could be a source of bias.  Could reframe question or adjust analysis as: How do patterns of mental health service use vary by specific demographic characteristics of San Francisco, CA and New York City, NY?\n",
    "\n",
    "Data Source: Armenian Pub Survey. Question: What are the most common reasons Armenians visit local pubs? \n",
    "\n",
    "Answer:\n",
    "This question sounds more like a problem statement than a survey question. Could reframe with more specific validated and reliable survey question choices for respondents to choose from. \n"
   ]
  }
 ],
 "metadata": {
  "kernelspec": {
   "display_name": "Python 3",
   "language": "python",
   "name": "python3"
  },
  "language_info": {
   "codemirror_mode": {
    "name": "ipython",
    "version": 3
   },
   "file_extension": ".py",
   "mimetype": "text/x-python",
   "name": "python",
   "nbconvert_exporter": "python",
   "pygments_lexer": "ipython3",
   "version": "3.7.1"
  }
 },
 "nbformat": 4,
 "nbformat_minor": 2
}
